{
 "cells": [
  {
   "cell_type": "code",
   "execution_count": 38,
   "metadata": {},
   "outputs": [],
   "source": [
    "import pandas as pd\n",
    "import numpy as np"
   ]
  },
  {
   "cell_type": "markdown",
   "metadata": {},
   "source": [
    "### Table(표) : DataFrame 다루기"
   ]
  },
  {
   "cell_type": "markdown",
   "metadata": {},
   "source": [
    "table 구성요소  \n",
    "1) column  \n",
    "2) index  \n",
    "3) value  "
   ]
  },
  {
   "cell_type": "markdown",
   "metadata": {},
   "source": [
    "DataFrame 과 Series  \n",
    "1) Series : 열 1개의 데이터 = Vector  \n",
    "2) DataFrame : 여러 열(Series)의 데이터 = Matrix  "
   ]
  },
  {
   "cell_type": "code",
   "execution_count": 39,
   "metadata": {},
   "outputs": [
    {
     "data": {
      "text/plain": [
       "0    1\n",
       "1    2\n",
       "2    3\n",
       "3    4\n",
       "4    5\n",
       "dtype: int64"
      ]
     },
     "execution_count": 39,
     "metadata": {},
     "output_type": "execute_result"
    }
   ],
   "source": [
    "series = pd.Series([1,2,3,4,5])\n",
    "series"
   ]
  },
  {
   "cell_type": "code",
   "execution_count": 40,
   "metadata": {},
   "outputs": [
    {
     "data": {
      "text/plain": [
       "DatetimeIndex(['2019-07-22', '2019-07-23', '2019-07-24', '2019-07-25',\n",
       "               '2019-07-26', '2019-07-27'],\n",
       "              dtype='datetime64[ns]', freq='D')"
      ]
     },
     "execution_count": 40,
     "metadata": {},
     "output_type": "execute_result"
    }
   ],
   "source": [
    "dates = pd.date_range('20190722',periods=6)\n",
    "dates"
   ]
  },
  {
   "cell_type": "code",
   "execution_count": 41,
   "metadata": {},
   "outputs": [
    {
     "data": {
      "text/plain": [
       "DatetimeIndex(['2019-07-31', '2019-08-31', '2019-09-30', '2019-10-31',\n",
       "               '2019-11-30', '2019-12-31'],\n",
       "              dtype='datetime64[ns]', freq='M')"
      ]
     },
     "execution_count": 41,
     "metadata": {},
     "output_type": "execute_result"
    }
   ],
   "source": [
    "dates = pd.date_range('20190722',periods=6,freq='M')\n",
    "dates"
   ]
  },
  {
   "cell_type": "code",
   "execution_count": 42,
   "metadata": {},
   "outputs": [
    {
     "data": {
      "text/plain": [
       "DatetimeIndex(['2019-12-31', '2020-12-31', '2021-12-31', '2022-12-31',\n",
       "               '2023-12-31', '2024-12-31'],\n",
       "              dtype='datetime64[ns]', freq='A-DEC')"
      ]
     },
     "execution_count": 42,
     "metadata": {},
     "output_type": "execute_result"
    }
   ],
   "source": [
    "dates = pd.date_range('20190722',periods=6,freq='Y')\n",
    "dates"
   ]
  },
  {
   "cell_type": "code",
   "execution_count": 91,
   "metadata": {},
   "outputs": [
    {
     "data": {
      "text/html": [
       "<div>\n",
       "<style scoped>\n",
       "    .dataframe tbody tr th:only-of-type {\n",
       "        vertical-align: middle;\n",
       "    }\n",
       "\n",
       "    .dataframe tbody tr th {\n",
       "        vertical-align: top;\n",
       "    }\n",
       "\n",
       "    .dataframe thead th {\n",
       "        text-align: right;\n",
       "    }\n",
       "</style>\n",
       "<table border=\"1\" class=\"dataframe\">\n",
       "  <thead>\n",
       "    <tr style=\"text-align: right;\">\n",
       "      <th></th>\n",
       "      <th>0</th>\n",
       "      <th>1</th>\n",
       "      <th>2</th>\n",
       "      <th>3</th>\n",
       "      <th>4</th>\n",
       "    </tr>\n",
       "  </thead>\n",
       "  <tbody>\n",
       "    <tr>\n",
       "      <th>0</th>\n",
       "      <td>1.208330</td>\n",
       "      <td>1.011886</td>\n",
       "      <td>-1.161955</td>\n",
       "      <td>-0.393703</td>\n",
       "      <td>0.505423</td>\n",
       "    </tr>\n",
       "    <tr>\n",
       "      <th>1</th>\n",
       "      <td>-1.404040</td>\n",
       "      <td>0.588904</td>\n",
       "      <td>0.268049</td>\n",
       "      <td>-1.421652</td>\n",
       "      <td>-0.488485</td>\n",
       "    </tr>\n",
       "    <tr>\n",
       "      <th>2</th>\n",
       "      <td>0.897553</td>\n",
       "      <td>1.412535</td>\n",
       "      <td>-0.191918</td>\n",
       "      <td>0.346974</td>\n",
       "      <td>1.576244</td>\n",
       "    </tr>\n",
       "    <tr>\n",
       "      <th>3</th>\n",
       "      <td>1.484367</td>\n",
       "      <td>1.498754</td>\n",
       "      <td>-0.926068</td>\n",
       "      <td>-0.382077</td>\n",
       "      <td>0.015172</td>\n",
       "    </tr>\n",
       "    <tr>\n",
       "      <th>4</th>\n",
       "      <td>-0.055114</td>\n",
       "      <td>-0.258506</td>\n",
       "      <td>0.257058</td>\n",
       "      <td>-0.353065</td>\n",
       "      <td>-0.971080</td>\n",
       "    </tr>\n",
       "    <tr>\n",
       "      <th>5</th>\n",
       "      <td>0.525537</td>\n",
       "      <td>1.240392</td>\n",
       "      <td>0.704286</td>\n",
       "      <td>-1.033593</td>\n",
       "      <td>-0.904283</td>\n",
       "    </tr>\n",
       "  </tbody>\n",
       "</table>\n",
       "</div>"
      ],
      "text/plain": [
       "          0         1         2         3         4\n",
       "0  1.208330  1.011886 -1.161955 -0.393703  0.505423\n",
       "1 -1.404040  0.588904  0.268049 -1.421652 -0.488485\n",
       "2  0.897553  1.412535 -0.191918  0.346974  1.576244\n",
       "3  1.484367  1.498754 -0.926068 -0.382077  0.015172\n",
       "4 -0.055114 -0.258506  0.257058 -0.353065 -0.971080\n",
       "5  0.525537  1.240392  0.704286 -1.033593 -0.904283"
      ]
     },
     "execution_count": 91,
     "metadata": {},
     "output_type": "execute_result"
    }
   ],
   "source": [
    "# DataFrame = Matrix\n",
    "import numpy as np\n",
    "rand_arr = np.random.randn(6,5)    # 6행 5열\n",
    "rand_df = pd.DataFrame(rand_arr)\n",
    "rand_df"
   ]
  },
  {
   "cell_type": "code",
   "execution_count": 92,
   "metadata": {},
   "outputs": [
    {
     "data": {
      "text/html": [
       "<div>\n",
       "<style scoped>\n",
       "    .dataframe tbody tr th:only-of-type {\n",
       "        vertical-align: middle;\n",
       "    }\n",
       "\n",
       "    .dataframe tbody tr th {\n",
       "        vertical-align: top;\n",
       "    }\n",
       "\n",
       "    .dataframe thead th {\n",
       "        text-align: right;\n",
       "    }\n",
       "</style>\n",
       "<table border=\"1\" class=\"dataframe\">\n",
       "  <thead>\n",
       "    <tr style=\"text-align: right;\">\n",
       "      <th></th>\n",
       "      <th>A</th>\n",
       "      <th>B</th>\n",
       "      <th>C</th>\n",
       "      <th>D</th>\n",
       "      <th>E</th>\n",
       "    </tr>\n",
       "  </thead>\n",
       "  <tbody>\n",
       "    <tr>\n",
       "      <th>0</th>\n",
       "      <td>1.208330</td>\n",
       "      <td>1.011886</td>\n",
       "      <td>-1.161955</td>\n",
       "      <td>-0.393703</td>\n",
       "      <td>0.505423</td>\n",
       "    </tr>\n",
       "    <tr>\n",
       "      <th>1</th>\n",
       "      <td>-1.404040</td>\n",
       "      <td>0.588904</td>\n",
       "      <td>0.268049</td>\n",
       "      <td>-1.421652</td>\n",
       "      <td>-0.488485</td>\n",
       "    </tr>\n",
       "    <tr>\n",
       "      <th>2</th>\n",
       "      <td>0.897553</td>\n",
       "      <td>1.412535</td>\n",
       "      <td>-0.191918</td>\n",
       "      <td>0.346974</td>\n",
       "      <td>1.576244</td>\n",
       "    </tr>\n",
       "    <tr>\n",
       "      <th>3</th>\n",
       "      <td>1.484367</td>\n",
       "      <td>1.498754</td>\n",
       "      <td>-0.926068</td>\n",
       "      <td>-0.382077</td>\n",
       "      <td>0.015172</td>\n",
       "    </tr>\n",
       "    <tr>\n",
       "      <th>4</th>\n",
       "      <td>-0.055114</td>\n",
       "      <td>-0.258506</td>\n",
       "      <td>0.257058</td>\n",
       "      <td>-0.353065</td>\n",
       "      <td>-0.971080</td>\n",
       "    </tr>\n",
       "    <tr>\n",
       "      <th>5</th>\n",
       "      <td>0.525537</td>\n",
       "      <td>1.240392</td>\n",
       "      <td>0.704286</td>\n",
       "      <td>-1.033593</td>\n",
       "      <td>-0.904283</td>\n",
       "    </tr>\n",
       "  </tbody>\n",
       "</table>\n",
       "</div>"
      ],
      "text/plain": [
       "          A         B         C         D         E\n",
       "0  1.208330  1.011886 -1.161955 -0.393703  0.505423\n",
       "1 -1.404040  0.588904  0.268049 -1.421652 -0.488485\n",
       "2  0.897553  1.412535 -0.191918  0.346974  1.576244\n",
       "3  1.484367  1.498754 -0.926068 -0.382077  0.015172\n",
       "4 -0.055114 -0.258506  0.257058 -0.353065 -0.971080\n",
       "5  0.525537  1.240392  0.704286 -1.033593 -0.904283"
      ]
     },
     "execution_count": 92,
     "metadata": {},
     "output_type": "execute_result"
    }
   ],
   "source": [
    "rand_df = pd.DataFrame(rand_arr, columns=['A','B','C','D','E'])   # 열번호 생성\n",
    "rand_df"
   ]
  },
  {
   "cell_type": "code",
   "execution_count": 93,
   "metadata": {},
   "outputs": [
    {
     "data": {
      "text/html": [
       "<div>\n",
       "<style scoped>\n",
       "    .dataframe tbody tr th:only-of-type {\n",
       "        vertical-align: middle;\n",
       "    }\n",
       "\n",
       "    .dataframe tbody tr th {\n",
       "        vertical-align: top;\n",
       "    }\n",
       "\n",
       "    .dataframe thead th {\n",
       "        text-align: right;\n",
       "    }\n",
       "</style>\n",
       "<table border=\"1\" class=\"dataframe\">\n",
       "  <thead>\n",
       "    <tr style=\"text-align: right;\">\n",
       "      <th></th>\n",
       "      <th>0</th>\n",
       "      <th>1</th>\n",
       "      <th>2</th>\n",
       "      <th>3</th>\n",
       "      <th>4</th>\n",
       "    </tr>\n",
       "  </thead>\n",
       "  <tbody>\n",
       "    <tr>\n",
       "      <th>2019-12-31</th>\n",
       "      <td>1.208330</td>\n",
       "      <td>1.011886</td>\n",
       "      <td>-1.161955</td>\n",
       "      <td>-0.393703</td>\n",
       "      <td>0.505423</td>\n",
       "    </tr>\n",
       "    <tr>\n",
       "      <th>2020-12-31</th>\n",
       "      <td>-1.404040</td>\n",
       "      <td>0.588904</td>\n",
       "      <td>0.268049</td>\n",
       "      <td>-1.421652</td>\n",
       "      <td>-0.488485</td>\n",
       "    </tr>\n",
       "    <tr>\n",
       "      <th>2021-12-31</th>\n",
       "      <td>0.897553</td>\n",
       "      <td>1.412535</td>\n",
       "      <td>-0.191918</td>\n",
       "      <td>0.346974</td>\n",
       "      <td>1.576244</td>\n",
       "    </tr>\n",
       "    <tr>\n",
       "      <th>2022-12-31</th>\n",
       "      <td>1.484367</td>\n",
       "      <td>1.498754</td>\n",
       "      <td>-0.926068</td>\n",
       "      <td>-0.382077</td>\n",
       "      <td>0.015172</td>\n",
       "    </tr>\n",
       "    <tr>\n",
       "      <th>2023-12-31</th>\n",
       "      <td>-0.055114</td>\n",
       "      <td>-0.258506</td>\n",
       "      <td>0.257058</td>\n",
       "      <td>-0.353065</td>\n",
       "      <td>-0.971080</td>\n",
       "    </tr>\n",
       "    <tr>\n",
       "      <th>2024-12-31</th>\n",
       "      <td>0.525537</td>\n",
       "      <td>1.240392</td>\n",
       "      <td>0.704286</td>\n",
       "      <td>-1.033593</td>\n",
       "      <td>-0.904283</td>\n",
       "    </tr>\n",
       "  </tbody>\n",
       "</table>\n",
       "</div>"
      ],
      "text/plain": [
       "                   0         1         2         3         4\n",
       "2019-12-31  1.208330  1.011886 -1.161955 -0.393703  0.505423\n",
       "2020-12-31 -1.404040  0.588904  0.268049 -1.421652 -0.488485\n",
       "2021-12-31  0.897553  1.412535 -0.191918  0.346974  1.576244\n",
       "2022-12-31  1.484367  1.498754 -0.926068 -0.382077  0.015172\n",
       "2023-12-31 -0.055114 -0.258506  0.257058 -0.353065 -0.971080\n",
       "2024-12-31  0.525537  1.240392  0.704286 -1.033593 -0.904283"
      ]
     },
     "execution_count": 93,
     "metadata": {},
     "output_type": "execute_result"
    }
   ],
   "source": [
    "rand_df = pd.DataFrame(rand_arr, index = dates)   # 행번호 생성\n",
    "rand_df"
   ]
  },
  {
   "cell_type": "code",
   "execution_count": 71,
   "metadata": {},
   "outputs": [
    {
     "data": {
      "text/html": [
       "<div>\n",
       "<style scoped>\n",
       "    .dataframe tbody tr th:only-of-type {\n",
       "        vertical-align: middle;\n",
       "    }\n",
       "\n",
       "    .dataframe tbody tr th {\n",
       "        vertical-align: top;\n",
       "    }\n",
       "\n",
       "    .dataframe thead th {\n",
       "        text-align: right;\n",
       "    }\n",
       "</style>\n",
       "<table border=\"1\" class=\"dataframe\">\n",
       "  <thead>\n",
       "    <tr style=\"text-align: right;\">\n",
       "      <th></th>\n",
       "      <th>title</th>\n",
       "      <th>date</th>\n",
       "      <th>genre</th>\n",
       "    </tr>\n",
       "  </thead>\n",
       "  <tbody>\n",
       "    <tr>\n",
       "      <th>0</th>\n",
       "      <td>spiderman</td>\n",
       "      <td>201907</td>\n",
       "      <td>adventure</td>\n",
       "    </tr>\n",
       "    <tr>\n",
       "      <th>1</th>\n",
       "      <td>aladin</td>\n",
       "      <td>201906</td>\n",
       "      <td>adventure</td>\n",
       "    </tr>\n",
       "    <tr>\n",
       "      <th>2</th>\n",
       "      <td>toystory</td>\n",
       "      <td>2019066</td>\n",
       "      <td>adventure</td>\n",
       "    </tr>\n",
       "  </tbody>\n",
       "</table>\n",
       "</div>"
      ],
      "text/plain": [
       "       title     date      genre\n",
       "0  spiderman   201907  adventure\n",
       "1     aladin   201906  adventure\n",
       "2   toystory  2019066  adventure"
      ]
     },
     "execution_count": 71,
     "metadata": {},
     "output_type": "execute_result"
    }
   ],
   "source": [
    "data_dict = {\n",
    "    'title' : ['spiderman','aladin','toystory','lionking'],    # dictionary로 표 만들기\n",
    "    'date' : ['201907', '201906', '201906','201908'],\n",
    "    'genre' : 'adventure'   # 동일한거면 한번에 처리 가능\n",
    "}\n",
    "\n",
    "movie_df = pd.DataFrame(data_dict)\n",
    "movie_df"
   ]
  },
  {
   "cell_type": "markdown",
   "metadata": {},
   "source": [
    "###  View df\n",
    "특정 값만 보고싶을 때"
   ]
  },
  {
   "cell_type": "code",
   "execution_count": 47,
   "metadata": {},
   "outputs": [
    {
     "data": {
      "text/html": [
       "<div>\n",
       "<style scoped>\n",
       "    .dataframe tbody tr th:only-of-type {\n",
       "        vertical-align: middle;\n",
       "    }\n",
       "\n",
       "    .dataframe tbody tr th {\n",
       "        vertical-align: top;\n",
       "    }\n",
       "\n",
       "    .dataframe thead th {\n",
       "        text-align: right;\n",
       "    }\n",
       "</style>\n",
       "<table border=\"1\" class=\"dataframe\">\n",
       "  <thead>\n",
       "    <tr style=\"text-align: right;\">\n",
       "      <th></th>\n",
       "      <th>0</th>\n",
       "      <th>1</th>\n",
       "      <th>2</th>\n",
       "      <th>3</th>\n",
       "      <th>4</th>\n",
       "    </tr>\n",
       "  </thead>\n",
       "  <tbody>\n",
       "    <tr>\n",
       "      <th>2019-12-31</th>\n",
       "      <td>1.247957</td>\n",
       "      <td>-0.175489</td>\n",
       "      <td>0.122880</td>\n",
       "      <td>-0.187882</td>\n",
       "      <td>-1.067238</td>\n",
       "    </tr>\n",
       "    <tr>\n",
       "      <th>2020-12-31</th>\n",
       "      <td>-1.184195</td>\n",
       "      <td>1.941764</td>\n",
       "      <td>1.285361</td>\n",
       "      <td>-0.944400</td>\n",
       "      <td>0.470984</td>\n",
       "    </tr>\n",
       "  </tbody>\n",
       "</table>\n",
       "</div>"
      ],
      "text/plain": [
       "                   0         1         2         3         4\n",
       "2019-12-31  1.247957 -0.175489  0.122880 -0.187882 -1.067238\n",
       "2020-12-31 -1.184195  1.941764  1.285361 -0.944400  0.470984"
      ]
     },
     "execution_count": 47,
     "metadata": {},
     "output_type": "execute_result"
    }
   ],
   "source": [
    "rand_df.head(2)   # 상위 데이터 n개만 view; default = 5"
   ]
  },
  {
   "cell_type": "code",
   "execution_count": 48,
   "metadata": {},
   "outputs": [
    {
     "data": {
      "text/html": [
       "<div>\n",
       "<style scoped>\n",
       "    .dataframe tbody tr th:only-of-type {\n",
       "        vertical-align: middle;\n",
       "    }\n",
       "\n",
       "    .dataframe tbody tr th {\n",
       "        vertical-align: top;\n",
       "    }\n",
       "\n",
       "    .dataframe thead th {\n",
       "        text-align: right;\n",
       "    }\n",
       "</style>\n",
       "<table border=\"1\" class=\"dataframe\">\n",
       "  <thead>\n",
       "    <tr style=\"text-align: right;\">\n",
       "      <th></th>\n",
       "      <th>0</th>\n",
       "      <th>1</th>\n",
       "      <th>2</th>\n",
       "      <th>3</th>\n",
       "      <th>4</th>\n",
       "    </tr>\n",
       "  </thead>\n",
       "  <tbody>\n",
       "    <tr>\n",
       "      <th>2022-12-31</th>\n",
       "      <td>-0.291709</td>\n",
       "      <td>-2.263200</td>\n",
       "      <td>-1.425231</td>\n",
       "      <td>1.502700</td>\n",
       "      <td>1.301604</td>\n",
       "    </tr>\n",
       "    <tr>\n",
       "      <th>2023-12-31</th>\n",
       "      <td>0.212590</td>\n",
       "      <td>2.912726</td>\n",
       "      <td>-0.959716</td>\n",
       "      <td>-0.126368</td>\n",
       "      <td>0.127932</td>\n",
       "    </tr>\n",
       "    <tr>\n",
       "      <th>2024-12-31</th>\n",
       "      <td>-0.553040</td>\n",
       "      <td>0.619846</td>\n",
       "      <td>0.074003</td>\n",
       "      <td>-0.342298</td>\n",
       "      <td>1.015677</td>\n",
       "    </tr>\n",
       "  </tbody>\n",
       "</table>\n",
       "</div>"
      ],
      "text/plain": [
       "                   0         1         2         3         4\n",
       "2022-12-31 -0.291709 -2.263200 -1.425231  1.502700  1.301604\n",
       "2023-12-31  0.212590  2.912726 -0.959716 -0.126368  0.127932\n",
       "2024-12-31 -0.553040  0.619846  0.074003 -0.342298  1.015677"
      ]
     },
     "execution_count": 48,
     "metadata": {},
     "output_type": "execute_result"
    }
   ],
   "source": [
    "rand_df.tail(3) # 하위 n개의 data"
   ]
  },
  {
   "cell_type": "code",
   "execution_count": 49,
   "metadata": {},
   "outputs": [
    {
     "data": {
      "text/plain": [
       "DatetimeIndex(['2019-12-31', '2020-12-31', '2021-12-31', '2022-12-31',\n",
       "               '2023-12-31', '2024-12-31'],\n",
       "              dtype='datetime64[ns]', freq='A-DEC')"
      ]
     },
     "execution_count": 49,
     "metadata": {},
     "output_type": "execute_result"
    }
   ],
   "source": [
    "rand_df.index"
   ]
  },
  {
   "cell_type": "code",
   "execution_count": 50,
   "metadata": {},
   "outputs": [
    {
     "data": {
      "text/plain": [
       "RangeIndex(start=0, stop=5, step=1)"
      ]
     },
     "execution_count": 50,
     "metadata": {},
     "output_type": "execute_result"
    }
   ],
   "source": [
    "rand_df.columns"
   ]
  },
  {
   "cell_type": "code",
   "execution_count": 51,
   "metadata": {},
   "outputs": [
    {
     "data": {
      "text/plain": [
       "array([[ 1.24795716e+00, -1.75488921e-01,  1.22879952e-01,\n",
       "        -1.87881810e-01, -1.06723802e+00],\n",
       "       [-1.18419498e+00,  1.94176439e+00,  1.28536142e+00,\n",
       "        -9.44399774e-01,  4.70983970e-01],\n",
       "       [ 2.48128562e+00,  1.98590817e-03,  2.80592647e+00,\n",
       "         6.76298285e-01, -9.87510112e-01],\n",
       "       [-2.91709079e-01, -2.26319989e+00, -1.42523098e+00,\n",
       "         1.50269998e+00,  1.30160426e+00],\n",
       "       [ 2.12590482e-01,  2.91272637e+00, -9.59716197e-01,\n",
       "        -1.26368247e-01,  1.27932307e-01],\n",
       "       [-5.53039676e-01,  6.19846089e-01,  7.40034638e-02,\n",
       "        -3.42298211e-01,  1.01567728e+00]])"
      ]
     },
     "execution_count": 51,
     "metadata": {},
     "output_type": "execute_result"
    }
   ],
   "source": [
    "rand_df.values"
   ]
  },
  {
   "cell_type": "code",
   "execution_count": 52,
   "metadata": {},
   "outputs": [
    {
     "data": {
      "text/html": [
       "<div>\n",
       "<style scoped>\n",
       "    .dataframe tbody tr th:only-of-type {\n",
       "        vertical-align: middle;\n",
       "    }\n",
       "\n",
       "    .dataframe tbody tr th {\n",
       "        vertical-align: top;\n",
       "    }\n",
       "\n",
       "    .dataframe thead th {\n",
       "        text-align: right;\n",
       "    }\n",
       "</style>\n",
       "<table border=\"1\" class=\"dataframe\">\n",
       "  <thead>\n",
       "    <tr style=\"text-align: right;\">\n",
       "      <th></th>\n",
       "      <th>0</th>\n",
       "      <th>1</th>\n",
       "      <th>2</th>\n",
       "      <th>3</th>\n",
       "      <th>4</th>\n",
       "    </tr>\n",
       "  </thead>\n",
       "  <tbody>\n",
       "    <tr>\n",
       "      <th>count</th>\n",
       "      <td>6.000000</td>\n",
       "      <td>6.000000</td>\n",
       "      <td>6.000000</td>\n",
       "      <td>6.000000</td>\n",
       "      <td>6.000000</td>\n",
       "    </tr>\n",
       "    <tr>\n",
       "      <th>mean</th>\n",
       "      <td>0.318815</td>\n",
       "      <td>0.506272</td>\n",
       "      <td>0.317204</td>\n",
       "      <td>0.096342</td>\n",
       "      <td>0.143575</td>\n",
       "    </tr>\n",
       "    <tr>\n",
       "      <th>std</th>\n",
       "      <td>1.337369</td>\n",
       "      <td>1.802977</td>\n",
       "      <td>1.542374</td>\n",
       "      <td>0.862569</td>\n",
       "      <td>0.995435</td>\n",
       "    </tr>\n",
       "    <tr>\n",
       "      <th>min</th>\n",
       "      <td>-1.184195</td>\n",
       "      <td>-2.263200</td>\n",
       "      <td>-1.425231</td>\n",
       "      <td>-0.944400</td>\n",
       "      <td>-1.067238</td>\n",
       "    </tr>\n",
       "    <tr>\n",
       "      <th>25%</th>\n",
       "      <td>-0.487707</td>\n",
       "      <td>-0.131120</td>\n",
       "      <td>-0.701286</td>\n",
       "      <td>-0.303694</td>\n",
       "      <td>-0.708650</td>\n",
       "    </tr>\n",
       "    <tr>\n",
       "      <th>50%</th>\n",
       "      <td>-0.039559</td>\n",
       "      <td>0.310916</td>\n",
       "      <td>0.098442</td>\n",
       "      <td>-0.157125</td>\n",
       "      <td>0.299458</td>\n",
       "    </tr>\n",
       "    <tr>\n",
       "      <th>75%</th>\n",
       "      <td>0.989115</td>\n",
       "      <td>1.611285</td>\n",
       "      <td>0.994741</td>\n",
       "      <td>0.475632</td>\n",
       "      <td>0.879504</td>\n",
       "    </tr>\n",
       "    <tr>\n",
       "      <th>max</th>\n",
       "      <td>2.481286</td>\n",
       "      <td>2.912726</td>\n",
       "      <td>2.805926</td>\n",
       "      <td>1.502700</td>\n",
       "      <td>1.301604</td>\n",
       "    </tr>\n",
       "  </tbody>\n",
       "</table>\n",
       "</div>"
      ],
      "text/plain": [
       "              0         1         2         3         4\n",
       "count  6.000000  6.000000  6.000000  6.000000  6.000000\n",
       "mean   0.318815  0.506272  0.317204  0.096342  0.143575\n",
       "std    1.337369  1.802977  1.542374  0.862569  0.995435\n",
       "min   -1.184195 -2.263200 -1.425231 -0.944400 -1.067238\n",
       "25%   -0.487707 -0.131120 -0.701286 -0.303694 -0.708650\n",
       "50%   -0.039559  0.310916  0.098442 -0.157125  0.299458\n",
       "75%    0.989115  1.611285  0.994741  0.475632  0.879504\n",
       "max    2.481286  2.912726  2.805926  1.502700  1.301604"
      ]
     },
     "execution_count": 52,
     "metadata": {},
     "output_type": "execute_result"
    }
   ],
   "source": [
    "# 통계 데이터 view\n",
    "\n",
    "rand_df.describe() #number type에 대한 통계수치"
   ]
  },
  {
   "cell_type": "code",
   "execution_count": 53,
   "metadata": {},
   "outputs": [
    {
     "data": {
      "text/html": [
       "<div>\n",
       "<style scoped>\n",
       "    .dataframe tbody tr th:only-of-type {\n",
       "        vertical-align: middle;\n",
       "    }\n",
       "\n",
       "    .dataframe tbody tr th {\n",
       "        vertical-align: top;\n",
       "    }\n",
       "\n",
       "    .dataframe thead th {\n",
       "        text-align: right;\n",
       "    }\n",
       "</style>\n",
       "<table border=\"1\" class=\"dataframe\">\n",
       "  <thead>\n",
       "    <tr style=\"text-align: right;\">\n",
       "      <th></th>\n",
       "      <th>0</th>\n",
       "      <th>1</th>\n",
       "      <th>2</th>\n",
       "      <th>3</th>\n",
       "      <th>4</th>\n",
       "    </tr>\n",
       "  </thead>\n",
       "  <tbody>\n",
       "    <tr>\n",
       "      <th>count</th>\n",
       "      <td>6.000000</td>\n",
       "      <td>6.000000</td>\n",
       "      <td>6.000000</td>\n",
       "      <td>6.000000</td>\n",
       "      <td>6.000000</td>\n",
       "    </tr>\n",
       "    <tr>\n",
       "      <th>mean</th>\n",
       "      <td>0.318815</td>\n",
       "      <td>0.506272</td>\n",
       "      <td>0.317204</td>\n",
       "      <td>0.096342</td>\n",
       "      <td>0.143575</td>\n",
       "    </tr>\n",
       "    <tr>\n",
       "      <th>std</th>\n",
       "      <td>1.337369</td>\n",
       "      <td>1.802977</td>\n",
       "      <td>1.542374</td>\n",
       "      <td>0.862569</td>\n",
       "      <td>0.995435</td>\n",
       "    </tr>\n",
       "    <tr>\n",
       "      <th>min</th>\n",
       "      <td>-1.184195</td>\n",
       "      <td>-2.263200</td>\n",
       "      <td>-1.425231</td>\n",
       "      <td>-0.944400</td>\n",
       "      <td>-1.067238</td>\n",
       "    </tr>\n",
       "    <tr>\n",
       "      <th>25%</th>\n",
       "      <td>-0.487707</td>\n",
       "      <td>-0.131120</td>\n",
       "      <td>-0.701286</td>\n",
       "      <td>-0.303694</td>\n",
       "      <td>-0.708650</td>\n",
       "    </tr>\n",
       "    <tr>\n",
       "      <th>50%</th>\n",
       "      <td>-0.039559</td>\n",
       "      <td>0.310916</td>\n",
       "      <td>0.098442</td>\n",
       "      <td>-0.157125</td>\n",
       "      <td>0.299458</td>\n",
       "    </tr>\n",
       "    <tr>\n",
       "      <th>75%</th>\n",
       "      <td>0.989115</td>\n",
       "      <td>1.611285</td>\n",
       "      <td>0.994741</td>\n",
       "      <td>0.475632</td>\n",
       "      <td>0.879504</td>\n",
       "    </tr>\n",
       "    <tr>\n",
       "      <th>max</th>\n",
       "      <td>2.481286</td>\n",
       "      <td>2.912726</td>\n",
       "      <td>2.805926</td>\n",
       "      <td>1.502700</td>\n",
       "      <td>1.301604</td>\n",
       "    </tr>\n",
       "  </tbody>\n",
       "</table>\n",
       "</div>"
      ],
      "text/plain": [
       "              0         1         2         3         4\n",
       "count  6.000000  6.000000  6.000000  6.000000  6.000000\n",
       "mean   0.318815  0.506272  0.317204  0.096342  0.143575\n",
       "std    1.337369  1.802977  1.542374  0.862569  0.995435\n",
       "min   -1.184195 -2.263200 -1.425231 -0.944400 -1.067238\n",
       "25%   -0.487707 -0.131120 -0.701286 -0.303694 -0.708650\n",
       "50%   -0.039559  0.310916  0.098442 -0.157125  0.299458\n",
       "75%    0.989115  1.611285  0.994741  0.475632  0.879504\n",
       "max    2.481286  2.912726  2.805926  1.502700  1.301604"
      ]
     },
     "execution_count": 53,
     "metadata": {},
     "output_type": "execute_result"
    }
   ],
   "source": [
    "rand_df.describe(include='all')  # number + object type에 대한 통계 수치"
   ]
  },
  {
   "cell_type": "markdown",
   "metadata": {},
   "source": [
    "rand_df.describe(include='o') #object"
   ]
  },
  {
   "cell_type": "code",
   "execution_count": 54,
   "metadata": {},
   "outputs": [
    {
     "name": "stdout",
     "output_type": "stream",
     "text": [
      "<class 'pandas.core.frame.DataFrame'>\n",
      "DatetimeIndex: 6 entries, 2019-12-31 to 2024-12-31\n",
      "Freq: A-DEC\n",
      "Data columns (total 5 columns):\n",
      "0    6 non-null float64\n",
      "1    6 non-null float64\n",
      "2    6 non-null float64\n",
      "3    6 non-null float64\n",
      "4    6 non-null float64\n",
      "dtypes: float64(5)\n",
      "memory usage: 288.0 bytes\n"
     ]
    }
   ],
   "source": [
    "rand_df.info()   # column별 type, 결측치(누락된 data) 여부 등"
   ]
  },
  {
   "cell_type": "markdown",
   "metadata": {},
   "source": [
    "###  select df\n",
    "원하는 부분만 지정\n"
   ]
  },
  {
   "cell_type": "code",
   "execution_count": 85,
   "metadata": {},
   "outputs": [
    {
     "data": {
      "text/html": [
       "<div>\n",
       "<style scoped>\n",
       "    .dataframe tbody tr th:only-of-type {\n",
       "        vertical-align: middle;\n",
       "    }\n",
       "\n",
       "    .dataframe tbody tr th {\n",
       "        vertical-align: top;\n",
       "    }\n",
       "\n",
       "    .dataframe thead th {\n",
       "        text-align: right;\n",
       "    }\n",
       "</style>\n",
       "<table border=\"1\" class=\"dataframe\">\n",
       "  <thead>\n",
       "    <tr style=\"text-align: right;\">\n",
       "      <th></th>\n",
       "      <th>C</th>\n",
       "      <th>B</th>\n",
       "      <th>A</th>\n",
       "    </tr>\n",
       "  </thead>\n",
       "  <tbody>\n",
       "    <tr>\n",
       "      <th>0</th>\n",
       "      <td>-0.685153</td>\n",
       "      <td>-0.285581</td>\n",
       "      <td>2.297640</td>\n",
       "    </tr>\n",
       "    <tr>\n",
       "      <th>1</th>\n",
       "      <td>-0.165885</td>\n",
       "      <td>-2.132239</td>\n",
       "      <td>-0.203001</td>\n",
       "    </tr>\n",
       "    <tr>\n",
       "      <th>2</th>\n",
       "      <td>0.615159</td>\n",
       "      <td>0.225542</td>\n",
       "      <td>1.195571</td>\n",
       "    </tr>\n",
       "    <tr>\n",
       "      <th>3</th>\n",
       "      <td>1.452040</td>\n",
       "      <td>-1.030323</td>\n",
       "      <td>-1.746197</td>\n",
       "    </tr>\n",
       "    <tr>\n",
       "      <th>4</th>\n",
       "      <td>0.617447</td>\n",
       "      <td>0.459854</td>\n",
       "      <td>1.038118</td>\n",
       "    </tr>\n",
       "    <tr>\n",
       "      <th>5</th>\n",
       "      <td>-0.795040</td>\n",
       "      <td>0.432319</td>\n",
       "      <td>-1.136700</td>\n",
       "    </tr>\n",
       "  </tbody>\n",
       "</table>\n",
       "</div>"
      ],
      "text/plain": [
       "          C         B         A\n",
       "0 -0.685153 -0.285581  2.297640\n",
       "1 -0.165885 -2.132239 -0.203001\n",
       "2  0.615159  0.225542  1.195571\n",
       "3  1.452040 -1.030323 -1.746197\n",
       "4  0.617447  0.459854  1.038118\n",
       "5 -0.795040  0.432319 -1.136700"
      ]
     },
     "execution_count": 85,
     "metadata": {},
     "output_type": "execute_result"
    }
   ],
   "source": [
    "# 'C''B''A' column만 지정\n",
    "\n",
    "rand_df[['C','B','A']]"
   ]
  },
  {
   "cell_type": "code",
   "execution_count": 87,
   "metadata": {},
   "outputs": [
    {
     "data": {
      "text/plain": [
       "0    2.297640\n",
       "1   -0.285581\n",
       "2   -0.685153\n",
       "3   -0.949812\n",
       "4    0.000707\n",
       "Name: 2019-12-31 00:00:00, dtype: float64"
      ]
     },
     "execution_count": 87,
     "metadata": {},
     "output_type": "execute_result"
    }
   ],
   "source": [
    "# 원하는 index name으로 접근\n",
    "rand_df.loc['2019-12-31']"
   ]
  },
  {
   "cell_type": "code",
   "execution_count": 95,
   "metadata": {},
   "outputs": [
    {
     "data": {
      "text/plain": [
       "0    1.208330\n",
       "1    1.011886\n",
       "2   -1.161955\n",
       "3   -0.393703\n",
       "4    0.505423\n",
       "Name: 2019-12-31 00:00:00, dtype: float64"
      ]
     },
     "execution_count": 95,
     "metadata": {},
     "output_type": "execute_result"
    }
   ],
   "source": [
    "#원하는 index 순서로 접근\n",
    "rand_df.iloc[0]"
   ]
  },
  {
   "cell_type": "code",
   "execution_count": 97,
   "metadata": {},
   "outputs": [
    {
     "name": "stderr",
     "output_type": "stream",
     "text": [
      "C:\\Users\\USER\\Anaconda3\\envs\\ssml\\lib\\site-packages\\ipykernel_launcher.py:3: DeprecationWarning: \n",
      ".ix is deprecated. Please use\n",
      ".loc for label based indexing or\n",
      ".iloc for positional indexing\n",
      "\n",
      "See the documentation here:\n",
      "http://pandas.pydata.org/pandas-docs/stable/indexing.html#ix-indexer-is-deprecated\n",
      "  This is separate from the ipykernel package so we can avoid doing imports until\n"
     ]
    },
    {
     "data": {
      "text/plain": [
       "0   -1.404040\n",
       "1    0.588904\n",
       "2    0.268049\n",
       "3   -1.421652\n",
       "4   -0.488485\n",
       "Name: 2020-12-31 00:00:00, dtype: float64"
      ]
     },
     "execution_count": 97,
     "metadata": {},
     "output_type": "execute_result"
    }
   ],
   "source": [
    "# 원하는 index 순서 name 둘다\n",
    "\n",
    "rand_df.ix[1]"
   ]
  },
  {
   "cell_type": "markdown",
   "metadata": {},
   "source": [
    "###  슬라이싱"
   ]
  },
  {
   "cell_type": "code",
   "execution_count": 99,
   "metadata": {},
   "outputs": [
    {
     "data": {
      "text/html": [
       "<div>\n",
       "<style scoped>\n",
       "    .dataframe tbody tr th:only-of-type {\n",
       "        vertical-align: middle;\n",
       "    }\n",
       "\n",
       "    .dataframe tbody tr th {\n",
       "        vertical-align: top;\n",
       "    }\n",
       "\n",
       "    .dataframe thead th {\n",
       "        text-align: right;\n",
       "    }\n",
       "</style>\n",
       "<table border=\"1\" class=\"dataframe\">\n",
       "  <thead>\n",
       "    <tr style=\"text-align: right;\">\n",
       "      <th></th>\n",
       "      <th>A</th>\n",
       "      <th>B</th>\n",
       "      <th>C</th>\n",
       "      <th>D</th>\n",
       "      <th>E</th>\n",
       "    </tr>\n",
       "  </thead>\n",
       "  <tbody>\n",
       "    <tr>\n",
       "      <th>2019-12-31</th>\n",
       "      <td>-0.870936</td>\n",
       "      <td>2.123292</td>\n",
       "      <td>0.322832</td>\n",
       "      <td>2.092232</td>\n",
       "      <td>-0.197661</td>\n",
       "    </tr>\n",
       "    <tr>\n",
       "      <th>2020-12-31</th>\n",
       "      <td>-0.000612</td>\n",
       "      <td>-0.250169</td>\n",
       "      <td>0.794553</td>\n",
       "      <td>0.099730</td>\n",
       "      <td>-0.335944</td>\n",
       "    </tr>\n",
       "    <tr>\n",
       "      <th>2021-12-31</th>\n",
       "      <td>-0.228272</td>\n",
       "      <td>-2.718769</td>\n",
       "      <td>-0.599729</td>\n",
       "      <td>-1.187615</td>\n",
       "      <td>-0.267063</td>\n",
       "    </tr>\n",
       "    <tr>\n",
       "      <th>2022-12-31</th>\n",
       "      <td>-0.179670</td>\n",
       "      <td>-0.215688</td>\n",
       "      <td>0.425677</td>\n",
       "      <td>-1.205162</td>\n",
       "      <td>-0.757144</td>\n",
       "    </tr>\n",
       "    <tr>\n",
       "      <th>2023-12-31</th>\n",
       "      <td>1.460256</td>\n",
       "      <td>0.119037</td>\n",
       "      <td>0.858328</td>\n",
       "      <td>-1.624851</td>\n",
       "      <td>1.749011</td>\n",
       "    </tr>\n",
       "    <tr>\n",
       "      <th>2024-12-31</th>\n",
       "      <td>-1.300788</td>\n",
       "      <td>0.823355</td>\n",
       "      <td>0.268968</td>\n",
       "      <td>-0.621051</td>\n",
       "      <td>0.452138</td>\n",
       "    </tr>\n",
       "  </tbody>\n",
       "</table>\n",
       "</div>"
      ],
      "text/plain": [
       "                   A         B         C         D         E\n",
       "2019-12-31 -0.870936  2.123292  0.322832  2.092232 -0.197661\n",
       "2020-12-31 -0.000612 -0.250169  0.794553  0.099730 -0.335944\n",
       "2021-12-31 -0.228272 -2.718769 -0.599729 -1.187615 -0.267063\n",
       "2022-12-31 -0.179670 -0.215688  0.425677 -1.205162 -0.757144\n",
       "2023-12-31  1.460256  0.119037  0.858328 -1.624851  1.749011\n",
       "2024-12-31 -1.300788  0.823355  0.268968 -0.621051  0.452138"
      ]
     },
     "execution_count": 99,
     "metadata": {},
     "output_type": "execute_result"
    }
   ],
   "source": [
    "# DataFrame = Matrix\n",
    "import numpy as np\n",
    "rand_arr = np.random.randn(6,5)    # 6행 5열\n",
    "rand_df = pd.DataFrame(rand_arr, columns=['A','B','C','D','E'],index = dates)\n",
    "rand_df"
   ]
  },
  {
   "cell_type": "code",
   "execution_count": 104,
   "metadata": {},
   "outputs": [
    {
     "data": {
      "text/plain": [
       "['B', 'C', 'D']"
      ]
     },
     "execution_count": 104,
     "metadata": {},
     "output_type": "execute_result"
    }
   ],
   "source": [
    "col = list(rand_df)[1:4]  # BCD\n",
    "col"
   ]
  },
  {
   "cell_type": "code",
   "execution_count": 105,
   "metadata": {},
   "outputs": [
    {
     "data": {
      "text/html": [
       "<div>\n",
       "<style scoped>\n",
       "    .dataframe tbody tr th:only-of-type {\n",
       "        vertical-align: middle;\n",
       "    }\n",
       "\n",
       "    .dataframe tbody tr th {\n",
       "        vertical-align: top;\n",
       "    }\n",
       "\n",
       "    .dataframe thead th {\n",
       "        text-align: right;\n",
       "    }\n",
       "</style>\n",
       "<table border=\"1\" class=\"dataframe\">\n",
       "  <thead>\n",
       "    <tr style=\"text-align: right;\">\n",
       "      <th></th>\n",
       "      <th>B</th>\n",
       "      <th>C</th>\n",
       "      <th>D</th>\n",
       "    </tr>\n",
       "  </thead>\n",
       "  <tbody>\n",
       "    <tr>\n",
       "      <th>2019-12-31</th>\n",
       "      <td>2.123292</td>\n",
       "      <td>0.322832</td>\n",
       "      <td>2.092232</td>\n",
       "    </tr>\n",
       "    <tr>\n",
       "      <th>2020-12-31</th>\n",
       "      <td>-0.250169</td>\n",
       "      <td>0.794553</td>\n",
       "      <td>0.099730</td>\n",
       "    </tr>\n",
       "    <tr>\n",
       "      <th>2021-12-31</th>\n",
       "      <td>-2.718769</td>\n",
       "      <td>-0.599729</td>\n",
       "      <td>-1.187615</td>\n",
       "    </tr>\n",
       "    <tr>\n",
       "      <th>2022-12-31</th>\n",
       "      <td>-0.215688</td>\n",
       "      <td>0.425677</td>\n",
       "      <td>-1.205162</td>\n",
       "    </tr>\n",
       "    <tr>\n",
       "      <th>2023-12-31</th>\n",
       "      <td>0.119037</td>\n",
       "      <td>0.858328</td>\n",
       "      <td>-1.624851</td>\n",
       "    </tr>\n",
       "    <tr>\n",
       "      <th>2024-12-31</th>\n",
       "      <td>0.823355</td>\n",
       "      <td>0.268968</td>\n",
       "      <td>-0.621051</td>\n",
       "    </tr>\n",
       "  </tbody>\n",
       "</table>\n",
       "</div>"
      ],
      "text/plain": [
       "                   B         C         D\n",
       "2019-12-31  2.123292  0.322832  2.092232\n",
       "2020-12-31 -0.250169  0.794553  0.099730\n",
       "2021-12-31 -2.718769 -0.599729 -1.187615\n",
       "2022-12-31 -0.215688  0.425677 -1.205162\n",
       "2023-12-31  0.119037  0.858328 -1.624851\n",
       "2024-12-31  0.823355  0.268968 -0.621051"
      ]
     },
     "execution_count": 105,
     "metadata": {},
     "output_type": "execute_result"
    }
   ],
   "source": [
    "rand_df[col]"
   ]
  },
  {
   "cell_type": "code",
   "execution_count": 108,
   "metadata": {},
   "outputs": [
    {
     "data": {
      "text/plain": [
       "Index(['A', 'B', 'C', 'D'], dtype='object')"
      ]
     },
     "execution_count": 108,
     "metadata": {},
     "output_type": "execute_result"
    }
   ],
   "source": [
    "col1 = rand_df.columns[:4]\n",
    "col1"
   ]
  },
  {
   "cell_type": "code",
   "execution_count": 109,
   "metadata": {},
   "outputs": [
    {
     "data": {
      "text/html": [
       "<div>\n",
       "<style scoped>\n",
       "    .dataframe tbody tr th:only-of-type {\n",
       "        vertical-align: middle;\n",
       "    }\n",
       "\n",
       "    .dataframe tbody tr th {\n",
       "        vertical-align: top;\n",
       "    }\n",
       "\n",
       "    .dataframe thead th {\n",
       "        text-align: right;\n",
       "    }\n",
       "</style>\n",
       "<table border=\"1\" class=\"dataframe\">\n",
       "  <thead>\n",
       "    <tr style=\"text-align: right;\">\n",
       "      <th></th>\n",
       "      <th>A</th>\n",
       "      <th>B</th>\n",
       "      <th>C</th>\n",
       "      <th>D</th>\n",
       "    </tr>\n",
       "  </thead>\n",
       "  <tbody>\n",
       "    <tr>\n",
       "      <th>2019-12-31</th>\n",
       "      <td>-0.870936</td>\n",
       "      <td>2.123292</td>\n",
       "      <td>0.322832</td>\n",
       "      <td>2.092232</td>\n",
       "    </tr>\n",
       "    <tr>\n",
       "      <th>2020-12-31</th>\n",
       "      <td>-0.000612</td>\n",
       "      <td>-0.250169</td>\n",
       "      <td>0.794553</td>\n",
       "      <td>0.099730</td>\n",
       "    </tr>\n",
       "    <tr>\n",
       "      <th>2021-12-31</th>\n",
       "      <td>-0.228272</td>\n",
       "      <td>-2.718769</td>\n",
       "      <td>-0.599729</td>\n",
       "      <td>-1.187615</td>\n",
       "    </tr>\n",
       "    <tr>\n",
       "      <th>2022-12-31</th>\n",
       "      <td>-0.179670</td>\n",
       "      <td>-0.215688</td>\n",
       "      <td>0.425677</td>\n",
       "      <td>-1.205162</td>\n",
       "    </tr>\n",
       "    <tr>\n",
       "      <th>2023-12-31</th>\n",
       "      <td>1.460256</td>\n",
       "      <td>0.119037</td>\n",
       "      <td>0.858328</td>\n",
       "      <td>-1.624851</td>\n",
       "    </tr>\n",
       "    <tr>\n",
       "      <th>2024-12-31</th>\n",
       "      <td>-1.300788</td>\n",
       "      <td>0.823355</td>\n",
       "      <td>0.268968</td>\n",
       "      <td>-0.621051</td>\n",
       "    </tr>\n",
       "  </tbody>\n",
       "</table>\n",
       "</div>"
      ],
      "text/plain": [
       "                   A         B         C         D\n",
       "2019-12-31 -0.870936  2.123292  0.322832  2.092232\n",
       "2020-12-31 -0.000612 -0.250169  0.794553  0.099730\n",
       "2021-12-31 -0.228272 -2.718769 -0.599729 -1.187615\n",
       "2022-12-31 -0.179670 -0.215688  0.425677 -1.205162\n",
       "2023-12-31  1.460256  0.119037  0.858328 -1.624851\n",
       "2024-12-31 -1.300788  0.823355  0.268968 -0.621051"
      ]
     },
     "execution_count": 109,
     "metadata": {},
     "output_type": "execute_result"
    }
   ],
   "source": [
    "rand_df[col1]"
   ]
  },
  {
   "cell_type": "code",
   "execution_count": 111,
   "metadata": {},
   "outputs": [
    {
     "data": {
      "text/html": [
       "<div>\n",
       "<style scoped>\n",
       "    .dataframe tbody tr th:only-of-type {\n",
       "        vertical-align: middle;\n",
       "    }\n",
       "\n",
       "    .dataframe tbody tr th {\n",
       "        vertical-align: top;\n",
       "    }\n",
       "\n",
       "    .dataframe thead th {\n",
       "        text-align: right;\n",
       "    }\n",
       "</style>\n",
       "<table border=\"1\" class=\"dataframe\">\n",
       "  <thead>\n",
       "    <tr style=\"text-align: right;\">\n",
       "      <th></th>\n",
       "      <th>A</th>\n",
       "      <th>B</th>\n",
       "      <th>C</th>\n",
       "      <th>D</th>\n",
       "      <th>E</th>\n",
       "    </tr>\n",
       "  </thead>\n",
       "  <tbody>\n",
       "    <tr>\n",
       "      <th>2019-12-31</th>\n",
       "      <td>-0.870936</td>\n",
       "      <td>2.123292</td>\n",
       "      <td>0.322832</td>\n",
       "      <td>2.092232</td>\n",
       "      <td>-0.197661</td>\n",
       "    </tr>\n",
       "    <tr>\n",
       "      <th>2020-12-31</th>\n",
       "      <td>-0.000612</td>\n",
       "      <td>-0.250169</td>\n",
       "      <td>0.794553</td>\n",
       "      <td>0.099730</td>\n",
       "      <td>-0.335944</td>\n",
       "    </tr>\n",
       "    <tr>\n",
       "      <th>2021-12-31</th>\n",
       "      <td>-0.228272</td>\n",
       "      <td>-2.718769</td>\n",
       "      <td>-0.599729</td>\n",
       "      <td>-1.187615</td>\n",
       "      <td>-0.267063</td>\n",
       "    </tr>\n",
       "  </tbody>\n",
       "</table>\n",
       "</div>"
      ],
      "text/plain": [
       "                   A         B         C         D         E\n",
       "2019-12-31 -0.870936  2.123292  0.322832  2.092232 -0.197661\n",
       "2020-12-31 -0.000612 -0.250169  0.794553  0.099730 -0.335944\n",
       "2021-12-31 -0.228272 -2.718769 -0.599729 -1.187615 -0.267063"
      ]
     },
     "execution_count": 111,
     "metadata": {},
     "output_type": "execute_result"
    }
   ],
   "source": [
    "rand_df.loc['2019-12-31':'2021-12-31']    # 이름으로 접근할때는 해당하는 것 포함"
   ]
  },
  {
   "cell_type": "code",
   "execution_count": 114,
   "metadata": {},
   "outputs": [
    {
     "name": "stderr",
     "output_type": "stream",
     "text": [
      "C:\\Users\\USER\\Anaconda3\\envs\\ssml\\lib\\site-packages\\ipykernel_launcher.py:1: DeprecationWarning: \n",
      ".ix is deprecated. Please use\n",
      ".loc for label based indexing or\n",
      ".iloc for positional indexing\n",
      "\n",
      "See the documentation here:\n",
      "http://pandas.pydata.org/pandas-docs/stable/indexing.html#ix-indexer-is-deprecated\n",
      "  \"\"\"Entry point for launching an IPython kernel.\n"
     ]
    },
    {
     "data": {
      "text/html": [
       "<div>\n",
       "<style scoped>\n",
       "    .dataframe tbody tr th:only-of-type {\n",
       "        vertical-align: middle;\n",
       "    }\n",
       "\n",
       "    .dataframe tbody tr th {\n",
       "        vertical-align: top;\n",
       "    }\n",
       "\n",
       "    .dataframe thead th {\n",
       "        text-align: right;\n",
       "    }\n",
       "</style>\n",
       "<table border=\"1\" class=\"dataframe\">\n",
       "  <thead>\n",
       "    <tr style=\"text-align: right;\">\n",
       "      <th></th>\n",
       "      <th>A</th>\n",
       "      <th>B</th>\n",
       "      <th>C</th>\n",
       "      <th>D</th>\n",
       "      <th>E</th>\n",
       "    </tr>\n",
       "  </thead>\n",
       "  <tbody>\n",
       "    <tr>\n",
       "      <th>2019-12-31</th>\n",
       "      <td>-0.870936</td>\n",
       "      <td>2.123292</td>\n",
       "      <td>0.322832</td>\n",
       "      <td>2.092232</td>\n",
       "      <td>-0.197661</td>\n",
       "    </tr>\n",
       "    <tr>\n",
       "      <th>2020-12-31</th>\n",
       "      <td>-0.000612</td>\n",
       "      <td>-0.250169</td>\n",
       "      <td>0.794553</td>\n",
       "      <td>0.099730</td>\n",
       "      <td>-0.335944</td>\n",
       "    </tr>\n",
       "    <tr>\n",
       "      <th>2021-12-31</th>\n",
       "      <td>-0.228272</td>\n",
       "      <td>-2.718769</td>\n",
       "      <td>-0.599729</td>\n",
       "      <td>-1.187615</td>\n",
       "      <td>-0.267063</td>\n",
       "    </tr>\n",
       "  </tbody>\n",
       "</table>\n",
       "</div>"
      ],
      "text/plain": [
       "                   A         B         C         D         E\n",
       "2019-12-31 -0.870936  2.123292  0.322832  2.092232 -0.197661\n",
       "2020-12-31 -0.000612 -0.250169  0.794553  0.099730 -0.335944\n",
       "2021-12-31 -0.228272 -2.718769 -0.599729 -1.187615 -0.267063"
      ]
     },
     "execution_count": 114,
     "metadata": {},
     "output_type": "execute_result"
    }
   ],
   "source": [
    "rand_df.ix['2019-12-31':'2021-12-31']   #loc"
   ]
  },
  {
   "cell_type": "code",
   "execution_count": 112,
   "metadata": {},
   "outputs": [
    {
     "data": {
      "text/html": [
       "<div>\n",
       "<style scoped>\n",
       "    .dataframe tbody tr th:only-of-type {\n",
       "        vertical-align: middle;\n",
       "    }\n",
       "\n",
       "    .dataframe tbody tr th {\n",
       "        vertical-align: top;\n",
       "    }\n",
       "\n",
       "    .dataframe thead th {\n",
       "        text-align: right;\n",
       "    }\n",
       "</style>\n",
       "<table border=\"1\" class=\"dataframe\">\n",
       "  <thead>\n",
       "    <tr style=\"text-align: right;\">\n",
       "      <th></th>\n",
       "      <th>A</th>\n",
       "      <th>B</th>\n",
       "      <th>C</th>\n",
       "      <th>D</th>\n",
       "      <th>E</th>\n",
       "    </tr>\n",
       "  </thead>\n",
       "  <tbody>\n",
       "    <tr>\n",
       "      <th>2019-12-31</th>\n",
       "      <td>-0.870936</td>\n",
       "      <td>2.123292</td>\n",
       "      <td>0.322832</td>\n",
       "      <td>2.092232</td>\n",
       "      <td>-0.197661</td>\n",
       "    </tr>\n",
       "    <tr>\n",
       "      <th>2020-12-31</th>\n",
       "      <td>-0.000612</td>\n",
       "      <td>-0.250169</td>\n",
       "      <td>0.794553</td>\n",
       "      <td>0.099730</td>\n",
       "      <td>-0.335944</td>\n",
       "    </tr>\n",
       "    <tr>\n",
       "      <th>2021-12-31</th>\n",
       "      <td>-0.228272</td>\n",
       "      <td>-2.718769</td>\n",
       "      <td>-0.599729</td>\n",
       "      <td>-1.187615</td>\n",
       "      <td>-0.267063</td>\n",
       "    </tr>\n",
       "  </tbody>\n",
       "</table>\n",
       "</div>"
      ],
      "text/plain": [
       "                   A         B         C         D         E\n",
       "2019-12-31 -0.870936  2.123292  0.322832  2.092232 -0.197661\n",
       "2020-12-31 -0.000612 -0.250169  0.794553  0.099730 -0.335944\n",
       "2021-12-31 -0.228272 -2.718769 -0.599729 -1.187615 -0.267063"
      ]
     },
     "execution_count": 112,
     "metadata": {},
     "output_type": "execute_result"
    }
   ],
   "source": [
    "rand_df.iloc[0:3]   #순서로 접근할때는 칼질의 의미로 해당꺼 앞까지"
   ]
  },
  {
   "cell_type": "code",
   "execution_count": 115,
   "metadata": {},
   "outputs": [
    {
     "name": "stderr",
     "output_type": "stream",
     "text": [
      "C:\\Users\\USER\\Anaconda3\\envs\\ssml\\lib\\site-packages\\ipykernel_launcher.py:1: DeprecationWarning: \n",
      ".ix is deprecated. Please use\n",
      ".loc for label based indexing or\n",
      ".iloc for positional indexing\n",
      "\n",
      "See the documentation here:\n",
      "http://pandas.pydata.org/pandas-docs/stable/indexing.html#ix-indexer-is-deprecated\n",
      "  \"\"\"Entry point for launching an IPython kernel.\n"
     ]
    },
    {
     "data": {
      "text/html": [
       "<div>\n",
       "<style scoped>\n",
       "    .dataframe tbody tr th:only-of-type {\n",
       "        vertical-align: middle;\n",
       "    }\n",
       "\n",
       "    .dataframe tbody tr th {\n",
       "        vertical-align: top;\n",
       "    }\n",
       "\n",
       "    .dataframe thead th {\n",
       "        text-align: right;\n",
       "    }\n",
       "</style>\n",
       "<table border=\"1\" class=\"dataframe\">\n",
       "  <thead>\n",
       "    <tr style=\"text-align: right;\">\n",
       "      <th></th>\n",
       "      <th>A</th>\n",
       "      <th>B</th>\n",
       "      <th>C</th>\n",
       "      <th>D</th>\n",
       "      <th>E</th>\n",
       "    </tr>\n",
       "  </thead>\n",
       "  <tbody>\n",
       "    <tr>\n",
       "      <th>2019-12-31</th>\n",
       "      <td>-0.870936</td>\n",
       "      <td>2.123292</td>\n",
       "      <td>0.322832</td>\n",
       "      <td>2.092232</td>\n",
       "      <td>-0.197661</td>\n",
       "    </tr>\n",
       "    <tr>\n",
       "      <th>2020-12-31</th>\n",
       "      <td>-0.000612</td>\n",
       "      <td>-0.250169</td>\n",
       "      <td>0.794553</td>\n",
       "      <td>0.099730</td>\n",
       "      <td>-0.335944</td>\n",
       "    </tr>\n",
       "    <tr>\n",
       "      <th>2021-12-31</th>\n",
       "      <td>-0.228272</td>\n",
       "      <td>-2.718769</td>\n",
       "      <td>-0.599729</td>\n",
       "      <td>-1.187615</td>\n",
       "      <td>-0.267063</td>\n",
       "    </tr>\n",
       "  </tbody>\n",
       "</table>\n",
       "</div>"
      ],
      "text/plain": [
       "                   A         B         C         D         E\n",
       "2019-12-31 -0.870936  2.123292  0.322832  2.092232 -0.197661\n",
       "2020-12-31 -0.000612 -0.250169  0.794553  0.099730 -0.335944\n",
       "2021-12-31 -0.228272 -2.718769 -0.599729 -1.187615 -0.267063"
      ]
     },
     "execution_count": 115,
     "metadata": {},
     "output_type": "execute_result"
    }
   ],
   "source": [
    "rand_df.ix[0:3]   #iloc"
   ]
  },
  {
   "cell_type": "code",
   "execution_count": 116,
   "metadata": {},
   "outputs": [
    {
     "data": {
      "text/html": [
       "<div>\n",
       "<style scoped>\n",
       "    .dataframe tbody tr th:only-of-type {\n",
       "        vertical-align: middle;\n",
       "    }\n",
       "\n",
       "    .dataframe tbody tr th {\n",
       "        vertical-align: top;\n",
       "    }\n",
       "\n",
       "    .dataframe thead th {\n",
       "        text-align: right;\n",
       "    }\n",
       "</style>\n",
       "<table border=\"1\" class=\"dataframe\">\n",
       "  <thead>\n",
       "    <tr style=\"text-align: right;\">\n",
       "      <th></th>\n",
       "      <th>title</th>\n",
       "      <th>date</th>\n",
       "      <th>genre</th>\n",
       "    </tr>\n",
       "  </thead>\n",
       "  <tbody>\n",
       "    <tr>\n",
       "      <th>0</th>\n",
       "      <td>spiderman</td>\n",
       "      <td>201907</td>\n",
       "      <td>adventure</td>\n",
       "    </tr>\n",
       "    <tr>\n",
       "      <th>1</th>\n",
       "      <td>aladin</td>\n",
       "      <td>201906</td>\n",
       "      <td>adventure</td>\n",
       "    </tr>\n",
       "    <tr>\n",
       "      <th>2</th>\n",
       "      <td>toystory</td>\n",
       "      <td>201906</td>\n",
       "      <td>adventure</td>\n",
       "    </tr>\n",
       "    <tr>\n",
       "      <th>3</th>\n",
       "      <td>lionking</td>\n",
       "      <td>201908</td>\n",
       "      <td>adventure</td>\n",
       "    </tr>\n",
       "  </tbody>\n",
       "</table>\n",
       "</div>"
      ],
      "text/plain": [
       "       title    date      genre\n",
       "0  spiderman  201907  adventure\n",
       "1     aladin  201906  adventure\n",
       "2   toystory  201906  adventure\n",
       "3   lionking  201908  adventure"
      ]
     },
     "execution_count": 116,
     "metadata": {},
     "output_type": "execute_result"
    }
   ],
   "source": [
    "data_dict = {\n",
    "    'title' : ['spiderman','aladin','toystory','lionking'],    # dictionary로 표 만들기\n",
    "    'date' : ['201907', '201906', '201906','201908'],\n",
    "    'genre' : 'adventure'   # 동일한거면 한번에 처리 가능\n",
    "}\n",
    "\n",
    "movie_df = pd.DataFrame(data_dict)\n",
    "movie_df"
   ]
  },
  {
   "cell_type": "markdown",
   "metadata": {},
   "source": [
    "movie df의 index를 주목. index를 따로 지정을 안해서 숫자임;   \n",
    "1) loc 사용가능?? (iloc은 사용가능함)  \n",
    "2) ix 사용해 slicing을 한다면?"
   ]
  },
  {
   "cell_type": "code",
   "execution_count": 119,
   "metadata": {},
   "outputs": [
    {
     "data": {
      "text/plain": [
       "title    spiderman\n",
       "date        201907\n",
       "genre    adventure\n",
       "Name: 0, dtype: object"
      ]
     },
     "execution_count": 119,
     "metadata": {},
     "output_type": "execute_result"
    }
   ],
   "source": [
    "movie_df.loc[0]   #index를 따로 지정 안하면 index 숫자 == index name"
   ]
  },
  {
   "cell_type": "code",
   "execution_count": 120,
   "metadata": {},
   "outputs": [
    {
     "data": {
      "text/html": [
       "<div>\n",
       "<style scoped>\n",
       "    .dataframe tbody tr th:only-of-type {\n",
       "        vertical-align: middle;\n",
       "    }\n",
       "\n",
       "    .dataframe tbody tr th {\n",
       "        vertical-align: top;\n",
       "    }\n",
       "\n",
       "    .dataframe thead th {\n",
       "        text-align: right;\n",
       "    }\n",
       "</style>\n",
       "<table border=\"1\" class=\"dataframe\">\n",
       "  <thead>\n",
       "    <tr style=\"text-align: right;\">\n",
       "      <th></th>\n",
       "      <th>title</th>\n",
       "      <th>date</th>\n",
       "      <th>genre</th>\n",
       "    </tr>\n",
       "  </thead>\n",
       "  <tbody>\n",
       "    <tr>\n",
       "      <th>0</th>\n",
       "      <td>spiderman</td>\n",
       "      <td>201907</td>\n",
       "      <td>adventure</td>\n",
       "    </tr>\n",
       "    <tr>\n",
       "      <th>1</th>\n",
       "      <td>aladin</td>\n",
       "      <td>201906</td>\n",
       "      <td>adventure</td>\n",
       "    </tr>\n",
       "    <tr>\n",
       "      <th>2</th>\n",
       "      <td>toystory</td>\n",
       "      <td>201906</td>\n",
       "      <td>adventure</td>\n",
       "    </tr>\n",
       "  </tbody>\n",
       "</table>\n",
       "</div>"
      ],
      "text/plain": [
       "       title    date      genre\n",
       "0  spiderman  201907  adventure\n",
       "1     aladin  201906  adventure\n",
       "2   toystory  201906  adventure"
      ]
     },
     "execution_count": 120,
     "metadata": {},
     "output_type": "execute_result"
    }
   ],
   "source": [
    "movie_df.loc['0':'2']   #name"
   ]
  },
  {
   "cell_type": "code",
   "execution_count": 121,
   "metadata": {},
   "outputs": [
    {
     "data": {
      "text/html": [
       "<div>\n",
       "<style scoped>\n",
       "    .dataframe tbody tr th:only-of-type {\n",
       "        vertical-align: middle;\n",
       "    }\n",
       "\n",
       "    .dataframe tbody tr th {\n",
       "        vertical-align: top;\n",
       "    }\n",
       "\n",
       "    .dataframe thead th {\n",
       "        text-align: right;\n",
       "    }\n",
       "</style>\n",
       "<table border=\"1\" class=\"dataframe\">\n",
       "  <thead>\n",
       "    <tr style=\"text-align: right;\">\n",
       "      <th></th>\n",
       "      <th>title</th>\n",
       "      <th>date</th>\n",
       "      <th>genre</th>\n",
       "    </tr>\n",
       "  </thead>\n",
       "  <tbody>\n",
       "    <tr>\n",
       "      <th>0</th>\n",
       "      <td>spiderman</td>\n",
       "      <td>201907</td>\n",
       "      <td>adventure</td>\n",
       "    </tr>\n",
       "    <tr>\n",
       "      <th>1</th>\n",
       "      <td>aladin</td>\n",
       "      <td>201906</td>\n",
       "      <td>adventure</td>\n",
       "    </tr>\n",
       "  </tbody>\n",
       "</table>\n",
       "</div>"
      ],
      "text/plain": [
       "       title    date      genre\n",
       "0  spiderman  201907  adventure\n",
       "1     aladin  201906  adventure"
      ]
     },
     "execution_count": 121,
     "metadata": {},
     "output_type": "execute_result"
    }
   ],
   "source": [
    "movie_df.iloc[:2]   #순서"
   ]
  },
  {
   "cell_type": "code",
   "execution_count": 124,
   "metadata": {},
   "outputs": [
    {
     "name": "stderr",
     "output_type": "stream",
     "text": [
      "C:\\Users\\USER\\Anaconda3\\envs\\ssml\\lib\\site-packages\\ipykernel_launcher.py:1: DeprecationWarning: \n",
      ".ix is deprecated. Please use\n",
      ".loc for label based indexing or\n",
      ".iloc for positional indexing\n",
      "\n",
      "See the documentation here:\n",
      "http://pandas.pydata.org/pandas-docs/stable/indexing.html#ix-indexer-is-deprecated\n",
      "  \"\"\"Entry point for launching an IPython kernel.\n"
     ]
    },
    {
     "data": {
      "text/html": [
       "<div>\n",
       "<style scoped>\n",
       "    .dataframe tbody tr th:only-of-type {\n",
       "        vertical-align: middle;\n",
       "    }\n",
       "\n",
       "    .dataframe tbody tr th {\n",
       "        vertical-align: top;\n",
       "    }\n",
       "\n",
       "    .dataframe thead th {\n",
       "        text-align: right;\n",
       "    }\n",
       "</style>\n",
       "<table border=\"1\" class=\"dataframe\">\n",
       "  <thead>\n",
       "    <tr style=\"text-align: right;\">\n",
       "      <th></th>\n",
       "      <th>title</th>\n",
       "      <th>date</th>\n",
       "      <th>genre</th>\n",
       "    </tr>\n",
       "  </thead>\n",
       "  <tbody>\n",
       "    <tr>\n",
       "      <th>0</th>\n",
       "      <td>spiderman</td>\n",
       "      <td>201907</td>\n",
       "      <td>adventure</td>\n",
       "    </tr>\n",
       "    <tr>\n",
       "      <th>1</th>\n",
       "      <td>aladin</td>\n",
       "      <td>201906</td>\n",
       "      <td>adventure</td>\n",
       "    </tr>\n",
       "    <tr>\n",
       "      <th>2</th>\n",
       "      <td>toystory</td>\n",
       "      <td>201906</td>\n",
       "      <td>adventure</td>\n",
       "    </tr>\n",
       "  </tbody>\n",
       "</table>\n",
       "</div>"
      ],
      "text/plain": [
       "       title    date      genre\n",
       "0  spiderman  201907  adventure\n",
       "1     aladin  201906  adventure\n",
       "2   toystory  201906  adventure"
      ]
     },
     "execution_count": 124,
     "metadata": {},
     "output_type": "execute_result"
    }
   ],
   "source": [
    "movie_df.ix[:2]    #name = position이 같을때 ix를 쓰면 name 으로 인식한다"
   ]
  },
  {
   "cell_type": "code",
   "execution_count": 126,
   "metadata": {},
   "outputs": [
    {
     "data": {
      "text/html": [
       "<div>\n",
       "<style scoped>\n",
       "    .dataframe tbody tr th:only-of-type {\n",
       "        vertical-align: middle;\n",
       "    }\n",
       "\n",
       "    .dataframe tbody tr th {\n",
       "        vertical-align: top;\n",
       "    }\n",
       "\n",
       "    .dataframe thead th {\n",
       "        text-align: right;\n",
       "    }\n",
       "</style>\n",
       "<table border=\"1\" class=\"dataframe\">\n",
       "  <thead>\n",
       "    <tr style=\"text-align: right;\">\n",
       "      <th></th>\n",
       "      <th>title</th>\n",
       "      <th>date</th>\n",
       "    </tr>\n",
       "  </thead>\n",
       "  <tbody>\n",
       "    <tr>\n",
       "      <th>0</th>\n",
       "      <td>spiderman</td>\n",
       "      <td>201907</td>\n",
       "    </tr>\n",
       "    <tr>\n",
       "      <th>1</th>\n",
       "      <td>aladin</td>\n",
       "      <td>201906</td>\n",
       "    </tr>\n",
       "    <tr>\n",
       "      <th>2</th>\n",
       "      <td>toystory</td>\n",
       "      <td>201906</td>\n",
       "    </tr>\n",
       "  </tbody>\n",
       "</table>\n",
       "</div>"
      ],
      "text/plain": [
       "       title    date\n",
       "0  spiderman  201907\n",
       "1     aladin  201906\n",
       "2   toystory  201906"
      ]
     },
     "execution_count": 126,
     "metadata": {},
     "output_type": "execute_result"
    }
   ],
   "source": [
    "# 행과 열을 같이 지정\n",
    "movie_df.loc[:2,['title','date']]"
   ]
  },
  {
   "cell_type": "code",
   "execution_count": 129,
   "metadata": {},
   "outputs": [
    {
     "data": {
      "text/plain": [
       "2019-12-31   -0.870936\n",
       "2020-12-31   -0.000612\n",
       "2021-12-31   -0.228272\n",
       "2022-12-31   -0.179670\n",
       "2023-12-31    1.460256\n",
       "2024-12-31   -1.300788\n",
       "Freq: A-DEC, Name: A, dtype: float64"
      ]
     },
     "execution_count": 129,
     "metadata": {},
     "output_type": "execute_result"
    }
   ],
   "source": [
    "rand_df.A#원하는 열"
   ]
  },
  {
   "cell_type": "code",
   "execution_count": 132,
   "metadata": {},
   "outputs": [
    {
     "data": {
      "text/html": [
       "<div>\n",
       "<style scoped>\n",
       "    .dataframe tbody tr th:only-of-type {\n",
       "        vertical-align: middle;\n",
       "    }\n",
       "\n",
       "    .dataframe tbody tr th {\n",
       "        vertical-align: top;\n",
       "    }\n",
       "\n",
       "    .dataframe thead th {\n",
       "        text-align: right;\n",
       "    }\n",
       "</style>\n",
       "<table border=\"1\" class=\"dataframe\">\n",
       "  <thead>\n",
       "    <tr style=\"text-align: right;\">\n",
       "      <th></th>\n",
       "      <th>A</th>\n",
       "      <th>B</th>\n",
       "      <th>C</th>\n",
       "      <th>D</th>\n",
       "      <th>E</th>\n",
       "    </tr>\n",
       "  </thead>\n",
       "  <tbody>\n",
       "    <tr>\n",
       "      <th>2023-12-31</th>\n",
       "      <td>1.460256</td>\n",
       "      <td>0.119037</td>\n",
       "      <td>0.858328</td>\n",
       "      <td>-1.624851</td>\n",
       "      <td>1.749011</td>\n",
       "    </tr>\n",
       "  </tbody>\n",
       "</table>\n",
       "</div>"
      ],
      "text/plain": [
       "                   A         B         C         D         E\n",
       "2023-12-31  1.460256  0.119037  0.858328 -1.624851  1.749011"
      ]
     },
     "execution_count": 132,
     "metadata": {},
     "output_type": "execute_result"
    }
   ],
   "source": [
    "rand_df[rand_df.A > 0]  #A 값이 0보다 큰것만"
   ]
  },
  {
   "cell_type": "code",
   "execution_count": 137,
   "metadata": {},
   "outputs": [
    {
     "data": {
      "text/plain": [
       "2019-12-31   -0.870936\n",
       "2023-12-31    1.460256\n",
       "2024-12-31   -1.300788\n",
       "Name: A, dtype: float64"
      ]
     },
     "execution_count": 137,
     "metadata": {},
     "output_type": "execute_result"
    }
   ],
   "source": [
    "rand_df[rand_df.B  > 0]['A']  # B값이 0보다 큰것중에서 A만"
   ]
  },
  {
   "cell_type": "code",
   "execution_count": 138,
   "metadata": {},
   "outputs": [
    {
     "data": {
      "text/html": [
       "<div>\n",
       "<style scoped>\n",
       "    .dataframe tbody tr th:only-of-type {\n",
       "        vertical-align: middle;\n",
       "    }\n",
       "\n",
       "    .dataframe tbody tr th {\n",
       "        vertical-align: top;\n",
       "    }\n",
       "\n",
       "    .dataframe thead th {\n",
       "        text-align: right;\n",
       "    }\n",
       "</style>\n",
       "<table border=\"1\" class=\"dataframe\">\n",
       "  <thead>\n",
       "    <tr style=\"text-align: right;\">\n",
       "      <th></th>\n",
       "      <th>0</th>\n",
       "      <th>1</th>\n",
       "      <th>2</th>\n",
       "      <th>3</th>\n",
       "    </tr>\n",
       "  </thead>\n",
       "  <tbody>\n",
       "    <tr>\n",
       "      <th>title</th>\n",
       "      <td>spiderman</td>\n",
       "      <td>aladin</td>\n",
       "      <td>toystory</td>\n",
       "      <td>lionking</td>\n",
       "    </tr>\n",
       "    <tr>\n",
       "      <th>date</th>\n",
       "      <td>201907</td>\n",
       "      <td>201906</td>\n",
       "      <td>201906</td>\n",
       "      <td>201908</td>\n",
       "    </tr>\n",
       "    <tr>\n",
       "      <th>genre</th>\n",
       "      <td>adventure</td>\n",
       "      <td>adventure</td>\n",
       "      <td>adventure</td>\n",
       "      <td>adventure</td>\n",
       "    </tr>\n",
       "  </tbody>\n",
       "</table>\n",
       "</div>"
      ],
      "text/plain": [
       "               0          1          2          3\n",
       "title  spiderman     aladin   toystory   lionking\n",
       "date      201907     201906     201906     201908\n",
       "genre  adventure  adventure  adventure  adventure"
      ]
     },
     "execution_count": 138,
     "metadata": {},
     "output_type": "execute_result"
    }
   ],
   "source": [
    "#전치\n",
    "movie_df.T"
   ]
  },
  {
   "cell_type": "code",
   "execution_count": 139,
   "metadata": {},
   "outputs": [
    {
     "data": {
      "text/plain": [
       "['A', 'B', 'C', 'D', 'E']"
      ]
     },
     "execution_count": 139,
     "metadata": {},
     "output_type": "execute_result"
    }
   ],
   "source": [
    "# 열 순서 변경\n",
    "col = list(rand_df)\n",
    "col"
   ]
  },
  {
   "cell_type": "code",
   "execution_count": 145,
   "metadata": {},
   "outputs": [
    {
     "data": {
      "text/plain": [
       "['A', 'C', 'D', 'E', 'E', 'E', 'E', 'B']"
      ]
     },
     "execution_count": 145,
     "metadata": {},
     "output_type": "execute_result"
    }
   ],
   "source": [
    "# 'A' 'E' 'B' 'C' 'D' \n",
    "col.insert(1, col.pop())\n",
    "col"
   ]
  },
  {
   "cell_type": "code",
   "execution_count": 146,
   "metadata": {},
   "outputs": [
    {
     "data": {
      "text/html": [
       "<div>\n",
       "<style scoped>\n",
       "    .dataframe tbody tr th:only-of-type {\n",
       "        vertical-align: middle;\n",
       "    }\n",
       "\n",
       "    .dataframe tbody tr th {\n",
       "        vertical-align: top;\n",
       "    }\n",
       "\n",
       "    .dataframe thead th {\n",
       "        text-align: right;\n",
       "    }\n",
       "</style>\n",
       "<table border=\"1\" class=\"dataframe\">\n",
       "  <thead>\n",
       "    <tr style=\"text-align: right;\">\n",
       "      <th></th>\n",
       "      <th>A</th>\n",
       "      <th>C</th>\n",
       "      <th>D</th>\n",
       "      <th>E</th>\n",
       "      <th>E</th>\n",
       "      <th>E</th>\n",
       "      <th>E</th>\n",
       "      <th>B</th>\n",
       "    </tr>\n",
       "  </thead>\n",
       "  <tbody>\n",
       "    <tr>\n",
       "      <th>2019-12-31</th>\n",
       "      <td>-0.870936</td>\n",
       "      <td>0.322832</td>\n",
       "      <td>2.092232</td>\n",
       "      <td>-0.197661</td>\n",
       "      <td>-0.197661</td>\n",
       "      <td>-0.197661</td>\n",
       "      <td>-0.197661</td>\n",
       "      <td>2.123292</td>\n",
       "    </tr>\n",
       "    <tr>\n",
       "      <th>2020-12-31</th>\n",
       "      <td>-0.000612</td>\n",
       "      <td>0.794553</td>\n",
       "      <td>0.099730</td>\n",
       "      <td>-0.335944</td>\n",
       "      <td>-0.335944</td>\n",
       "      <td>-0.335944</td>\n",
       "      <td>-0.335944</td>\n",
       "      <td>-0.250169</td>\n",
       "    </tr>\n",
       "    <tr>\n",
       "      <th>2021-12-31</th>\n",
       "      <td>-0.228272</td>\n",
       "      <td>-0.599729</td>\n",
       "      <td>-1.187615</td>\n",
       "      <td>-0.267063</td>\n",
       "      <td>-0.267063</td>\n",
       "      <td>-0.267063</td>\n",
       "      <td>-0.267063</td>\n",
       "      <td>-2.718769</td>\n",
       "    </tr>\n",
       "    <tr>\n",
       "      <th>2022-12-31</th>\n",
       "      <td>-0.179670</td>\n",
       "      <td>0.425677</td>\n",
       "      <td>-1.205162</td>\n",
       "      <td>-0.757144</td>\n",
       "      <td>-0.757144</td>\n",
       "      <td>-0.757144</td>\n",
       "      <td>-0.757144</td>\n",
       "      <td>-0.215688</td>\n",
       "    </tr>\n",
       "    <tr>\n",
       "      <th>2023-12-31</th>\n",
       "      <td>1.460256</td>\n",
       "      <td>0.858328</td>\n",
       "      <td>-1.624851</td>\n",
       "      <td>1.749011</td>\n",
       "      <td>1.749011</td>\n",
       "      <td>1.749011</td>\n",
       "      <td>1.749011</td>\n",
       "      <td>0.119037</td>\n",
       "    </tr>\n",
       "    <tr>\n",
       "      <th>2024-12-31</th>\n",
       "      <td>-1.300788</td>\n",
       "      <td>0.268968</td>\n",
       "      <td>-0.621051</td>\n",
       "      <td>0.452138</td>\n",
       "      <td>0.452138</td>\n",
       "      <td>0.452138</td>\n",
       "      <td>0.452138</td>\n",
       "      <td>0.823355</td>\n",
       "    </tr>\n",
       "  </tbody>\n",
       "</table>\n",
       "</div>"
      ],
      "text/plain": [
       "                   A         C         D         E         E         E  \\\n",
       "2019-12-31 -0.870936  0.322832  2.092232 -0.197661 -0.197661 -0.197661   \n",
       "2020-12-31 -0.000612  0.794553  0.099730 -0.335944 -0.335944 -0.335944   \n",
       "2021-12-31 -0.228272 -0.599729 -1.187615 -0.267063 -0.267063 -0.267063   \n",
       "2022-12-31 -0.179670  0.425677 -1.205162 -0.757144 -0.757144 -0.757144   \n",
       "2023-12-31  1.460256  0.858328 -1.624851  1.749011  1.749011  1.749011   \n",
       "2024-12-31 -1.300788  0.268968 -0.621051  0.452138  0.452138  0.452138   \n",
       "\n",
       "                   E         B  \n",
       "2019-12-31 -0.197661  2.123292  \n",
       "2020-12-31 -0.335944 -0.250169  \n",
       "2021-12-31 -0.267063 -2.718769  \n",
       "2022-12-31 -0.757144 -0.215688  \n",
       "2023-12-31  1.749011  0.119037  \n",
       "2024-12-31  0.452138  0.823355  "
      ]
     },
     "execution_count": 146,
     "metadata": {},
     "output_type": "execute_result"
    }
   ],
   "source": [
    "rand_df = rand_df[col]\n",
    "rand_df"
   ]
  },
  {
   "cell_type": "code",
   "execution_count": 149,
   "metadata": {},
   "outputs": [
    {
     "name": "stderr",
     "output_type": "stream",
     "text": [
      "C:\\Users\\USER\\Anaconda3\\envs\\ssml\\lib\\site-packages\\ipykernel_launcher.py:1: SettingWithCopyWarning: \n",
      "A value is trying to be set on a copy of a slice from a DataFrame\n",
      "\n",
      "See the caveats in the documentation: http://pandas.pydata.org/pandas-docs/stable/indexing.html#indexing-view-versus-copy\n",
      "  \"\"\"Entry point for launching an IPython kernel.\n"
     ]
    },
    {
     "data": {
      "text/html": [
       "<div>\n",
       "<style scoped>\n",
       "    .dataframe tbody tr th:only-of-type {\n",
       "        vertical-align: middle;\n",
       "    }\n",
       "\n",
       "    .dataframe tbody tr th {\n",
       "        vertical-align: top;\n",
       "    }\n",
       "\n",
       "    .dataframe thead th {\n",
       "        text-align: right;\n",
       "    }\n",
       "</style>\n",
       "<table border=\"1\" class=\"dataframe\">\n",
       "  <thead>\n",
       "    <tr style=\"text-align: right;\">\n",
       "      <th></th>\n",
       "      <th>A</th>\n",
       "      <th>C</th>\n",
       "      <th>D</th>\n",
       "      <th>E</th>\n",
       "      <th>E</th>\n",
       "      <th>E</th>\n",
       "      <th>E</th>\n",
       "      <th>B</th>\n",
       "    </tr>\n",
       "  </thead>\n",
       "  <tbody>\n",
       "    <tr>\n",
       "      <th>2019-12-31</th>\n",
       "      <td>5.000000</td>\n",
       "      <td>5.000000</td>\n",
       "      <td>5.000000</td>\n",
       "      <td>5.000000</td>\n",
       "      <td>5.000000</td>\n",
       "      <td>5.000000</td>\n",
       "      <td>5.000000</td>\n",
       "      <td>5.000000</td>\n",
       "    </tr>\n",
       "    <tr>\n",
       "      <th>2020-12-31</th>\n",
       "      <td>-0.000612</td>\n",
       "      <td>0.794553</td>\n",
       "      <td>0.099730</td>\n",
       "      <td>-0.335944</td>\n",
       "      <td>-0.335944</td>\n",
       "      <td>-0.335944</td>\n",
       "      <td>-0.335944</td>\n",
       "      <td>-0.250169</td>\n",
       "    </tr>\n",
       "    <tr>\n",
       "      <th>2021-12-31</th>\n",
       "      <td>-0.228272</td>\n",
       "      <td>-0.599729</td>\n",
       "      <td>-1.187615</td>\n",
       "      <td>-0.267063</td>\n",
       "      <td>-0.267063</td>\n",
       "      <td>-0.267063</td>\n",
       "      <td>-0.267063</td>\n",
       "      <td>-2.718769</td>\n",
       "    </tr>\n",
       "    <tr>\n",
       "      <th>2022-12-31</th>\n",
       "      <td>-0.179670</td>\n",
       "      <td>0.425677</td>\n",
       "      <td>-1.205162</td>\n",
       "      <td>-0.757144</td>\n",
       "      <td>-0.757144</td>\n",
       "      <td>-0.757144</td>\n",
       "      <td>-0.757144</td>\n",
       "      <td>-0.215688</td>\n",
       "    </tr>\n",
       "    <tr>\n",
       "      <th>2023-12-31</th>\n",
       "      <td>1.460256</td>\n",
       "      <td>0.858328</td>\n",
       "      <td>-1.624851</td>\n",
       "      <td>1.749011</td>\n",
       "      <td>1.749011</td>\n",
       "      <td>1.749011</td>\n",
       "      <td>1.749011</td>\n",
       "      <td>0.119037</td>\n",
       "    </tr>\n",
       "    <tr>\n",
       "      <th>2024-12-31</th>\n",
       "      <td>-1.300788</td>\n",
       "      <td>0.268968</td>\n",
       "      <td>-0.621051</td>\n",
       "      <td>0.452138</td>\n",
       "      <td>0.452138</td>\n",
       "      <td>0.452138</td>\n",
       "      <td>0.452138</td>\n",
       "      <td>0.823355</td>\n",
       "    </tr>\n",
       "  </tbody>\n",
       "</table>\n",
       "</div>"
      ],
      "text/plain": [
       "                   A         C         D         E         E         E  \\\n",
       "2019-12-31  5.000000  5.000000  5.000000  5.000000  5.000000  5.000000   \n",
       "2020-12-31 -0.000612  0.794553  0.099730 -0.335944 -0.335944 -0.335944   \n",
       "2021-12-31 -0.228272 -0.599729 -1.187615 -0.267063 -0.267063 -0.267063   \n",
       "2022-12-31 -0.179670  0.425677 -1.205162 -0.757144 -0.757144 -0.757144   \n",
       "2023-12-31  1.460256  0.858328 -1.624851  1.749011  1.749011  1.749011   \n",
       "2024-12-31 -1.300788  0.268968 -0.621051  0.452138  0.452138  0.452138   \n",
       "\n",
       "                   E         B  \n",
       "2019-12-31  5.000000  5.000000  \n",
       "2020-12-31 -0.335944 -0.250169  \n",
       "2021-12-31 -0.267063 -2.718769  \n",
       "2022-12-31 -0.757144 -0.215688  \n",
       "2023-12-31  1.749011  0.119037  \n",
       "2024-12-31  0.452138  0.823355  "
      ]
     },
     "execution_count": 149,
     "metadata": {},
     "output_type": "execute_result"
    }
   ],
   "source": [
    "rand_df.iloc[0] = 5.0    # 값 변경\n",
    "rand_df"
   ]
  },
  {
   "cell_type": "code",
   "execution_count": 150,
   "metadata": {},
   "outputs": [
    {
     "data": {
      "text/plain": [
       "nan"
      ]
     },
     "execution_count": 150,
     "metadata": {},
     "output_type": "execute_result"
    }
   ],
   "source": [
    "np.nan # not a number = 결측치"
   ]
  },
  {
   "cell_type": "code",
   "execution_count": 151,
   "metadata": {},
   "outputs": [
    {
     "name": "stderr",
     "output_type": "stream",
     "text": [
      "C:\\Users\\USER\\Anaconda3\\envs\\ssml\\lib\\site-packages\\ipykernel_launcher.py:1: SettingWithCopyWarning: \n",
      "A value is trying to be set on a copy of a slice from a DataFrame\n",
      "\n",
      "See the caveats in the documentation: http://pandas.pydata.org/pandas-docs/stable/indexing.html#indexing-view-versus-copy\n",
      "  \"\"\"Entry point for launching an IPython kernel.\n"
     ]
    },
    {
     "data": {
      "text/html": [
       "<div>\n",
       "<style scoped>\n",
       "    .dataframe tbody tr th:only-of-type {\n",
       "        vertical-align: middle;\n",
       "    }\n",
       "\n",
       "    .dataframe tbody tr th {\n",
       "        vertical-align: top;\n",
       "    }\n",
       "\n",
       "    .dataframe thead th {\n",
       "        text-align: right;\n",
       "    }\n",
       "</style>\n",
       "<table border=\"1\" class=\"dataframe\">\n",
       "  <thead>\n",
       "    <tr style=\"text-align: right;\">\n",
       "      <th></th>\n",
       "      <th>A</th>\n",
       "      <th>C</th>\n",
       "      <th>D</th>\n",
       "      <th>E</th>\n",
       "      <th>E</th>\n",
       "      <th>E</th>\n",
       "      <th>E</th>\n",
       "      <th>B</th>\n",
       "    </tr>\n",
       "  </thead>\n",
       "  <tbody>\n",
       "    <tr>\n",
       "      <th>2019-12-31</th>\n",
       "      <td>5.000000</td>\n",
       "      <td>5.000000</td>\n",
       "      <td>5.000000</td>\n",
       "      <td>5.000000</td>\n",
       "      <td>5.000000</td>\n",
       "      <td>5.000000</td>\n",
       "      <td>5.000000</td>\n",
       "      <td>5.000000</td>\n",
       "    </tr>\n",
       "    <tr>\n",
       "      <th>2020-12-31</th>\n",
       "      <td>-0.000612</td>\n",
       "      <td>0.794553</td>\n",
       "      <td>0.099730</td>\n",
       "      <td>-0.335944</td>\n",
       "      <td>-0.335944</td>\n",
       "      <td>-0.335944</td>\n",
       "      <td>-0.335944</td>\n",
       "      <td>-0.250169</td>\n",
       "    </tr>\n",
       "    <tr>\n",
       "      <th>2021-12-31</th>\n",
       "      <td>-0.228272</td>\n",
       "      <td>-0.599729</td>\n",
       "      <td>-1.187615</td>\n",
       "      <td>-0.267063</td>\n",
       "      <td>-0.267063</td>\n",
       "      <td>-0.267063</td>\n",
       "      <td>-0.267063</td>\n",
       "      <td>-2.718769</td>\n",
       "    </tr>\n",
       "    <tr>\n",
       "      <th>2022-12-31</th>\n",
       "      <td>NaN</td>\n",
       "      <td>NaN</td>\n",
       "      <td>NaN</td>\n",
       "      <td>NaN</td>\n",
       "      <td>NaN</td>\n",
       "      <td>NaN</td>\n",
       "      <td>NaN</td>\n",
       "      <td>NaN</td>\n",
       "    </tr>\n",
       "    <tr>\n",
       "      <th>2023-12-31</th>\n",
       "      <td>1.460256</td>\n",
       "      <td>0.858328</td>\n",
       "      <td>-1.624851</td>\n",
       "      <td>1.749011</td>\n",
       "      <td>1.749011</td>\n",
       "      <td>1.749011</td>\n",
       "      <td>1.749011</td>\n",
       "      <td>0.119037</td>\n",
       "    </tr>\n",
       "    <tr>\n",
       "      <th>2024-12-31</th>\n",
       "      <td>-1.300788</td>\n",
       "      <td>0.268968</td>\n",
       "      <td>-0.621051</td>\n",
       "      <td>0.452138</td>\n",
       "      <td>0.452138</td>\n",
       "      <td>0.452138</td>\n",
       "      <td>0.452138</td>\n",
       "      <td>0.823355</td>\n",
       "    </tr>\n",
       "  </tbody>\n",
       "</table>\n",
       "</div>"
      ],
      "text/plain": [
       "                   A         C         D         E         E         E  \\\n",
       "2019-12-31  5.000000  5.000000  5.000000  5.000000  5.000000  5.000000   \n",
       "2020-12-31 -0.000612  0.794553  0.099730 -0.335944 -0.335944 -0.335944   \n",
       "2021-12-31 -0.228272 -0.599729 -1.187615 -0.267063 -0.267063 -0.267063   \n",
       "2022-12-31       NaN       NaN       NaN       NaN       NaN       NaN   \n",
       "2023-12-31  1.460256  0.858328 -1.624851  1.749011  1.749011  1.749011   \n",
       "2024-12-31 -1.300788  0.268968 -0.621051  0.452138  0.452138  0.452138   \n",
       "\n",
       "                   E         B  \n",
       "2019-12-31  5.000000  5.000000  \n",
       "2020-12-31 -0.335944 -0.250169  \n",
       "2021-12-31 -0.267063 -2.718769  \n",
       "2022-12-31       NaN       NaN  \n",
       "2023-12-31  1.749011  0.119037  \n",
       "2024-12-31  0.452138  0.823355  "
      ]
     },
     "execution_count": 151,
     "metadata": {},
     "output_type": "execute_result"
    }
   ],
   "source": [
    "rand_df.iloc[3] = np.nan\n",
    "rand_df"
   ]
  },
  {
   "cell_type": "code",
   "execution_count": 158,
   "metadata": {},
   "outputs": [
    {
     "data": {
      "text/html": [
       "<div>\n",
       "<style scoped>\n",
       "    .dataframe tbody tr th:only-of-type {\n",
       "        vertical-align: middle;\n",
       "    }\n",
       "\n",
       "    .dataframe tbody tr th {\n",
       "        vertical-align: top;\n",
       "    }\n",
       "\n",
       "    .dataframe thead th {\n",
       "        text-align: right;\n",
       "    }\n",
       "</style>\n",
       "<table border=\"1\" class=\"dataframe\">\n",
       "  <thead>\n",
       "    <tr style=\"text-align: right;\">\n",
       "      <th></th>\n",
       "      <th>A</th>\n",
       "      <th>C</th>\n",
       "      <th>D</th>\n",
       "      <th>E</th>\n",
       "      <th>E</th>\n",
       "      <th>E</th>\n",
       "      <th>E</th>\n",
       "      <th>B</th>\n",
       "    </tr>\n",
       "  </thead>\n",
       "  <tbody>\n",
       "    <tr>\n",
       "      <th>2019-12-31 00:00:00</th>\n",
       "      <td>5.000000</td>\n",
       "      <td>5.000000</td>\n",
       "      <td>5.000000</td>\n",
       "      <td>5.000000</td>\n",
       "      <td>5.000000</td>\n",
       "      <td>5.000000</td>\n",
       "      <td>5.000000</td>\n",
       "      <td>5.000000</td>\n",
       "    </tr>\n",
       "    <tr>\n",
       "      <th>2020-12-31 00:00:00</th>\n",
       "      <td>-0.000612</td>\n",
       "      <td>0.794553</td>\n",
       "      <td>0.099730</td>\n",
       "      <td>-0.335944</td>\n",
       "      <td>-0.335944</td>\n",
       "      <td>-0.335944</td>\n",
       "      <td>-0.335944</td>\n",
       "      <td>-0.250169</td>\n",
       "    </tr>\n",
       "    <tr>\n",
       "      <th>2021-12-31 00:00:00</th>\n",
       "      <td>-0.228272</td>\n",
       "      <td>-0.599729</td>\n",
       "      <td>-1.187615</td>\n",
       "      <td>-0.267063</td>\n",
       "      <td>-0.267063</td>\n",
       "      <td>-0.267063</td>\n",
       "      <td>-0.267063</td>\n",
       "      <td>-2.718769</td>\n",
       "    </tr>\n",
       "    <tr>\n",
       "      <th>2024-12-31 00:00:00</th>\n",
       "      <td>-1.300788</td>\n",
       "      <td>0.268968</td>\n",
       "      <td>-0.621051</td>\n",
       "      <td>0.452138</td>\n",
       "      <td>0.452138</td>\n",
       "      <td>0.452138</td>\n",
       "      <td>0.452138</td>\n",
       "      <td>0.823355</td>\n",
       "    </tr>\n",
       "  </tbody>\n",
       "</table>\n",
       "</div>"
      ],
      "text/plain": [
       "                            A         C         D         E         E  \\\n",
       "2019-12-31 00:00:00  5.000000  5.000000  5.000000  5.000000  5.000000   \n",
       "2020-12-31 00:00:00 -0.000612  0.794553  0.099730 -0.335944 -0.335944   \n",
       "2021-12-31 00:00:00 -0.228272 -0.599729 -1.187615 -0.267063 -0.267063   \n",
       "2024-12-31 00:00:00 -1.300788  0.268968 -0.621051  0.452138  0.452138   \n",
       "\n",
       "                            E         E         B  \n",
       "2019-12-31 00:00:00  5.000000  5.000000  5.000000  \n",
       "2020-12-31 00:00:00 -0.335944 -0.335944 -0.250169  \n",
       "2021-12-31 00:00:00 -0.267063 -0.267063 -2.718769  \n",
       "2024-12-31 00:00:00  0.452138  0.452138  0.823355  "
      ]
     },
     "execution_count": 158,
     "metadata": {},
     "output_type": "execute_result"
    }
   ],
   "source": [
    "#결측치 지우기\n",
    "rand_df = rand_df.dropna()\n",
    "rand_df"
   ]
  },
  {
   "cell_type": "code",
   "execution_count": 159,
   "metadata": {},
   "outputs": [
    {
     "name": "stderr",
     "output_type": "stream",
     "text": [
      "C:\\Users\\USER\\Anaconda3\\envs\\ssml\\lib\\site-packages\\ipykernel_launcher.py:1: SettingWithCopyWarning: \n",
      "A value is trying to be set on a copy of a slice from a DataFrame\n",
      "\n",
      "See the caveats in the documentation: http://pandas.pydata.org/pandas-docs/stable/indexing.html#indexing-view-versus-copy\n",
      "  \"\"\"Entry point for launching an IPython kernel.\n"
     ]
    },
    {
     "data": {
      "text/html": [
       "<div>\n",
       "<style scoped>\n",
       "    .dataframe tbody tr th:only-of-type {\n",
       "        vertical-align: middle;\n",
       "    }\n",
       "\n",
       "    .dataframe tbody tr th {\n",
       "        vertical-align: top;\n",
       "    }\n",
       "\n",
       "    .dataframe thead th {\n",
       "        text-align: right;\n",
       "    }\n",
       "</style>\n",
       "<table border=\"1\" class=\"dataframe\">\n",
       "  <thead>\n",
       "    <tr style=\"text-align: right;\">\n",
       "      <th></th>\n",
       "      <th>A</th>\n",
       "      <th>C</th>\n",
       "      <th>D</th>\n",
       "      <th>E</th>\n",
       "      <th>E</th>\n",
       "      <th>E</th>\n",
       "      <th>E</th>\n",
       "      <th>B</th>\n",
       "    </tr>\n",
       "  </thead>\n",
       "  <tbody>\n",
       "    <tr>\n",
       "      <th>2019-12-31 00:00:00</th>\n",
       "      <td>5.000000</td>\n",
       "      <td>5.000000</td>\n",
       "      <td>5.000000</td>\n",
       "      <td>5.000000</td>\n",
       "      <td>5.000000</td>\n",
       "      <td>5.000000</td>\n",
       "      <td>5.000000</td>\n",
       "      <td>5.000000</td>\n",
       "    </tr>\n",
       "    <tr>\n",
       "      <th>2020-12-31 00:00:00</th>\n",
       "      <td>-0.000612</td>\n",
       "      <td>0.794553</td>\n",
       "      <td>0.099730</td>\n",
       "      <td>-0.335944</td>\n",
       "      <td>-0.335944</td>\n",
       "      <td>-0.335944</td>\n",
       "      <td>-0.335944</td>\n",
       "      <td>-0.250169</td>\n",
       "    </tr>\n",
       "    <tr>\n",
       "      <th>2021-12-31 00:00:00</th>\n",
       "      <td>-0.228272</td>\n",
       "      <td>-0.599729</td>\n",
       "      <td>-1.187615</td>\n",
       "      <td>-0.267063</td>\n",
       "      <td>-0.267063</td>\n",
       "      <td>-0.267063</td>\n",
       "      <td>-0.267063</td>\n",
       "      <td>-2.718769</td>\n",
       "    </tr>\n",
       "    <tr>\n",
       "      <th>2024-12-31 00:00:00</th>\n",
       "      <td>NaN</td>\n",
       "      <td>NaN</td>\n",
       "      <td>NaN</td>\n",
       "      <td>NaN</td>\n",
       "      <td>NaN</td>\n",
       "      <td>NaN</td>\n",
       "      <td>NaN</td>\n",
       "      <td>NaN</td>\n",
       "    </tr>\n",
       "  </tbody>\n",
       "</table>\n",
       "</div>"
      ],
      "text/plain": [
       "                            A         C         D         E         E  \\\n",
       "2019-12-31 00:00:00  5.000000  5.000000  5.000000  5.000000  5.000000   \n",
       "2020-12-31 00:00:00 -0.000612  0.794553  0.099730 -0.335944 -0.335944   \n",
       "2021-12-31 00:00:00 -0.228272 -0.599729 -1.187615 -0.267063 -0.267063   \n",
       "2024-12-31 00:00:00       NaN       NaN       NaN       NaN       NaN   \n",
       "\n",
       "                            E         E         B  \n",
       "2019-12-31 00:00:00  5.000000  5.000000  5.000000  \n",
       "2020-12-31 00:00:00 -0.335944 -0.335944 -0.250169  \n",
       "2021-12-31 00:00:00 -0.267063 -0.267063 -2.718769  \n",
       "2024-12-31 00:00:00       NaN       NaN       NaN  "
      ]
     },
     "execution_count": 159,
     "metadata": {},
     "output_type": "execute_result"
    }
   ],
   "source": [
    "rand_df.iloc[3]=np.nan\n",
    "rand_df"
   ]
  },
  {
   "cell_type": "code",
   "execution_count": 161,
   "metadata": {},
   "outputs": [
    {
     "data": {
      "text/html": [
       "<div>\n",
       "<style scoped>\n",
       "    .dataframe tbody tr th:only-of-type {\n",
       "        vertical-align: middle;\n",
       "    }\n",
       "\n",
       "    .dataframe tbody tr th {\n",
       "        vertical-align: top;\n",
       "    }\n",
       "\n",
       "    .dataframe thead th {\n",
       "        text-align: right;\n",
       "    }\n",
       "</style>\n",
       "<table border=\"1\" class=\"dataframe\">\n",
       "  <thead>\n",
       "    <tr style=\"text-align: right;\">\n",
       "      <th></th>\n",
       "      <th>A</th>\n",
       "      <th>C</th>\n",
       "      <th>D</th>\n",
       "      <th>E</th>\n",
       "      <th>E</th>\n",
       "      <th>E</th>\n",
       "      <th>E</th>\n",
       "      <th>B</th>\n",
       "    </tr>\n",
       "  </thead>\n",
       "  <tbody>\n",
       "    <tr>\n",
       "      <th>2019-12-31 00:00:00</th>\n",
       "      <td>5.000000</td>\n",
       "      <td>5.000000</td>\n",
       "      <td>5.000000</td>\n",
       "      <td>5.000000</td>\n",
       "      <td>5.000000</td>\n",
       "      <td>5.000000</td>\n",
       "      <td>5.000000</td>\n",
       "      <td>5.000000</td>\n",
       "    </tr>\n",
       "    <tr>\n",
       "      <th>2020-12-31 00:00:00</th>\n",
       "      <td>-0.000612</td>\n",
       "      <td>0.794553</td>\n",
       "      <td>0.099730</td>\n",
       "      <td>-0.335944</td>\n",
       "      <td>-0.335944</td>\n",
       "      <td>-0.335944</td>\n",
       "      <td>-0.335944</td>\n",
       "      <td>-0.250169</td>\n",
       "    </tr>\n",
       "    <tr>\n",
       "      <th>2021-12-31 00:00:00</th>\n",
       "      <td>-0.228272</td>\n",
       "      <td>-0.599729</td>\n",
       "      <td>-1.187615</td>\n",
       "      <td>-0.267063</td>\n",
       "      <td>-0.267063</td>\n",
       "      <td>-0.267063</td>\n",
       "      <td>-0.267063</td>\n",
       "      <td>-2.718769</td>\n",
       "    </tr>\n",
       "    <tr>\n",
       "      <th>2024-12-31 00:00:00</th>\n",
       "      <td>10.000000</td>\n",
       "      <td>10.000000</td>\n",
       "      <td>10.000000</td>\n",
       "      <td>10.000000</td>\n",
       "      <td>10.000000</td>\n",
       "      <td>10.000000</td>\n",
       "      <td>10.000000</td>\n",
       "      <td>10.000000</td>\n",
       "    </tr>\n",
       "  </tbody>\n",
       "</table>\n",
       "</div>"
      ],
      "text/plain": [
       "                             A          C          D          E          E  \\\n",
       "2019-12-31 00:00:00   5.000000   5.000000   5.000000   5.000000   5.000000   \n",
       "2020-12-31 00:00:00  -0.000612   0.794553   0.099730  -0.335944  -0.335944   \n",
       "2021-12-31 00:00:00  -0.228272  -0.599729  -1.187615  -0.267063  -0.267063   \n",
       "2024-12-31 00:00:00  10.000000  10.000000  10.000000  10.000000  10.000000   \n",
       "\n",
       "                             E          E          B  \n",
       "2019-12-31 00:00:00   5.000000   5.000000   5.000000  \n",
       "2020-12-31 00:00:00  -0.335944  -0.335944  -0.250169  \n",
       "2021-12-31 00:00:00  -0.267063  -0.267063  -2.718769  \n",
       "2024-12-31 00:00:00  10.000000  10.000000  10.000000  "
      ]
     },
     "execution_count": 161,
     "metadata": {},
     "output_type": "execute_result"
    }
   ],
   "source": [
    "rand_df = rand_df.fillna(10.0)  #nan 값 바꾸기\n",
    "rand_df"
   ]
  },
  {
   "cell_type": "code",
   "execution_count": 162,
   "metadata": {},
   "outputs": [
    {
     "data": {
      "text/html": [
       "<div>\n",
       "<style scoped>\n",
       "    .dataframe tbody tr th:only-of-type {\n",
       "        vertical-align: middle;\n",
       "    }\n",
       "\n",
       "    .dataframe tbody tr th {\n",
       "        vertical-align: top;\n",
       "    }\n",
       "\n",
       "    .dataframe thead th {\n",
       "        text-align: right;\n",
       "    }\n",
       "</style>\n",
       "<table border=\"1\" class=\"dataframe\">\n",
       "  <thead>\n",
       "    <tr style=\"text-align: right;\">\n",
       "      <th></th>\n",
       "      <th>A</th>\n",
       "      <th>C</th>\n",
       "      <th>D</th>\n",
       "      <th>E</th>\n",
       "      <th>E</th>\n",
       "      <th>E</th>\n",
       "      <th>E</th>\n",
       "      <th>B</th>\n",
       "    </tr>\n",
       "  </thead>\n",
       "  <tbody>\n",
       "    <tr>\n",
       "      <th>2019-12-31 00:00:00</th>\n",
       "      <td>False</td>\n",
       "      <td>False</td>\n",
       "      <td>False</td>\n",
       "      <td>False</td>\n",
       "      <td>False</td>\n",
       "      <td>False</td>\n",
       "      <td>False</td>\n",
       "      <td>False</td>\n",
       "    </tr>\n",
       "    <tr>\n",
       "      <th>2020-12-31 00:00:00</th>\n",
       "      <td>False</td>\n",
       "      <td>False</td>\n",
       "      <td>False</td>\n",
       "      <td>False</td>\n",
       "      <td>False</td>\n",
       "      <td>False</td>\n",
       "      <td>False</td>\n",
       "      <td>False</td>\n",
       "    </tr>\n",
       "    <tr>\n",
       "      <th>2021-12-31 00:00:00</th>\n",
       "      <td>False</td>\n",
       "      <td>False</td>\n",
       "      <td>False</td>\n",
       "      <td>False</td>\n",
       "      <td>False</td>\n",
       "      <td>False</td>\n",
       "      <td>False</td>\n",
       "      <td>False</td>\n",
       "    </tr>\n",
       "    <tr>\n",
       "      <th>2024-12-31 00:00:00</th>\n",
       "      <td>False</td>\n",
       "      <td>False</td>\n",
       "      <td>False</td>\n",
       "      <td>False</td>\n",
       "      <td>False</td>\n",
       "      <td>False</td>\n",
       "      <td>False</td>\n",
       "      <td>False</td>\n",
       "    </tr>\n",
       "  </tbody>\n",
       "</table>\n",
       "</div>"
      ],
      "text/plain": [
       "                         A      C      D      E      E      E      E      B\n",
       "2019-12-31 00:00:00  False  False  False  False  False  False  False  False\n",
       "2020-12-31 00:00:00  False  False  False  False  False  False  False  False\n",
       "2021-12-31 00:00:00  False  False  False  False  False  False  False  False\n",
       "2024-12-31 00:00:00  False  False  False  False  False  False  False  False"
      ]
     },
     "execution_count": 162,
     "metadata": {},
     "output_type": "execute_result"
    }
   ],
   "source": [
    "rand_df.isna()  #결측치 여부 확인"
   ]
  },
  {
   "cell_type": "markdown",
   "metadata": {},
   "source": [
    "###  Operation 연산"
   ]
  },
  {
   "cell_type": "code",
   "execution_count": 167,
   "metadata": {},
   "outputs": [
    {
     "data": {
      "text/plain": [
       "A    3.692779\n",
       "C    3.798706\n",
       "D    3.478029\n",
       "E    3.599248\n",
       "E    3.599248\n",
       "E    3.599248\n",
       "E    3.599248\n",
       "B    3.007765\n",
       "dtype: float64"
      ]
     },
     "execution_count": 167,
     "metadata": {},
     "output_type": "execute_result"
    }
   ],
   "source": [
    "rand_df.mean(0)  #열 기준 평균  (axis=0)"
   ]
  },
  {
   "cell_type": "code",
   "execution_count": 165,
   "metadata": {},
   "outputs": [
    {
     "data": {
      "text/plain": [
       "3.5467839991294525"
      ]
     },
     "execution_count": 165,
     "metadata": {},
     "output_type": "execute_result"
    }
   ],
   "source": [
    "rand_df.mean().mean()   #평균의 평균"
   ]
  },
  {
   "cell_type": "code",
   "execution_count": 166,
   "metadata": {},
   "outputs": [
    {
     "data": {
      "text/plain": [
       "2019-12-31     5.000000\n",
       "2020-12-31    -0.087534\n",
       "2021-12-31    -0.725330\n",
       "2024-12-31    10.000000\n",
       "dtype: float64"
      ]
     },
     "execution_count": 166,
     "metadata": {},
     "output_type": "execute_result"
    }
   ],
   "source": [
    "#행 기준 평균\n",
    "rand_df.mean(1)   #axis = 1"
   ]
  },
  {
   "cell_type": "code",
   "execution_count": 171,
   "metadata": {},
   "outputs": [
    {
     "data": {
      "text/html": [
       "<div>\n",
       "<style scoped>\n",
       "    .dataframe tbody tr th:only-of-type {\n",
       "        vertical-align: middle;\n",
       "    }\n",
       "\n",
       "    .dataframe tbody tr th {\n",
       "        vertical-align: top;\n",
       "    }\n",
       "\n",
       "    .dataframe thead th {\n",
       "        text-align: right;\n",
       "    }\n",
       "</style>\n",
       "<table border=\"1\" class=\"dataframe\">\n",
       "  <thead>\n",
       "    <tr style=\"text-align: right;\">\n",
       "      <th></th>\n",
       "      <th>A</th>\n",
       "      <th>C</th>\n",
       "      <th>D</th>\n",
       "      <th>E</th>\n",
       "      <th>E</th>\n",
       "      <th>E</th>\n",
       "      <th>E</th>\n",
       "      <th>B</th>\n",
       "    </tr>\n",
       "  </thead>\n",
       "  <tbody>\n",
       "    <tr>\n",
       "      <th>2019-12-31</th>\n",
       "      <td>5.000000</td>\n",
       "      <td>5.000000</td>\n",
       "      <td>5.000000</td>\n",
       "      <td>5.000000</td>\n",
       "      <td>5.000000</td>\n",
       "      <td>5.000000</td>\n",
       "      <td>5.000000</td>\n",
       "      <td>5.000000</td>\n",
       "    </tr>\n",
       "    <tr>\n",
       "      <th>2020-12-31</th>\n",
       "      <td>4.999388</td>\n",
       "      <td>5.794553</td>\n",
       "      <td>5.099730</td>\n",
       "      <td>4.664056</td>\n",
       "      <td>4.664056</td>\n",
       "      <td>4.664056</td>\n",
       "      <td>4.664056</td>\n",
       "      <td>4.749831</td>\n",
       "    </tr>\n",
       "    <tr>\n",
       "      <th>2021-12-31</th>\n",
       "      <td>4.771116</td>\n",
       "      <td>5.194824</td>\n",
       "      <td>3.912114</td>\n",
       "      <td>4.396993</td>\n",
       "      <td>4.396993</td>\n",
       "      <td>4.396993</td>\n",
       "      <td>4.396993</td>\n",
       "      <td>2.031061</td>\n",
       "    </tr>\n",
       "    <tr>\n",
       "      <th>2024-12-31</th>\n",
       "      <td>14.771116</td>\n",
       "      <td>15.194824</td>\n",
       "      <td>13.912114</td>\n",
       "      <td>14.396993</td>\n",
       "      <td>14.396993</td>\n",
       "      <td>14.396993</td>\n",
       "      <td>14.396993</td>\n",
       "      <td>12.031061</td>\n",
       "    </tr>\n",
       "  </tbody>\n",
       "</table>\n",
       "</div>"
      ],
      "text/plain": [
       "                    A          C          D          E          E          E  \\\n",
       "2019-12-31   5.000000   5.000000   5.000000   5.000000   5.000000   5.000000   \n",
       "2020-12-31   4.999388   5.794553   5.099730   4.664056   4.664056   4.664056   \n",
       "2021-12-31   4.771116   5.194824   3.912114   4.396993   4.396993   4.396993   \n",
       "2024-12-31  14.771116  15.194824  13.912114  14.396993  14.396993  14.396993   \n",
       "\n",
       "                    E          B  \n",
       "2019-12-31   5.000000   5.000000  \n",
       "2020-12-31   4.664056   4.749831  \n",
       "2021-12-31   4.396993   2.031061  \n",
       "2024-12-31  14.396993  12.031061  "
      ]
     },
     "execution_count": 171,
     "metadata": {},
     "output_type": "execute_result"
    }
   ],
   "source": [
    "# apply를 이용해 함수 도입 가능\n",
    "rand_df.apply(np.cumsum)  #cumsum = 누적 합"
   ]
  },
  {
   "cell_type": "code",
   "execution_count": 172,
   "metadata": {},
   "outputs": [
    {
     "data": {
      "text/plain": [
       "E    4\n",
       "B    1\n",
       "D    1\n",
       "C    1\n",
       "A    1\n",
       "dtype: int64"
      ]
     },
     "execution_count": 172,
     "metadata": {},
     "output_type": "execute_result"
    }
   ],
   "source": [
    "#series의 value별 개수 계산\n",
    "rand_df.columns.value_counts()"
   ]
  },
  {
   "cell_type": "code",
   "execution_count": 173,
   "metadata": {},
   "outputs": [
    {
     "data": {
      "text/plain": [
       "-0.000612     1\n",
       " 10.000000    1\n",
       "-0.228272     1\n",
       " 5.000000     1\n",
       "Name: A, dtype: int64"
      ]
     },
     "execution_count": 173,
     "metadata": {},
     "output_type": "execute_result"
    }
   ],
   "source": [
    "rand_df['A'].value_counts()"
   ]
  },
  {
   "cell_type": "code",
   "execution_count": 174,
   "metadata": {},
   "outputs": [
    {
     "data": {
      "text/plain": [
       "adventure    4\n",
       "Name: genre, dtype: int64"
      ]
     },
     "execution_count": 174,
     "metadata": {},
     "output_type": "execute_result"
    }
   ],
   "source": [
    "movie_df['genre'].value_counts()"
   ]
  },
  {
   "cell_type": "code",
   "execution_count": 176,
   "metadata": {},
   "outputs": [
    {
     "data": {
      "text/html": [
       "<div>\n",
       "<style scoped>\n",
       "    .dataframe tbody tr th:only-of-type {\n",
       "        vertical-align: middle;\n",
       "    }\n",
       "\n",
       "    .dataframe tbody tr th {\n",
       "        vertical-align: top;\n",
       "    }\n",
       "\n",
       "    .dataframe thead th {\n",
       "        text-align: right;\n",
       "    }\n",
       "</style>\n",
       "<table border=\"1\" class=\"dataframe\">\n",
       "  <thead>\n",
       "    <tr style=\"text-align: right;\">\n",
       "      <th></th>\n",
       "      <th>A</th>\n",
       "      <th>C</th>\n",
       "      <th>D</th>\n",
       "      <th>E</th>\n",
       "      <th>E</th>\n",
       "      <th>E</th>\n",
       "      <th>E</th>\n",
       "      <th>B</th>\n",
       "    </tr>\n",
       "  </thead>\n",
       "  <tbody>\n",
       "    <tr>\n",
       "      <th>2021-12-31 00:00:00</th>\n",
       "      <td>-0.228272</td>\n",
       "      <td>-0.599729</td>\n",
       "      <td>-1.187615</td>\n",
       "      <td>-0.267063</td>\n",
       "      <td>-0.267063</td>\n",
       "      <td>-0.267063</td>\n",
       "      <td>-0.267063</td>\n",
       "      <td>-2.718769</td>\n",
       "    </tr>\n",
       "    <tr>\n",
       "      <th>2020-12-31 00:00:00</th>\n",
       "      <td>-0.000612</td>\n",
       "      <td>0.794553</td>\n",
       "      <td>0.099730</td>\n",
       "      <td>-0.335944</td>\n",
       "      <td>-0.335944</td>\n",
       "      <td>-0.335944</td>\n",
       "      <td>-0.335944</td>\n",
       "      <td>-0.250169</td>\n",
       "    </tr>\n",
       "    <tr>\n",
       "      <th>2019-12-31 00:00:00</th>\n",
       "      <td>5.000000</td>\n",
       "      <td>5.000000</td>\n",
       "      <td>5.000000</td>\n",
       "      <td>5.000000</td>\n",
       "      <td>5.000000</td>\n",
       "      <td>5.000000</td>\n",
       "      <td>5.000000</td>\n",
       "      <td>5.000000</td>\n",
       "    </tr>\n",
       "    <tr>\n",
       "      <th>2024-12-31 00:00:00</th>\n",
       "      <td>10.000000</td>\n",
       "      <td>10.000000</td>\n",
       "      <td>10.000000</td>\n",
       "      <td>10.000000</td>\n",
       "      <td>10.000000</td>\n",
       "      <td>10.000000</td>\n",
       "      <td>10.000000</td>\n",
       "      <td>10.000000</td>\n",
       "    </tr>\n",
       "  </tbody>\n",
       "</table>\n",
       "</div>"
      ],
      "text/plain": [
       "                             A          C          D          E          E  \\\n",
       "2021-12-31 00:00:00  -0.228272  -0.599729  -1.187615  -0.267063  -0.267063   \n",
       "2020-12-31 00:00:00  -0.000612   0.794553   0.099730  -0.335944  -0.335944   \n",
       "2019-12-31 00:00:00   5.000000   5.000000   5.000000   5.000000   5.000000   \n",
       "2024-12-31 00:00:00  10.000000  10.000000  10.000000  10.000000  10.000000   \n",
       "\n",
       "                             E          E          B  \n",
       "2021-12-31 00:00:00  -0.267063  -0.267063  -2.718769  \n",
       "2020-12-31 00:00:00  -0.335944  -0.335944  -0.250169  \n",
       "2019-12-31 00:00:00   5.000000   5.000000   5.000000  \n",
       "2024-12-31 00:00:00  10.000000  10.000000  10.000000  "
      ]
     },
     "execution_count": 176,
     "metadata": {},
     "output_type": "execute_result"
    }
   ],
   "source": [
    "# 정렬 \n",
    "rand_df.sort_values('A')  # 오름차순"
   ]
  },
  {
   "cell_type": "code",
   "execution_count": 180,
   "metadata": {},
   "outputs": [
    {
     "data": {
      "text/html": [
       "<div>\n",
       "<style scoped>\n",
       "    .dataframe tbody tr th:only-of-type {\n",
       "        vertical-align: middle;\n",
       "    }\n",
       "\n",
       "    .dataframe tbody tr th {\n",
       "        vertical-align: top;\n",
       "    }\n",
       "\n",
       "    .dataframe thead th {\n",
       "        text-align: right;\n",
       "    }\n",
       "</style>\n",
       "<table border=\"1\" class=\"dataframe\">\n",
       "  <thead>\n",
       "    <tr style=\"text-align: right;\">\n",
       "      <th></th>\n",
       "      <th>A</th>\n",
       "      <th>C</th>\n",
       "      <th>D</th>\n",
       "      <th>E</th>\n",
       "      <th>E</th>\n",
       "      <th>E</th>\n",
       "      <th>E</th>\n",
       "      <th>B</th>\n",
       "    </tr>\n",
       "  </thead>\n",
       "  <tbody>\n",
       "    <tr>\n",
       "      <th>2024-12-31 00:00:00</th>\n",
       "      <td>10.000000</td>\n",
       "      <td>10.000000</td>\n",
       "      <td>10.000000</td>\n",
       "      <td>10.000000</td>\n",
       "      <td>10.000000</td>\n",
       "      <td>10.000000</td>\n",
       "      <td>10.000000</td>\n",
       "      <td>10.000000</td>\n",
       "    </tr>\n",
       "    <tr>\n",
       "      <th>2019-12-31 00:00:00</th>\n",
       "      <td>5.000000</td>\n",
       "      <td>5.000000</td>\n",
       "      <td>5.000000</td>\n",
       "      <td>5.000000</td>\n",
       "      <td>5.000000</td>\n",
       "      <td>5.000000</td>\n",
       "      <td>5.000000</td>\n",
       "      <td>5.000000</td>\n",
       "    </tr>\n",
       "    <tr>\n",
       "      <th>2020-12-31 00:00:00</th>\n",
       "      <td>-0.000612</td>\n",
       "      <td>0.794553</td>\n",
       "      <td>0.099730</td>\n",
       "      <td>-0.335944</td>\n",
       "      <td>-0.335944</td>\n",
       "      <td>-0.335944</td>\n",
       "      <td>-0.335944</td>\n",
       "      <td>-0.250169</td>\n",
       "    </tr>\n",
       "    <tr>\n",
       "      <th>2021-12-31 00:00:00</th>\n",
       "      <td>-0.228272</td>\n",
       "      <td>-0.599729</td>\n",
       "      <td>-1.187615</td>\n",
       "      <td>-0.267063</td>\n",
       "      <td>-0.267063</td>\n",
       "      <td>-0.267063</td>\n",
       "      <td>-0.267063</td>\n",
       "      <td>-2.718769</td>\n",
       "    </tr>\n",
       "  </tbody>\n",
       "</table>\n",
       "</div>"
      ],
      "text/plain": [
       "                             A          C          D          E          E  \\\n",
       "2024-12-31 00:00:00  10.000000  10.000000  10.000000  10.000000  10.000000   \n",
       "2019-12-31 00:00:00   5.000000   5.000000   5.000000   5.000000   5.000000   \n",
       "2020-12-31 00:00:00  -0.000612   0.794553   0.099730  -0.335944  -0.335944   \n",
       "2021-12-31 00:00:00  -0.228272  -0.599729  -1.187615  -0.267063  -0.267063   \n",
       "\n",
       "                             E          E          B  \n",
       "2024-12-31 00:00:00  10.000000  10.000000  10.000000  \n",
       "2019-12-31 00:00:00   5.000000   5.000000   5.000000  \n",
       "2020-12-31 00:00:00  -0.335944  -0.335944  -0.250169  \n",
       "2021-12-31 00:00:00  -0.267063  -0.267063  -2.718769  "
      ]
     },
     "execution_count": 180,
     "metadata": {},
     "output_type": "execute_result"
    }
   ],
   "source": [
    "rand_df.sort_values('A',ascending = False)  #내림차순"
   ]
  },
  {
   "cell_type": "markdown",
   "metadata": {},
   "source": [
    "### 외부 파일 읽어들이기"
   ]
  },
  {
   "cell_type": "code",
   "execution_count": 189,
   "metadata": {},
   "outputs": [
    {
     "data": {
      "text/html": [
       "<div>\n",
       "<style scoped>\n",
       "    .dataframe tbody tr th:only-of-type {\n",
       "        vertical-align: middle;\n",
       "    }\n",
       "\n",
       "    .dataframe tbody tr th {\n",
       "        vertical-align: top;\n",
       "    }\n",
       "\n",
       "    .dataframe thead th {\n",
       "        text-align: right;\n",
       "    }\n",
       "</style>\n",
       "<table border=\"1\" class=\"dataframe\">\n",
       "  <thead>\n",
       "    <tr style=\"text-align: right;\">\n",
       "      <th></th>\n",
       "      <th>dates</th>\n",
       "      <th>price</th>\n",
       "    </tr>\n",
       "  </thead>\n",
       "  <tbody>\n",
       "    <tr>\n",
       "      <th>0</th>\n",
       "      <td>2019-01-01</td>\n",
       "      <td>11</td>\n",
       "    </tr>\n",
       "    <tr>\n",
       "      <th>1</th>\n",
       "      <td>2019-01-02</td>\n",
       "      <td>12</td>\n",
       "    </tr>\n",
       "    <tr>\n",
       "      <th>2</th>\n",
       "      <td>2019-01-03</td>\n",
       "      <td>12</td>\n",
       "    </tr>\n",
       "    <tr>\n",
       "      <th>3</th>\n",
       "      <td>2019-01-04</td>\n",
       "      <td>12</td>\n",
       "    </tr>\n",
       "    <tr>\n",
       "      <th>4</th>\n",
       "      <td>2019-01-05</td>\n",
       "      <td>12</td>\n",
       "    </tr>\n",
       "  </tbody>\n",
       "</table>\n",
       "</div>"
      ],
      "text/plain": [
       "       dates  price\n",
       "0 2019-01-01     11\n",
       "1 2019-01-02     12\n",
       "2 2019-01-03     12\n",
       "3 2019-01-04     12\n",
       "4 2019-01-05     12"
      ]
     },
     "execution_count": 189,
     "metadata": {},
     "output_type": "execute_result"
    }
   ],
   "source": [
    "sample_exel = pd.read_excel('sample.xlsx',encoding='UTF-8')\n",
    "sample_exel.head()"
   ]
  },
  {
   "cell_type": "code",
   "execution_count": 201,
   "metadata": {},
   "outputs": [],
   "source": [
    "sample_exel.to_excel('copy_exel.xlsx',encoding='UTF-8')\n"
   ]
  },
  {
   "cell_type": "code",
   "execution_count": 204,
   "metadata": {},
   "outputs": [],
   "source": [
    "sample_exel.to_csv('copy_exel.csv',encoding='UTF-8', index=False)"
   ]
  },
  {
   "cell_type": "code",
   "execution_count": 206,
   "metadata": {},
   "outputs": [
    {
     "data": {
      "text/html": [
       "<div>\n",
       "<style scoped>\n",
       "    .dataframe tbody tr th:only-of-type {\n",
       "        vertical-align: middle;\n",
       "    }\n",
       "\n",
       "    .dataframe tbody tr th {\n",
       "        vertical-align: top;\n",
       "    }\n",
       "\n",
       "    .dataframe thead th {\n",
       "        text-align: right;\n",
       "    }\n",
       "</style>\n",
       "<table border=\"1\" class=\"dataframe\">\n",
       "  <thead>\n",
       "    <tr style=\"text-align: right;\">\n",
       "      <th></th>\n",
       "      <th>dates</th>\n",
       "      <th>price</th>\n",
       "    </tr>\n",
       "  </thead>\n",
       "  <tbody>\n",
       "    <tr>\n",
       "      <th>0</th>\n",
       "      <td>2019-01-01</td>\n",
       "      <td>11</td>\n",
       "    </tr>\n",
       "    <tr>\n",
       "      <th>1</th>\n",
       "      <td>2019-01-02</td>\n",
       "      <td>12</td>\n",
       "    </tr>\n",
       "    <tr>\n",
       "      <th>2</th>\n",
       "      <td>2019-01-03</td>\n",
       "      <td>12</td>\n",
       "    </tr>\n",
       "    <tr>\n",
       "      <th>3</th>\n",
       "      <td>2019-01-04</td>\n",
       "      <td>12</td>\n",
       "    </tr>\n",
       "    <tr>\n",
       "      <th>4</th>\n",
       "      <td>2019-01-05</td>\n",
       "      <td>12</td>\n",
       "    </tr>\n",
       "  </tbody>\n",
       "</table>\n",
       "</div>"
      ],
      "text/plain": [
       "        dates  price\n",
       "0  2019-01-01     11\n",
       "1  2019-01-02     12\n",
       "2  2019-01-03     12\n",
       "3  2019-01-04     12\n",
       "4  2019-01-05     12"
      ]
     },
     "execution_count": 206,
     "metadata": {},
     "output_type": "execute_result"
    }
   ],
   "source": [
    "sample_csv=pd.read_csv('copy_exel.csv')\n",
    "sample_csv.head()"
   ]
  },
  {
   "cell_type": "code",
   "execution_count": null,
   "metadata": {},
   "outputs": [],
   "source": []
  }
 ],
 "metadata": {
  "kernelspec": {
   "display_name": "Python 3",
   "language": "python",
   "name": "python3"
  },
  "language_info": {
   "codemirror_mode": {
    "name": "ipython",
    "version": 3
   },
   "file_extension": ".py",
   "mimetype": "text/x-python",
   "name": "python",
   "nbconvert_exporter": "python",
   "pygments_lexer": "ipython3",
   "version": "3.7.3"
  }
 },
 "nbformat": 4,
 "nbformat_minor": 2
}
