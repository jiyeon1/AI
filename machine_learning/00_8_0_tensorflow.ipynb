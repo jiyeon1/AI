{
 "cells": [
  {
   "cell_type": "code",
   "execution_count": 2,
   "metadata": {},
   "outputs": [],
   "source": [
    "import tensorflow as tf"
   ]
  },
  {
   "cell_type": "markdown",
   "metadata": {},
   "source": [
    "#### tensor\n",
    "numpy에 ndarray라면, tensorflow에서는 tensor다.  \n",
    "data 의 기본 단위가 tensor라고 생각하자.  \n",
    "구조는 ndarray와 동일하다. 즉, 배열 형태이다.  "
   ]
  },
  {
   "cell_type": "code",
   "execution_count": 3,
   "metadata": {},
   "outputs": [
    {
     "data": {
      "text/plain": [
       "<tf.Variable 'Variable:0' shape=() dtype=int32_ref>"
      ]
     },
     "execution_count": 3,
     "metadata": {},
     "output_type": "execute_result"
    }
   ],
   "source": [
    "var = tf.Variable(5)  # 5를var에 변수로 넣을거야\n",
    "var   # shape() = (1,1) = 숫자 1개 = scalar"
   ]
  },
  {
   "cell_type": "code",
   "execution_count": 4,
   "metadata": {},
   "outputs": [
    {
     "data": {
      "text/plain": [
       "<tf.Tensor 'Const:0' shape=() dtype=int32>"
      ]
     },
     "execution_count": 4,
     "metadata": {},
     "output_type": "execute_result"
    }
   ],
   "source": [
    "con = tf.constant(5)  # 5를 con에 상수로 넣을거야\n",
    "con"
   ]
  },
  {
   "cell_type": "code",
   "execution_count": 6,
   "metadata": {},
   "outputs": [
    {
     "data": {
      "text/plain": [
       "<tf.Tensor 'Add_1:0' shape=() dtype=int32>"
      ]
     },
     "execution_count": 6,
     "metadata": {},
     "output_type": "execute_result"
    }
   ],
   "source": [
    "add = tf.add(var, con)  # add = var + con\n",
    "add"
   ]
  },
  {
   "cell_type": "markdown",
   "metadata": {},
   "source": [
    "var 와 con의 차이는 뭘까?  \n",
    "var는 변형가능, con은 변형 불가능하다.  \n",
    "var = 변수 init 필요  \n",
    "con = 상수\n",
    "무슨 말일까? 한번 살펴보자."
   ]
  },
  {
   "cell_type": "code",
   "execution_count": 7,
   "metadata": {},
   "outputs": [],
   "source": [
    "init = tf.global_variables_initializer()"
   ]
  },
  {
   "cell_type": "code",
   "execution_count": 10,
   "metadata": {},
   "outputs": [
    {
     "data": {
      "text/plain": [
       "<tf.Tensor 'Assign_1:0' shape=() dtype=int32_ref>"
      ]
     },
     "execution_count": 10,
     "metadata": {},
     "output_type": "execute_result"
    }
   ],
   "source": [
    "assign = tf.assign(var, 10)  # var->10으로 변형\n",
    "assign"
   ]
  },
  {
   "cell_type": "raw",
   "metadata": {},
   "source": [
    "assign = tf.assign(con, 10)  # con->10으로 변형; error"
   ]
  },
  {
   "cell_type": "markdown",
   "metadata": {},
   "source": [
    "#### session : build 따로 run 따로"
   ]
  },
  {
   "cell_type": "markdown",
   "metadata": {},
   "source": [
    "var에 5를 넣고, var을 출력해봤더니, 5가 안나온다. 이상하지 않은가.  \n",
    "바로 이부분이 tensorflow의 핵심포인트다.  \n",
    "바로 build와 run을 구분해놓았다는 점!!"
   ]
  },
  {
   "cell_type": "markdown",
   "metadata": {},
   "source": [
    "##### tensor들의 graph형태로 이루어져 있다. \n",
    "graph = edge + node\n",
    "tensorflow = tensor(var, con, add, assign...)이런게 graph로 연결되어 있음  \n",
    "\n",
    "이전까지의 code는 tensor graph를 build한것    \n",
    "-> session을 열어서 run 해줘야한다  \n",
    "-> session == switch"
   ]
  },
  {
   "cell_type": "code",
   "execution_count": 12,
   "metadata": {},
   "outputs": [
    {
     "name": "stdout",
     "output_type": "stream",
     "text": [
      "con: 5\n",
      "var: 5\n",
      "10\n",
      "10\n",
      "after assign, var: 10\n"
     ]
    }
   ],
   "source": [
    "sess = tf.Session()   # 스위치 공사\n",
    "sess.run(init)        # 이제 스위치를 누르면 된다\n",
    "\n",
    "print('con:', sess.run(con))\n",
    "print('var:', sess.run(var))\n",
    "\n",
    "print(sess.run(add))\n",
    "print(sess.run(assign))\n",
    "print('after assign, var:', sess.run(var))\n",
    "\n",
    "sess.close()  # 다 끝나면 session 닫아주기"
   ]
  },
  {
   "cell_type": "code",
   "execution_count": 16,
   "metadata": {},
   "outputs": [
    {
     "name": "stdout",
     "output_type": "stream",
     "text": [
      "con: 5\n",
      "var: 5\n",
      "10\n",
      "10\n",
      "after assign, var: 10\n"
     ]
    }
   ],
   "source": [
    "with tf.Session() as sess:#스위치 공사\n",
    "    sess.run(init)\n",
    "\n",
    "    print('con:', sess.run(con))\n",
    "    print('var:', sess.run(var))\n",
    "\n",
    "    print(sess.run(add))\n",
    "\n",
    "    print(sess.run(assign))\n",
    "\n",
    "    print('after assign, var:', sess.run(var))\n"
   ]
  }
 ],
 "metadata": {
  "kernelspec": {
   "display_name": "Python 3",
   "language": "python",
   "name": "python3"
  },
  "language_info": {
   "codemirror_mode": {
    "name": "ipython",
    "version": 3
   },
   "file_extension": ".py",
   "mimetype": "text/x-python",
   "name": "python",
   "nbconvert_exporter": "python",
   "pygments_lexer": "ipython3",
   "version": "3.7.3"
  }
 },
 "nbformat": 4,
 "nbformat_minor": 2
}
