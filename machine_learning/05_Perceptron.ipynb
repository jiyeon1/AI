{
 "cells": [
  {
   "cell_type": "markdown",
   "metadata": {},
   "source": [
    "# Perceptron"
   ]
  },
  {
   "cell_type": "markdown",
   "metadata": {},
   "source": [
    "### Multi Layer Perceptron (Neural Network)"
   ]
  },
  {
   "cell_type": "markdown",
   "metadata": {},
   "source": [
    "perceptron : 선형모델 -> Multi layer Perceptron : 비선형모델"
   ]
  },
  {
   "cell_type": "code",
   "execution_count": 1,
   "metadata": {},
   "outputs": [],
   "source": [
    "from sklearn.neural_network import MLPClassifier"
   ]
  },
  {
   "cell_type": "code",
   "execution_count": 75,
   "metadata": {},
   "outputs": [
    {
     "data": {
      "image/png": "[encoded data removed]",
      "text/plain": [
       "<Figure size 432x288 with 1 Axes>"
      ]
     },
     "metadata": {
      "needs_background": "light"
     },
     "output_type": "display_data"
    }
   ],
   "source": [
    "import numpy as np\n",
    "from matplotlib import pyplot as plt\n",
    "#200개의 데이터, feature = 2개\n",
    "np.random.seed(30)\n",
    "X = np.random.randn(100, 2)\n",
    "y = np.logical_xor(X[:, 0]>0, X[:, 1]>0)\n",
    "y = np.where(y, 1, -1)\n",
    "plt.scatter(X[y==1, 0], X[y==1, 1], c='b')\n",
    "plt.scatter(X[y==-1, 0], X[y==-1, 1], c='r')\n",
    "plt.show()"
   ]
  },
  {
   "cell_type": "code",
   "execution_count": 76,
   "metadata": {},
   "outputs": [
    {
     "data": {
      "image/png": "[encoded data removed]",
      "text/plain": [
       "<Figure size 432x288 with 1 Axes>"
      ]
     },
     "metadata": {
      "needs_background": "light"
     },
     "output_type": "display_data"
    }
   ],
   "source": [
    "from sklearn.model_selection import train_test_split\n",
    "\n",
    "X_train, X_test, y_train, y_test = train_test_split(X, y,\n",
    "                                                   test_size=0.2,\n",
    "                                                   shuffle=True)\n",
    "plt.scatter(X_train[y_train==1, 0],\n",
    "            X_train[y_train==1, 1], c='b')\n",
    "plt.scatter(X_train[y_train==-1, 0],\n",
    "            X_train[y_train==-1, 1], c='r')\n",
    "plt.show()"
   ]
  },
  {
   "cell_type": "code",
   "execution_count": 115,
   "metadata": {},
   "outputs": [],
   "source": [
    "model_pctr = MLPClassifier(hidden_layer_sizes=(1))"
   ]
  },
  {
   "cell_type": "code",
   "execution_count": 116,
   "metadata": {},
   "outputs": [
    {
     "name": "stderr",
     "output_type": "stream",
     "text": [
      "C:\\ProgramData\\Anaconda3\\envs\\finance\\lib\\site-packages\\sklearn\\neural_network\\multilayer_perceptron.py:562: ConvergenceWarning: Stochastic Optimizer: Maximum iterations (200) reached and the optimization hasn't converged yet.\n",
      "  % self.max_iter, ConvergenceWarning)\n"
     ]
    },
    {
     "data": {
      "text/plain": [
       "MLPClassifier(activation='relu', alpha=0.0001, batch_size='auto', beta_1=0.9,\n",
       "       beta_2=0.999, early_stopping=False, epsilon=1e-08,\n",
       "       hidden_layer_sizes=1, learning_rate='constant',\n",
       "       learning_rate_init=0.001, max_iter=200, momentum=0.9,\n",
       "       n_iter_no_change=10, nesterovs_momentum=True, power_t=0.5,\n",
       "       random_state=None, shuffle=True, solver='adam', tol=0.0001,\n",
       "       validation_fraction=0.1, verbose=False, warm_start=False)"
      ]
     },
     "execution_count": 116,
     "metadata": {},
     "output_type": "execute_result"
    }
   ],
   "source": [
    "model_pctr.fit(X_train, y_train)"
   ]
  },
  {
   "cell_type": "code",
   "execution_count": 117,
   "metadata": {},
   "outputs": [
    {
     "data": {
      "text/plain": [
       "0.65"
      ]
     },
     "execution_count": 117,
     "metadata": {},
     "output_type": "execute_result"
    }
   ],
   "source": [
    "model_pctr.score(X_test, y_test)"
   ]
  },
  {
   "cell_type": "code",
   "execution_count": 118,
   "metadata": {},
   "outputs": [
    {
     "data": {
      "text/plain": [
       "0.6125"
      ]
     },
     "execution_count": 118,
     "metadata": {},
     "output_type": "execute_result"
    }
   ],
   "source": [
    "model_pctr.score(X_train, y_train)"
   ]
  },
  {
   "cell_type": "code",
   "execution_count": 119,
   "metadata": {},
   "outputs": [
    {
     "name": "stderr",
     "output_type": "stream",
     "text": [
      "C:\\ProgramData\\Anaconda3\\envs\\finance\\lib\\site-packages\\sklearn\\neural_network\\multilayer_perceptron.py:562: ConvergenceWarning: Stochastic Optimizer: Maximum iterations (200) reached and the optimization hasn't converged yet.\n",
      "  % self.max_iter, ConvergenceWarning)\n"
     ]
    }
   ],
   "source": [
    "model_pctr2 = MLPClassifier(hidden_layer_sizes=(100, 10)).fit(X_train, y_train)"
   ]
  },
  {
   "cell_type": "code",
   "execution_count": 120,
   "metadata": {},
   "outputs": [
    {
     "data": {
      "text/plain": [
       "0.9"
      ]
     },
     "execution_count": 120,
     "metadata": {},
     "output_type": "execute_result"
    }
   ],
   "source": [
    "model_pctr2.score(X_test, y_test)"
   ]
  },
  {
   "cell_type": "code",
   "execution_count": 121,
   "metadata": {},
   "outputs": [
    {
     "data": {
      "text/plain": [
       "0.9875"
      ]
     },
     "execution_count": 121,
     "metadata": {},
     "output_type": "execute_result"
    }
   ],
   "source": [
    "model_pctr2.score(X_train, y_train)"
   ]
  },
  {
   "cell_type": "markdown",
   "metadata": {},
   "source": [
    "#### parameter \n",
    "- activation  \n",
    "1) default : relu  \n",
    "2) logistic  \n",
    "3) tanh (sigmoid 일종)  \n",
    "4) indentity : linear  \n",
    "  \n",
    "- solver   \n",
    "1) default : adam  \n",
    "2) lbfgs   \n",
    "3) sgd : stochastic(확률적) gradient decent  \n",
    "  \n",
    "- alpha : l2 norm 규제 정도 (Ridge regression과 동일)\n",
    "  \n",
    "- tol : cost 가 학습을 멈추는 기준 값 (cost = tol 일 될때까지)\n",
    "  \n",
    "- max_iter : optimizing 최대 반복 수"
   ]
  },
  {
   "cell_type": "code",
   "execution_count": 97,
   "metadata": {},
   "outputs": [
    {
     "data": {
      "text/plain": [
       "[array([[ 2.79635273e-01,  6.68375238e-02,  6.08793518e-02,\n",
       "          3.40824015e-01,  3.13314836e-01,  1.72981930e-01,\n",
       "          3.34884757e-02,  3.92384733e-02,  3.41495711e-01,\n",
       "         -3.92441421e-01,  4.39733405e-02, -3.38898031e-01,\n",
       "         -2.53673725e-01,  1.64726288e-01, -7.32883273e-02,\n",
       "         -2.50402854e-01,  3.29460900e-01,  8.98295985e-02,\n",
       "          3.68725457e-01,  1.40253443e-01, -2.50394417e-02,\n",
       "          5.41585623e-06, -1.67164479e-02,  2.91920977e-01,\n",
       "         -1.43902356e-01, -2.43816126e-01,  2.19066135e-03,\n",
       "          4.14853239e-01, -1.12000598e-01,  1.42427157e-01,\n",
       "          2.44779386e-01, -6.71345019e-02, -3.50330213e-03,\n",
       "          4.68848948e-02,  2.51514309e-01,  3.12167867e-01,\n",
       "          2.88330395e-01, -2.91607613e-01,  3.36893330e-01,\n",
       "         -3.54994317e-01,  1.33855840e-01,  3.46003462e-06,\n",
       "          2.08953906e-01, -2.77453568e-01,  2.22183799e-01,\n",
       "         -3.94233682e-02, -1.78679510e-01,  3.16033651e-01,\n",
       "         -1.87470037e-01, -2.53995666e-01, -1.82411481e-01,\n",
       "         -3.12744713e-01, -3.93559092e-01,  3.54111685e-01,\n",
       "         -1.94182643e-01,  2.11060697e-01,  8.59118241e-02,\n",
       "          3.46887380e-01, -1.62484281e-01,  3.74524896e-01,\n",
       "         -2.47148901e-01,  2.28801536e-01, -3.59979657e-01,\n",
       "         -2.84801799e-01,  2.76473160e-01,  7.94967322e-02,\n",
       "          1.29419541e-03, -4.37089557e-02, -3.52804148e-01,\n",
       "          1.16795000e-01, -1.43181844e-01,  3.85403101e-01,\n",
       "          1.63655687e-07,  6.72003836e-06,  1.94508529e-01,\n",
       "          5.88012766e-03,  8.83036186e-02, -3.24073269e-01,\n",
       "         -3.42524393e-01,  4.28658560e-01,  3.53101117e-01,\n",
       "          1.22669667e-01, -2.16534067e-01, -3.24893090e-01,\n",
       "          1.28554573e-04,  2.68730103e-01, -1.50708309e-01,\n",
       "         -3.72886198e-01,  3.90427451e-01, -2.56281520e-01,\n",
       "          2.05779988e-01,  2.00533518e-01,  1.26313531e-01,\n",
       "         -6.48482125e-02,  1.04342299e-01, -3.83872728e-01,\n",
       "         -1.64859427e-01,  2.39745846e-01,  9.59427754e-02,\n",
       "         -2.57716209e-01],\n",
       "        [-3.12181774e-01, -2.36060533e-02, -2.39477842e-01,\n",
       "         -1.22782255e-01, -6.34249334e-03, -1.11285934e-01,\n",
       "         -2.84635052e-01, -7.63851426e-02,  2.84772136e-01,\n",
       "         -7.11388114e-02,  2.35806590e-01, -1.20021409e-01,\n",
       "         -9.24241631e-02, -1.31604859e-01,  2.38163503e-01,\n",
       "         -2.11283086e-01, -3.24196107e-01, -1.37944312e-01,\n",
       "          2.21476158e-01, -1.29636403e-01,  1.62947080e-01,\n",
       "         -7.44627343e-08, -4.14046527e-01,  3.54726965e-01,\n",
       "          7.36292749e-02, -3.21065959e-01,  5.82132443e-03,\n",
       "          1.93131555e-01,  4.46229217e-01, -2.46519153e-01,\n",
       "         -3.33860694e-01, -6.55096053e-04, -2.59450391e-01,\n",
       "         -2.23963682e-01, -2.17776523e-01, -5.27095090e-02,\n",
       "         -8.42470409e-03, -2.74243567e-01, -2.59728658e-01,\n",
       "          3.58083289e-01,  3.51060421e-01,  8.92821006e-04,\n",
       "         -3.23922616e-01, -2.78405942e-01, -3.15273728e-01,\n",
       "          4.05583874e-01, -4.32542347e-01,  2.28202857e-01,\n",
       "          4.52008157e-02,  2.07156427e-01, -9.57526091e-02,\n",
       "         -2.29160156e-02,  1.49478855e-01,  3.83044252e-01,\n",
       "         -6.15122182e-02, -1.75970875e-01, -1.57872895e-01,\n",
       "         -2.88713570e-01,  3.91140692e-01,  1.85288156e-01,\n",
       "         -2.62978488e-01, -2.26746558e-01, -3.25341571e-01,\n",
       "         -3.54996069e-01, -1.98129542e-01, -2.89212372e-01,\n",
       "          3.95268915e-05,  2.52791871e-01,  3.05965416e-01,\n",
       "         -1.11816827e-01,  4.17634413e-01, -2.04172902e-01,\n",
       "          2.18924691e-04, -3.37339624e-06,  3.20304881e-01,\n",
       "          4.07619982e-01,  3.82170889e-01,  2.53672293e-02,\n",
       "          2.58497295e-01, -1.26876302e-02,  6.70978801e-02,\n",
       "         -1.66519838e-01,  2.48624904e-01,  2.41131736e-01,\n",
       "         -3.51420735e-01,  1.82015222e-01, -8.02372549e-02,\n",
       "          9.60267358e-03,  3.85936873e-01,  1.76086383e-01,\n",
       "         -4.84347133e-02,  3.62215133e-01,  5.88191543e-02,\n",
       "          3.20071279e-01,  3.62383419e-01, -3.11369393e-01,\n",
       "         -1.99188422e-01,  3.41890348e-01,  4.16781767e-01,\n",
       "         -2.79331343e-01]]),\n",
       " array([[ 1.10185934e-01, -7.81684744e-02,  2.18090817e-01,\n",
       "          2.97061308e-02,  1.22548821e-02, -3.87795303e-02,\n",
       "         -1.67219679e-01,  2.46714550e-01, -1.01229368e-01,\n",
       "         -4.97000672e-02],\n",
       "        [ 7.89774533e-02,  6.89042100e-02, -1.58946945e-01,\n",
       "          9.09410285e-02,  9.06812265e-02,  6.05946330e-06,\n",
       "          4.29626763e-02,  1.64840429e-01,  8.23437973e-02,\n",
       "          8.56742533e-02],\n",
       "        [ 5.37416561e-02, -2.50182458e-01,  1.40511900e-01,\n",
       "         -5.30897215e-02,  2.80017919e-01, -7.51734525e-02,\n",
       "          2.05545797e-01,  5.71489037e-02,  1.82104690e-01,\n",
       "          1.51233867e-01],\n",
       "        [ 4.93312815e-03,  1.16505732e-01,  3.23154410e-01,\n",
       "          6.63317415e-02,  2.03587406e-01, -2.21287352e-01,\n",
       "         -1.79983091e-01,  3.66718939e-01,  6.79085958e-02,\n",
       "         -5.72201914e-02],\n",
       "        [-2.05833450e-01,  6.56648357e-02,  3.49726129e-01,\n",
       "         -8.80635514e-02,  1.66009057e-01, -2.28718875e-01,\n",
       "         -3.78958393e-01,  1.49652390e-01,  8.35423595e-02,\n",
       "         -3.88951904e-01],\n",
       "        [-2.40910905e-01, -1.39934603e-01,  3.09595126e-01,\n",
       "         -2.35516172e-01,  1.02701310e-01, -3.32702969e-01,\n",
       "         -3.39619048e-01, -5.78241911e-02, -2.58601290e-01,\n",
       "         -8.13484261e-02],\n",
       "        [-1.33157012e-01,  4.60481623e-02, -2.31228360e-03,\n",
       "          9.68136530e-02,  3.01108906e-01,  1.76954704e-01,\n",
       "          3.38711740e-02,  6.48881345e-02, -2.60598613e-02,\n",
       "         -4.40882098e-01],\n",
       "        [ 1.12231733e-01, -4.61593321e-03, -1.15174331e-03,\n",
       "          3.57357120e-02, -7.75097353e-02, -1.54168198e-01,\n",
       "         -2.27201426e-01,  3.53674856e-02, -2.09022553e-02,\n",
       "          9.50341286e-08],\n",
       "        [ 1.38618538e-03,  2.42375338e-01, -1.00942573e-01,\n",
       "          4.42672387e-01, -2.96018415e-01, -2.83039562e-02,\n",
       "         -1.67859063e-02, -9.51177124e-03,  2.44072669e-01,\n",
       "          1.31446013e-03],\n",
       "        [-1.16500901e-01, -2.88477796e-01, -2.89833438e-01,\n",
       "          2.12782544e-01, -2.70522982e-01, -9.71630105e-02,\n",
       "          1.53449581e-01,  2.67912048e-01,  3.29446769e-01,\n",
       "          2.08829710e-01],\n",
       "        [ 5.77537959e-02,  2.74315686e-01, -3.44999463e-01,\n",
       "         -2.47991680e-02, -5.43063400e-02,  9.28606041e-02,\n",
       "         -2.44830035e-01,  2.13275151e-01,  1.88260297e-01,\n",
       "         -4.83521635e-02],\n",
       "        [-2.38037610e-02, -2.20255370e-01, -2.36308988e-01,\n",
       "          7.54960685e-02, -1.07002425e-01,  3.23898921e-01,\n",
       "         -3.11335294e-02, -8.18702140e-02,  3.76502915e-02,\n",
       "          2.75526093e-01],\n",
       "        [-5.50216147e-02, -1.82512408e-01, -3.49328180e-01,\n",
       "          1.33367394e-01, -3.39799443e-01, -8.22752297e-02,\n",
       "          2.55720864e-01, -2.04488568e-01,  2.14562455e-01,\n",
       "          1.35509438e-01],\n",
       "        [-9.59326229e-02, -8.34364581e-02,  3.44117798e-01,\n",
       "          5.17609028e-02,  1.32536002e-01,  1.51207213e-01,\n",
       "          2.09511803e-01, -1.76118594e-01,  2.61192433e-01,\n",
       "         -1.16197462e-01],\n",
       "        [ 6.98766060e-02,  3.19759643e-01, -5.47024613e-02,\n",
       "          2.93032527e-01, -2.25211086e-01,  2.78980478e-01,\n",
       "         -1.70066839e-01,  2.02709816e-01,  1.11256793e-01,\n",
       "          3.70676095e-01],\n",
       "        [ 9.27618802e-02, -3.97089155e-01, -1.61572796e-02,\n",
       "          2.33407972e-01,  1.28424277e-01,  3.52511522e-01,\n",
       "          2.76576590e-01,  8.13728610e-02, -2.43209714e-02,\n",
       "          7.29720771e-02],\n",
       "        [ 1.01829656e-01,  1.37544608e-01,  3.59928256e-01,\n",
       "          1.94484038e-02,  1.69892389e-01, -2.12850294e-01,\n",
       "         -1.80967923e-01,  8.02362988e-02,  4.20900290e-02,\n",
       "         -1.48323639e-01],\n",
       "        [ 2.30898837e-02,  2.63359874e-01,  3.98725374e-01,\n",
       "          1.67240906e-01,  6.33191380e-02,  1.44696996e-01,\n",
       "          4.28570660e-01, -3.57032430e-02,  3.20524716e-01,\n",
       "         -6.21626799e-02],\n",
       "        [ 2.42693869e-03,  3.65508392e-01, -3.62794042e-02,\n",
       "          3.98844167e-01,  5.97775221e-02, -4.01987608e-02,\n",
       "         -2.02072775e-01, -3.35035500e-01,  1.62062292e-01,\n",
       "         -1.59491771e-01],\n",
       "        [ 1.80871295e-06, -3.10085198e-01,  4.15318203e-01,\n",
       "         -1.68801986e-01,  5.39779759e-02, -3.21339006e-01,\n",
       "         -1.05931248e-01,  1.11970967e-01, -2.54952343e-01,\n",
       "         -8.04593189e-02],\n",
       "        [-1.81868178e-01,  2.25246650e-01,  7.18402310e-02,\n",
       "          4.97154898e-03, -1.43577490e-02, -1.25648050e-01,\n",
       "          1.56116452e-01, -1.44969712e-01, -3.22831520e-02,\n",
       "         -1.33735569e-01],\n",
       "        [ 1.00208599e-02, -7.04965275e-02,  2.71527404e-07,\n",
       "          6.14736173e-02, -2.74224936e-02,  6.68630822e-02,\n",
       "          6.72326594e-06,  7.50131733e-02,  6.76893596e-06,\n",
       "          6.63788314e-03],\n",
       "        [-9.98029035e-02, -4.21921670e-02,  1.71947367e-01,\n",
       "          2.53114424e-01,  9.63781416e-02,  3.12227852e-01,\n",
       "          2.59680466e-01,  1.74644995e-01, -1.03392825e-02,\n",
       "         -2.03990186e-02],\n",
       "        [-2.96488457e-02,  1.62960759e-01, -3.82397572e-03,\n",
       "          2.18254022e-01, -1.46814644e-01, -2.84278651e-01,\n",
       "         -2.36275654e-02, -1.89998101e-01,  1.92704990e-01,\n",
       "         -1.25021609e-01],\n",
       "        [-1.59462189e-01, -9.58349194e-02, -4.93079570e-02,\n",
       "          2.14520895e-01, -6.61724221e-02, -1.19864118e-01,\n",
       "          5.94806554e-02,  7.26362463e-04, -1.26669781e-02,\n",
       "          2.88099359e-01],\n",
       "        [ 1.83845620e-01,  8.14187966e-02, -8.58459237e-02,\n",
       "          1.19799605e-01, -6.60105101e-02,  3.60872866e-01,\n",
       "          2.69015823e-01, -2.31476665e-01,  3.32539439e-01,\n",
       "         -2.12328162e-01],\n",
       "        [-1.54417871e-04, -4.86288235e-02, -5.25886881e-03,\n",
       "          3.06023742e-02,  3.39633815e-02, -2.29534983e-02,\n",
       "          3.92006275e-04, -2.77924482e-02,  9.81921046e-04,\n",
       "          4.41286891e-02],\n",
       "        [ 5.23931193e-02,  3.15189374e-01,  1.19713817e-01,\n",
       "          3.85177488e-01,  1.69050904e-01, -3.05263892e-01,\n",
       "         -2.89452695e-01, -2.96363764e-01,  2.53904336e-02,\n",
       "          3.48320787e-02],\n",
       "        [ 4.39316242e-02,  2.16189166e-01, -3.29765358e-01,\n",
       "         -5.54879414e-02, -2.89850915e-01, -7.24363953e-02,\n",
       "          4.59747452e-02,  1.99317899e-01, -1.95533914e-01,\n",
       "          1.02214814e-01],\n",
       "        [ 5.08001718e-03, -3.10841358e-01,  5.42107647e-02,\n",
       "         -3.42760397e-01,  2.85837016e-02, -9.86560619e-02,\n",
       "          7.64816024e-02,  3.37124461e-01,  1.01574675e-02,\n",
       "         -2.91108487e-01],\n",
       "        [-2.21246339e-01,  4.58550735e-02,  3.05209206e-01,\n",
       "         -1.32046722e-01,  5.93827928e-02, -1.55526589e-01,\n",
       "         -2.02450085e-01,  3.27662244e-01, -1.21402122e-01,\n",
       "         -1.21499664e-01],\n",
       "        [ 3.46020426e-02, -2.07761467e-01, -5.19829669e-02,\n",
       "          1.40101576e-02,  2.22835488e-02, -1.73516989e-03,\n",
       "          4.49135890e-02, -7.51806496e-02, -5.88128947e-03,\n",
       "         -9.08749811e-02],\n",
       "        [ 2.13501791e-01, -9.78125519e-02, -6.64860555e-02,\n",
       "         -7.27372618e-02,  1.63847435e-01,  1.96834576e-01,\n",
       "          2.99816918e-02, -4.67740548e-02, -1.47400248e-01,\n",
       "         -1.62078641e-01],\n",
       "        [-2.35695484e-01, -2.66328737e-02,  4.95066461e-02,\n",
       "          1.54244030e-01,  7.43635841e-02,  3.23909720e-01,\n",
       "          1.47345211e-01,  1.42163220e-01, -5.67267602e-02,\n",
       "         -2.70906596e-01],\n",
       "        [ 2.10662398e-01, -4.54609778e-02,  1.45977686e-01,\n",
       "         -2.15032093e-01,  1.98551723e-01, -3.05155802e-01,\n",
       "         -2.67143539e-01,  3.50610005e-01, -3.80846503e-01,\n",
       "          4.23190283e-02],\n",
       "        [ 6.46719569e-02,  2.43343939e-01,  4.08684963e-02,\n",
       "         -6.38518010e-02,  3.28309150e-01, -2.47470367e-01,\n",
       "         -3.74089786e-02,  2.13445067e-01,  9.50406456e-02,\n",
       "         -2.18557367e-01],\n",
       "        [-5.05353403e-02,  2.11463523e-01,  5.08924167e-02,\n",
       "          3.47097253e-01,  1.34466393e-01,  1.16142241e-01,\n",
       "          1.10430267e-01,  1.16375694e-01,  1.32642612e-01,\n",
       "         -2.51293936e-01],\n",
       "        [ 7.94338685e-02, -1.66000488e-01, -2.86439067e-01,\n",
       "          2.80402703e-01, -1.57435969e-01,  9.87031549e-02,\n",
       "          2.12662188e-01, -2.12990299e-01,  1.11599178e-01,\n",
       "         -1.07803476e-02],\n",
       "        [ 6.92818264e-02, -6.75360907e-02,  7.01448229e-02,\n",
       "         -3.74950184e-01,  2.16663371e-01, -3.14654954e-01,\n",
       "         -3.47942895e-01,  3.02101264e-01, -2.64945938e-02,\n",
       "         -1.34229941e-02],\n",
       "        [-7.50595929e-02, -3.69147480e-01,  1.54599748e-03,\n",
       "         -1.47614585e-01, -3.10781471e-02, -3.17942088e-01,\n",
       "          4.39334765e-02,  9.77760553e-02, -8.34999167e-02,\n",
       "          3.58106644e-01],\n",
       "        [ 1.02816712e-01,  2.74986446e-01, -1.03171736e-01,\n",
       "          3.17212898e-01, -2.81926866e-01, -1.36965883e-01,\n",
       "         -9.70462321e-02, -3.61852189e-01,  3.23772152e-01,\n",
       "         -7.44073493e-02],\n",
       "        [-6.69799230e-03,  8.41920856e-02, -2.19867276e-05,\n",
       "          5.55505967e-02, -2.10870828e-03,  3.56564776e-02,\n",
       "          2.64330160e-07,  5.17356083e-04, -1.82737758e-06,\n",
       "          2.44706330e-02],\n",
       "        [ 2.09354258e-01, -1.91718053e-01,  3.72318960e-01,\n",
       "         -3.13452404e-01,  4.25303953e-01, -1.61008988e-01,\n",
       "         -3.77267001e-01,  2.42232854e-01, -3.35469622e-01,\n",
       "          6.11285050e-02],\n",
       "        [ 7.84439198e-02, -1.98439694e-01, -2.13834703e-01,\n",
       "          1.93129201e-01, -1.55768781e-01,  8.53697671e-02,\n",
       "          3.54737211e-01, -3.48691689e-01,  4.40809839e-01,\n",
       "         -2.68192246e-01],\n",
       "        [-7.62349636e-02, -3.06146466e-01,  2.91305329e-01,\n",
       "         -1.84014767e-01,  1.70937779e-02, -2.02701675e-01,\n",
       "         -8.65239133e-02,  3.32833507e-01,  2.34879487e-02,\n",
       "          9.73272750e-02],\n",
       "        [ 2.82588706e-02,  2.48222560e-01,  1.01319382e-02,\n",
       "          5.85134070e-02, -2.13749265e-01, -2.98107277e-01,\n",
       "          9.99193705e-02,  1.08215956e-01, -2.81157764e-02,\n",
       "          2.42233276e-01],\n",
       "        [-1.46189127e-01, -4.69791975e-02, -2.07424385e-03,\n",
       "          4.22746026e-01, -3.61189952e-02,  1.44986863e-01,\n",
       "          4.29692539e-01, -5.19761544e-02,  3.60978611e-01,\n",
       "         -2.56110969e-01],\n",
       "        [-5.50566178e-06,  3.17581247e-01, -1.58206183e-01,\n",
       "          4.46800334e-02,  4.70765917e-02, -1.40423580e-01,\n",
       "         -2.25677212e-01,  5.27497397e-02,  3.99936570e-01,\n",
       "         -4.38728241e-02],\n",
       "        [-4.04123826e-02, -1.50268535e-01, -2.88837481e-01,\n",
       "         -1.04627354e-01, -1.98582739e-01,  3.46683650e-01,\n",
       "          2.41025434e-02, -9.63017681e-02,  2.70132418e-01,\n",
       "          1.13572516e-01],\n",
       "        [-2.14837527e-01, -3.08828034e-01, -9.70797477e-02,\n",
       "         -2.54487631e-01,  4.56938814e-02, -3.70507228e-01,\n",
       "         -1.72202476e-01,  1.86335552e-01, -1.56441705e-01,\n",
       "          4.15124701e-01],\n",
       "        [-1.76791088e-01,  2.57506155e-02, -1.44660101e-01,\n",
       "          1.55488985e-01, -1.64182270e-01, -1.20972970e-01,\n",
       "         -1.16845672e-01,  5.12893648e-02, -1.08834596e-01,\n",
       "         -2.42016542e-02],\n",
       "        [-2.10460729e-01, -1.97150789e-01, -2.91538173e-01,\n",
       "         -1.58828084e-02, -6.97308804e-05,  2.97154013e-01,\n",
       "          5.75061434e-02,  2.09714810e-02, -1.02523067e-01,\n",
       "          3.21025971e-01],\n",
       "        [-2.11485219e-01, -2.22574072e-01, -9.78436574e-02,\n",
       "         -2.62196726e-01, -1.38455904e-01, -2.46848833e-01,\n",
       "          2.91213677e-02,  2.28666973e-01, -3.10576156e-01,\n",
       "          4.41821070e-01],\n",
       "        [ 5.22929851e-03,  3.41968704e-01, -3.79671600e-01,\n",
       "         -6.74274575e-03, -2.29019104e-01, -4.41148527e-02,\n",
       "          2.08004137e-01, -3.33575684e-01,  2.81784459e-01,\n",
       "         -1.39513429e-01],\n",
       "        [ 2.01133777e-01,  2.63465892e-02, -1.62796309e-01,\n",
       "          1.93874804e-01, -1.36975664e-01, -1.63902302e-01,\n",
       "         -9.09360893e-02,  1.77565231e-01, -1.43000450e-01,\n",
       "          1.43202199e-01],\n",
       "        [-2.00396937e-01, -3.57908943e-01,  3.66897414e-01,\n",
       "         -1.87635106e-01,  3.56440007e-01, -2.11174790e-01,\n",
       "         -5.12675866e-02,  3.02840101e-01, -3.77044157e-01,\n",
       "         -5.00892177e-02],\n",
       "        [-1.68034438e-01, -2.98815246e-01, -1.23222394e-01,\n",
       "         -1.20052676e-01,  1.31787215e-01, -1.63122189e-01,\n",
       "         -7.76022675e-02, -6.85782997e-02, -8.12506826e-02,\n",
       "          1.39014351e-01],\n",
       "        [ 4.20218600e-02, -8.56630357e-02,  7.79484254e-02,\n",
       "         -1.83066842e-01,  3.40328762e-01, -3.35771542e-01,\n",
       "         -3.09754221e-01,  7.79835964e-02, -2.66750653e-01,\n",
       "         -2.67501700e-01],\n",
       "        [ 2.09726445e-02, -6.69861693e-02, -2.66352578e-01,\n",
       "          1.19475195e-01,  5.46696374e-02, -2.47843815e-01,\n",
       "         -1.73510331e-01,  3.16877619e-01, -1.85183148e-01,\n",
       "          1.76469641e-01],\n",
       "        [-1.72290870e-01,  2.10894447e-01, -2.71929405e-02,\n",
       "          1.39538746e-01,  1.21675146e-02,  9.36741703e-02,\n",
       "         -3.73184161e-01, -1.70010921e-01,  4.04308503e-01,\n",
       "         -3.87189028e-01],\n",
       "        [-1.48783088e-02, -3.30422527e-01,  2.91303416e-01,\n",
       "          3.26485357e-02,  2.57633395e-01,  2.23623633e-01,\n",
       "          2.53237624e-01, -2.49639694e-02,  9.17360924e-02,\n",
       "          1.15135648e-01],\n",
       "        [ 1.47982319e-07, -3.42243173e-01,  1.44029955e-01,\n",
       "         -4.07467956e-01,  3.64299025e-01, -1.51090441e-01,\n",
       "         -1.96948159e-01,  1.97577678e-02, -1.00545731e-01,\n",
       "         -5.44205885e-02],\n",
       "        [ 2.03139966e-01,  2.94568508e-01, -1.61869419e-01,\n",
       "          2.04910068e-01, -1.38913748e-01,  2.76230622e-01,\n",
       "          2.64489342e-01, -1.19509220e-01,  2.03244260e-01,\n",
       "         -3.60673878e-01],\n",
       "        [ 4.93118400e-02,  1.56886048e-01, -3.37240940e-01,\n",
       "          2.24661655e-01, -2.35015952e-02,  1.90255389e-01,\n",
       "          3.81515585e-01, -3.38704867e-01,  2.11217381e-01,\n",
       "         -2.37481657e-01],\n",
       "        [ 7.84100277e-02, -1.57590643e-01,  1.50472984e-01,\n",
       "         -2.15129472e-01,  3.23640704e-01, -3.60155605e-01,\n",
       "         -4.45187896e-02,  3.30732721e-01, -1.74539376e-01,\n",
       "         -2.27957686e-01],\n",
       "        [-7.76219396e-03, -1.86996733e-01,  2.15720166e-01,\n",
       "         -1.04560467e-01,  1.40506418e-01,  1.81967828e-01,\n",
       "          1.30300824e-01,  2.41261166e-01,  1.62918647e-01,\n",
       "         -1.81894354e-01],\n",
       "        [ 7.42690642e-03, -2.26725246e-02, -2.55866548e-02,\n",
       "         -6.14639670e-02, -4.06375066e-02, -3.60957993e-06,\n",
       "         -6.50784367e-02,  9.23715335e-03, -3.33831789e-02,\n",
       "         -5.58699891e-02],\n",
       "        [-1.98463242e-01, -8.74396829e-02, -2.05539903e-01,\n",
       "         -3.51339751e-02, -8.21345600e-02, -1.01302124e-01,\n",
       "         -2.41928322e-01, -1.15241712e-01,  1.20389320e-01,\n",
       "          3.19327697e-01],\n",
       "        [-1.52705401e-01, -1.11863040e-01,  1.29004789e-01,\n",
       "         -3.98052128e-01,  1.34098331e-02, -2.20758545e-01,\n",
       "         -2.33758136e-01,  3.70948982e-01,  1.64923479e-02,\n",
       "          2.76984152e-01],\n",
       "        [ 6.82757328e-02,  1.09902842e-01, -2.06207025e-02,\n",
       "          1.72878674e-01, -6.33672938e-02, -1.29827151e-01,\n",
       "          1.30784717e-01, -6.34979765e-02,  1.74576737e-01,\n",
       "         -2.36585712e-01],\n",
       "        [-8.06752313e-02, -7.72887349e-02, -2.69163422e-01,\n",
       "         -2.99381534e-01, -2.00055232e-01, -4.46287741e-01,\n",
       "         -3.45047687e-01, -8.62810917e-02, -1.58952257e-02,\n",
       "          3.17573036e-01],\n",
       "        [ 1.11264960e-08, -7.23342684e-02,  3.68385313e-01,\n",
       "         -5.39388676e-02,  2.90984274e-01, -6.58718416e-02,\n",
       "         -2.39227136e-01,  2.19179503e-01, -3.44796065e-01,\n",
       "          1.10573031e-01],\n",
       "        [ 1.26104792e-03, -1.35067532e-02,  9.95080312e-03,\n",
       "          6.48217937e-02, -9.35395262e-04,  3.28927929e-02,\n",
       "         -8.42629739e-02, -9.12232863e-03, -1.75759997e-03,\n",
       "          3.01908414e-02],\n",
       "        [-3.79046627e-02, -1.58454463e-03, -1.39178526e-03,\n",
       "         -6.37839559e-02, -1.26019869e-02,  1.20439516e-02,\n",
       "         -2.07513449e-02,  1.51397036e-02,  2.00151721e-07,\n",
       "          5.84306374e-02],\n",
       "        [-1.31045368e-03,  3.37783336e-01, -2.73563585e-02,\n",
       "          4.65276466e-01, -2.13390983e-01,  1.49273511e-02,\n",
       "          9.89681402e-03, -1.34037242e-01,  5.72037610e-02,\n",
       "         -2.52102079e-01],\n",
       "        [-2.38977722e-01,  2.85103576e-01, -2.12042977e-01,\n",
       "          4.90896792e-02, -9.79292778e-02, -2.62628499e-01,\n",
       "          1.30154916e-02,  1.93829862e-01,  5.12696113e-02,\n",
       "         -9.13581115e-02],\n",
       "        [ 3.01415127e-02,  7.04695166e-02, -1.83292284e-01,\n",
       "          4.06704383e-02, -1.68168715e-01, -2.21866496e-01,\n",
       "         -1.72931313e-01,  1.02917488e-02,  2.20609924e-01,\n",
       "          2.30140027e-01],\n",
       "        [-2.28291225e-01, -1.52154825e-01, -2.17440787e-01,\n",
       "         -1.34753314e-01, -5.18756057e-03,  2.34968379e-01,\n",
       "          8.42414439e-03, -1.72310696e-02, -1.23800427e-01,\n",
       "          3.91029118e-01],\n",
       "        [ 2.10820146e-02, -1.87400850e-01, -3.52850787e-01,\n",
       "         -3.35623149e-01, -2.98700458e-01, -4.07602946e-02,\n",
       "          4.18422981e-02,  2.80394623e-01, -4.32887620e-01,\n",
       "          3.46297359e-01],\n",
       "        [-2.09449522e-01,  2.92199976e-01,  1.46661193e-01,\n",
       "         -8.20810221e-02,  2.90039585e-01, -2.65118685e-01,\n",
       "         -4.08491164e-01,  2.32772619e-01,  2.91036396e-01,\n",
       "         -1.21953073e-01],\n",
       "        [-1.16362802e-01,  2.30632005e-01,  4.94272436e-03,\n",
       "         -1.07814339e-01,  9.25520062e-02,  5.23635389e-02,\n",
       "         -1.35865884e-01, -2.27136281e-01,  3.33219045e-01,\n",
       "         -2.63654239e-01],\n",
       "        [ 1.35804472e-01,  1.35444431e-02,  2.54831159e-01,\n",
       "         -3.57194890e-01,  3.52014412e-01, -1.83007643e-01,\n",
       "         -1.65191714e-01,  1.65420135e-01,  1.60729897e-02,\n",
       "         -4.39635482e-02],\n",
       "        [-4.41304927e-02,  1.47360685e-01, -3.94476217e-01,\n",
       "         -2.50042403e-01, -6.82841447e-02, -3.86663335e-01,\n",
       "         -1.69815688e-01,  2.98545138e-01, -3.90501521e-02,\n",
       "          3.08902416e-01],\n",
       "        [-9.53660698e-03, -2.69079637e-01, -7.22168202e-02,\n",
       "         -5.13169059e-02, -2.90426399e-01,  2.80053877e-02,\n",
       "         -1.89966549e-02,  3.12120807e-01,  3.28451541e-02,\n",
       "          3.89476852e-01],\n",
       "        [-1.44070466e-01, -3.59049758e-01,  3.33597479e-01,\n",
       "         -7.20229987e-02,  2.86603203e-01,  2.23754390e-01,\n",
       "          3.41723934e-01,  2.60745821e-02,  4.24331925e-01,\n",
       "         -2.32996957e-01],\n",
       "        [-1.52526487e-01,  1.59072570e-01,  8.63981060e-02,\n",
       "         -1.00933947e-01,  2.97436005e-01, -2.97593258e-01,\n",
       "         -2.49855612e-01, -1.19808577e-01, -8.96603458e-02,\n",
       "          8.08691851e-03],\n",
       "        [ 1.12047252e-01, -1.25603590e-02,  1.42748394e-01,\n",
       "         -1.73989405e-02, -4.29395559e-02, -1.60760619e-01,\n",
       "         -5.62774455e-02,  3.90714657e-02,  1.77380269e-01,\n",
       "         -1.41817663e-01],\n",
       "        [-1.00393825e-01, -6.93948518e-02, -1.61627121e-01,\n",
       "         -1.78037461e-01, -2.63268108e-01,  2.46915505e-01,\n",
       "          2.50072927e-01,  2.36938972e-01, -9.36285606e-02,\n",
       "          2.19055436e-01],\n",
       "        [-4.35260303e-02,  1.37619750e-01, -3.58115334e-01,\n",
       "          2.52313254e-01, -7.13050902e-03, -2.98353041e-01,\n",
       "         -3.13001747e-02, -3.50293081e-01,  2.44188725e-01,\n",
       "         -2.08440046e-01],\n",
       "        [-1.33106937e-01, -2.51841756e-01, -1.60182655e-01,\n",
       "         -2.80376744e-01, -1.09083357e-01,  2.88303477e-02,\n",
       "          1.06745134e-01,  2.75275277e-01, -3.24556672e-01,\n",
       "          1.23078434e-01],\n",
       "        [ 7.98202808e-02,  9.60867904e-02,  3.36216357e-01,\n",
       "          2.06353481e-01,  2.62742263e-01, -1.85824288e-01,\n",
       "         -1.34250651e-01,  1.28293280e-01,  1.11375754e-01,\n",
       "         -2.63520024e-01],\n",
       "        [ 1.32047575e-01,  2.41584413e-01, -1.37077857e-01,\n",
       "         -8.89934505e-03, -3.55550243e-01, -1.53207261e-01,\n",
       "         -1.61118721e-02,  1.50727086e-02,  3.15333775e-01,\n",
       "          1.34471638e-01],\n",
       "        [-1.86364734e-01,  1.50402890e-01,  2.34612900e-01,\n",
       "          2.92822629e-01,  1.80621791e-01, -6.97708362e-02,\n",
       "          1.43657335e-01,  1.09852995e-01,  2.94930770e-01,\n",
       "          5.59900929e-02],\n",
       "        [-2.72248770e-03,  3.68099273e-01, -2.68331550e-01,\n",
       "          3.10818776e-01, -3.55291339e-01,  8.59836091e-02,\n",
       "         -2.96086242e-02, -9.85900769e-02,  2.26781743e-01,\n",
       "          3.65327869e-01],\n",
       "        [-1.19010208e-01,  3.37521293e-01, -2.12687269e-01,\n",
       "         -1.15911483e-01, -2.84162226e-01, -3.36537680e-01,\n",
       "         -3.28824153e-01,  1.84097791e-01,  2.93558900e-01,\n",
       "          8.50953332e-02],\n",
       "        [-6.94605679e-02, -3.96721279e-01,  3.08652241e-02,\n",
       "         -4.13177518e-02, -9.88005074e-02,  3.24627744e-01,\n",
       "          1.64052011e-01, -7.50002865e-02,  1.96596382e-01,\n",
       "         -3.03559425e-02],\n",
       "        [-8.83704473e-02,  1.79720842e-01, -2.46017146e-01,\n",
       "          3.15270075e-01, -2.21381430e-01, -7.81775983e-02,\n",
       "          1.88684577e-01,  2.12795661e-02,  1.13712884e-01,\n",
       "         -2.07917248e-01],\n",
       "        [ 5.64360155e-03,  3.43915916e-01, -1.31316575e-01,\n",
       "          3.32955374e-01, -3.06075620e-01, -6.84945091e-02,\n",
       "          6.55074048e-02, -2.54131556e-01,  2.22491449e-01,\n",
       "         -1.64422279e-01],\n",
       "        [-1.73398438e-04,  6.63044141e-02, -1.52425291e-01,\n",
       "          2.75315182e-01, -2.73124875e-01, -3.85611678e-01,\n",
       "         -3.53682937e-01,  1.00948612e-01,  2.48424920e-01,\n",
       "          1.11708119e-01],\n",
       "        [ 1.49171896e-01,  9.42509886e-02, -8.05085847e-03,\n",
       "          1.71807907e-01, -1.04605446e-01,  1.98457736e-01,\n",
       "          4.13116139e-01, -1.38706832e-01,  4.75152563e-01,\n",
       "         -1.91882637e-01]]),\n",
       " array([[ 0.27713456],\n",
       "        [-0.80254944],\n",
       "        [ 0.77643089],\n",
       "        [-0.40752663],\n",
       "        [ 0.39708455],\n",
       "        [-0.72819817],\n",
       "        [-0.34751824],\n",
       "        [ 0.48995736],\n",
       "        [-0.2563532 ],\n",
       "        [ 0.86468697]])]"
      ]
     },
     "execution_count": 97,
     "metadata": {},
     "output_type": "execute_result"
    }
   ],
   "source": [
    "model_pctr2.coefs_"
   ]
  },
  {
   "cell_type": "code",
   "execution_count": 102,
   "metadata": {},
   "outputs": [
    {
     "data": {
      "text/plain": [
       "3"
      ]
     },
     "execution_count": 102,
     "metadata": {},
     "output_type": "execute_result"
    }
   ],
   "source": [
    "len(model_pctr2.coefs_)"
   ]
  },
  {
   "cell_type": "code",
   "execution_count": 122,
   "metadata": {
    "scrolled": true
   },
   "outputs": [
    {
     "name": "stdout",
     "output_type": "stream",
     "text": [
      "hidden_layer_0_weight_no: (2, 100)\n",
      "hidden_layer_1_weight_no: (100, 10)\n",
      "hidden_layer_2_weight_no: (10, 1)\n"
     ]
    }
   ],
   "source": [
    "#각 층의 coef 개수\n",
    "for i, coef in enumerate(model_pctr2.coefs_):\n",
    "    print('hidden_layer_{}_weight_no: {}'.format(i, coef.shape))"
   ]
  },
  {
   "cell_type": "code",
   "execution_count": 100,
   "metadata": {},
   "outputs": [
    {
     "data": {
      "text/plain": [
       "[array([-1.23736104e-03, -2.29566643e-01, -7.19091819e-03,  4.06172378e-02,\n",
       "         1.57294286e-01, -2.69285177e-04,  1.62221900e-01, -1.32496705e-01,\n",
       "        -3.11743866e-02,  2.11299416e-01,  9.75121479e-02,  2.25921153e-01,\n",
       "         6.67592957e-02,  2.95706315e-01,  2.86703124e-01,  3.45661415e-01,\n",
       "         1.35818354e-01,  2.73172614e-01, -1.89968777e-02, -6.42366256e-02,\n",
       "        -1.08503722e-01, -1.45846221e-01,  1.66475433e-01,  5.68503623e-02,\n",
       "         1.06882315e-01,  1.08651379e-01, -2.41054782e-01,  2.11947526e-01,\n",
       "         3.10938592e-01,  8.15167468e-03,  1.19717485e-02, -2.05164644e-01,\n",
       "         1.33828614e-01,  2.98156765e-01, -6.07115171e-03,  1.18277221e-01,\n",
       "         2.56603414e-01,  3.18819438e-02, -1.15479640e-02,  1.22739124e-02,\n",
       "         2.92543306e-02, -2.11524550e-01, -3.10556308e-02,  2.34678551e-02,\n",
       "        -2.47553664e-02,  2.67692274e-01,  8.55972025e-02,  1.31499460e-01,\n",
       "         2.79929137e-01,  9.18702214e-03, -2.10707737e-01,  3.33930730e-01,\n",
       "         4.25470621e-02, -8.28172318e-02, -2.12637864e-01, -6.03937178e-03,\n",
       "        -2.60840578e-02, -2.61716166e-03,  1.24096066e-01,  1.09451786e-01,\n",
       "         4.25089271e-01, -1.09361498e-02,  6.44582593e-02,  7.91899111e-02,\n",
       "        -8.50467498e-03,  2.02479159e-01, -2.19217270e-01,  1.15160165e-01,\n",
       "         1.16160138e-02,  1.66852729e-01,  2.37486766e-02, -2.78590929e-02,\n",
       "        -1.63249748e-01, -2.13940108e-01, -7.35621387e-02,  1.91648583e-01,\n",
       "         1.65607198e-01,  1.28162071e-01,  6.43416004e-02,  1.61202948e-01,\n",
       "         2.76564431e-01, -2.73413507e-01,  3.85484557e-02,  2.53641775e-01,\n",
       "         3.62928276e-01,  2.84539897e-01, -2.21025183e-01,  2.36266685e-01,\n",
       "        -4.90261460e-02,  5.07385667e-02,  1.62589055e-01,  2.12809289e-01,\n",
       "         3.00122179e-01,  3.29629524e-01,  3.10334783e-01,  3.00097959e-01,\n",
       "        -2.59631384e-02, -6.77049318e-02,  1.31573660e-01,  6.21356946e-02]),\n",
       " array([ 0.20198024, -0.0443622 ,  0.17408128,  0.26106874,  0.06373811,\n",
       "         0.14272029,  0.15947168, -0.02484352,  0.2853552 , -0.13606824]),\n",
       " array([0.27622821])]"
      ]
     },
     "execution_count": 100,
     "metadata": {},
     "output_type": "execute_result"
    }
   ],
   "source": [
    "model_pctr2.intercepts_"
   ]
  },
  {
   "cell_type": "code",
   "execution_count": 109,
   "metadata": {},
   "outputs": [
    {
     "name": "stdout",
     "output_type": "stream",
     "text": [
      "hidden_layer_0_weight_no: (100,)\n",
      "hidden_layer_1_weight_no: (10,)\n",
      "hidden_layer_2_weight_no: (1,)\n"
     ]
    }
   ],
   "source": [
    "#각 층의 bias 개수\n",
    "for i, bias in enumerate(model_pctr2.intercepts_):\n",
    "    print('hidden_layer_{}_weight_no: {}'.format(i, bias.shape))"
   ]
  },
  {
   "cell_type": "code",
   "execution_count": 110,
   "metadata": {},
   "outputs": [
    {
     "data": {
      "text/plain": [
       "200"
      ]
     },
     "execution_count": 110,
     "metadata": {},
     "output_type": "execute_result"
    }
   ],
   "source": [
    "#학습하는 동안 optimization 반복 횟수\n",
    "model_pctr2.n_iter_"
   ]
  },
  {
   "cell_type": "code",
   "execution_count": 112,
   "metadata": {},
   "outputs": [
    {
     "data": {
      "text/plain": [
       "4"
      ]
     },
     "execution_count": 112,
     "metadata": {},
     "output_type": "execute_result"
    }
   ],
   "source": [
    "#layer 개수\n",
    "model_pctr2.n_layers_"
   ]
  },
  {
   "cell_type": "code",
   "execution_count": 113,
   "metadata": {
    "scrolled": true
   },
   "outputs": [
    {
     "data": {
      "text/plain": [
       "1"
      ]
     },
     "execution_count": 113,
     "metadata": {},
     "output_type": "execute_result"
    }
   ],
   "source": [
    "#output node 수\n",
    "model_pctr2.n_outputs_"
   ]
  },
  {
   "cell_type": "code",
   "execution_count": 129,
   "metadata": {},
   "outputs": [],
   "source": [
    "#graph, dataset 확장 패키지\n",
    "import mglearn\n",
    "\n",
    "def result_visualization(model, X, y):\n",
    "    mglearn.plots.plot_2d_separator(model, X,\n",
    "                                    fill=True, alpha=.1)\n",
    "    mglearn.discrete_scatter(X[:, 0], X[:, 1], y)"
   ]
  },
  {
   "cell_type": "code",
   "execution_count": 149,
   "metadata": {},
   "outputs": [
    {
     "name": "stderr",
     "output_type": "stream",
     "text": [
      "C:\\ProgramData\\Anaconda3\\envs\\finance\\lib\\site-packages\\sklearn\\neural_network\\multilayer_perceptron.py:562: ConvergenceWarning: Stochastic Optimizer: Maximum iterations (200) reached and the optimization hasn't converged yet.\n",
      "  % self.max_iter, ConvergenceWarning)\n"
     ]
    },
    {
     "data": {
      "image/png": "[encoded data removed]",
      "text/plain": [
       "<Figure size 432x288 with 1 Axes>"
      ]
     },
     "metadata": {},
     "output_type": "display_data"
    }
   ],
   "source": [
    "model_1 = MLPClassifier(hidden_layer_sizes=(10, 5)).fit(X_train,\n",
    "                                                          y_train)\n",
    "result_visualization(model_1, X_train, y_train)"
   ]
  },
  {
   "cell_type": "markdown",
   "metadata": {},
   "source": [
    "parameter를 바꿔가며 결과를 시각화해서 비교해보자."
   ]
  },
  {
   "cell_type": "code",
   "execution_count": 154,
   "metadata": {},
   "outputs": [
    {
     "name": "stderr",
     "output_type": "stream",
     "text": [
      "C:\\ProgramData\\Anaconda3\\envs\\finance\\lib\\site-packages\\sklearn\\neural_network\\multilayer_perceptron.py:562: ConvergenceWarning: Stochastic Optimizer: Maximum iterations (200) reached and the optimization hasn't converged yet.\n",
      "  % self.max_iter, ConvergenceWarning)\n"
     ]
    },
    {
     "data": {
      "image/png": "[encoded data removed]",
      "text/plain": [
       "<Figure size 432x288 with 1 Axes>"
      ]
     },
     "metadata": {},
     "output_type": "display_data"
    }
   ],
   "source": [
    "model_2 = MLPClassifier(hidden_layer_sizes=(10, 5),\n",
    "                     activation='tanh').fit(X_train, y_train)\n",
    "result_visualization(model_2, X_train, y_train)"
   ]
  },
  {
   "cell_type": "markdown",
   "metadata": {},
   "source": [
    "relu 와 tanh의 비교\n",
    "- tanh 의 decision boundary 가 더 부드럽다."
   ]
  },
  {
   "cell_type": "markdown",
   "metadata": {},
   "source": [
    "- relu의 decision boundary를 부드럽게 만들고 싶다면?   \n",
    "층과 층의 노드 수를 늘리자. "
   ]
  },
  {
   "cell_type": "code",
   "execution_count": 156,
   "metadata": {},
   "outputs": [
    {
     "name": "stderr",
     "output_type": "stream",
     "text": [
      "C:\\ProgramData\\Anaconda3\\envs\\finance\\lib\\site-packages\\sklearn\\neural_network\\multilayer_perceptron.py:562: ConvergenceWarning: Stochastic Optimizer: Maximum iterations (200) reached and the optimization hasn't converged yet.\n",
      "  % self.max_iter, ConvergenceWarning)\n"
     ]
    },
    {
     "data": {
      "image/png": "[encoded data removed]",
      "text/plain": [
       "<Figure size 432x288 with 1 Axes>"
      ]
     },
     "metadata": {},
     "output_type": "display_data"
    }
   ],
   "source": [
    "model_3 = MLPClassifier(hidden_layer_sizes=(10, 10, 5)).fit(X_train,\n",
    "                                                          y_train)\n",
    "result_visualization(model_3, X_train, y_train)"
   ]
  },
  {
   "cell_type": "code",
   "execution_count": 157,
   "metadata": {},
   "outputs": [
    {
     "name": "stderr",
     "output_type": "stream",
     "text": [
      "C:\\ProgramData\\Anaconda3\\envs\\finance\\lib\\site-packages\\sklearn\\neural_network\\multilayer_perceptron.py:562: ConvergenceWarning: Stochastic Optimizer: Maximum iterations (200) reached and the optimization hasn't converged yet.\n",
      "  % self.max_iter, ConvergenceWarning)\n"
     ]
    },
    {
     "data": {
      "image/png": "[encoded data removed]",
      "text/plain": [
       "<Figure size 432x288 with 1 Axes>"
      ]
     },
     "metadata": {},
     "output_type": "display_data"
    }
   ],
   "source": [
    "model_4 = MLPClassifier(hidden_layer_sizes=(10, 10, 5),\n",
    "                       activation='logistic').fit(X_train, y_train)\n",
    "result_visualization(model_4, X_train, y_train)"
   ]
  },
  {
   "cell_type": "code",
   "execution_count": 159,
   "metadata": {},
   "outputs": [
    {
     "data": {
      "image/png": "[encoded data removed]",
      "text/plain": [
       "<Figure size 432x288 with 1 Axes>"
      ]
     },
     "metadata": {},
     "output_type": "display_data"
    }
   ],
   "source": [
    "model_5 = MLPClassifier(hidden_layer_sizes=(10, 10, 5),\n",
    "                       activation='logistic',\n",
    "                       solver='lbfgs').fit(X_train, y_train)\n",
    "result_visualization(model_5, X_train, y_train)"
   ]
  },
  {
   "cell_type": "markdown",
   "metadata": {},
   "source": [
    "activation을 logistic으로 할때는 \n",
    "solver가 adam보다 lbfgs가 더 낫다."
   ]
  },
  {
   "cell_type": "code",
   "execution_count": 171,
   "metadata": {},
   "outputs": [
    {
     "name": "stderr",
     "output_type": "stream",
     "text": [
      "C:\\ProgramData\\Anaconda3\\envs\\finance\\lib\\site-packages\\sklearn\\neural_network\\multilayer_perceptron.py:562: ConvergenceWarning: Stochastic Optimizer: Maximum iterations (200) reached and the optimization hasn't converged yet.\n",
      "  % self.max_iter, ConvergenceWarning)\n"
     ]
    },
    {
     "data": {
      "image/png": "[encoded data removed]",
      "text/plain": [
       "<Figure size 432x288 with 1 Axes>"
      ]
     },
     "metadata": {},
     "output_type": "display_data"
    }
   ],
   "source": [
    "model_6 = MLPClassifier(hidden_layer_sizes=(10),\n",
    "                       activation='relu',\n",
    "                       alpha=1).fit(X_train, y_train)\n",
    "result_visualization(model_6, X_train, y_train)"
   ]
  },
  {
   "cell_type": "code",
   "execution_count": 172,
   "metadata": {},
   "outputs": [
    {
     "name": "stderr",
     "output_type": "stream",
     "text": [
      "C:\\ProgramData\\Anaconda3\\envs\\finance\\lib\\site-packages\\sklearn\\neural_network\\multilayer_perceptron.py:562: ConvergenceWarning: Stochastic Optimizer: Maximum iterations (200) reached and the optimization hasn't converged yet.\n",
      "  % self.max_iter, ConvergenceWarning)\n"
     ]
    },
    {
     "data": {
      "image/png": "[encoded data removed]",
      "text/plain": [
       "<Figure size 432x288 with 1 Axes>"
      ]
     },
     "metadata": {},
     "output_type": "display_data"
    }
   ],
   "source": [
    "model_6 = MLPClassifier(hidden_layer_sizes=(10),\n",
    "                       activation='relu',\n",
    "                       alpha=10).fit(X_train, y_train)\n",
    "result_visualization(model_6, X_train, y_train)"
   ]
  },
  {
   "cell_type": "code",
   "execution_count": 173,
   "metadata": {},
   "outputs": [
    {
     "name": "stderr",
     "output_type": "stream",
     "text": [
      "C:\\ProgramData\\Anaconda3\\envs\\finance\\lib\\site-packages\\sklearn\\neural_network\\multilayer_perceptron.py:562: ConvergenceWarning: Stochastic Optimizer: Maximum iterations (200) reached and the optimization hasn't converged yet.\n",
      "  % self.max_iter, ConvergenceWarning)\n"
     ]
    },
    {
     "data": {
      "image/png": "[encoded data removed]",
      "text/plain": [
       "<Figure size 432x288 with 1 Axes>"
      ]
     },
     "metadata": {},
     "output_type": "display_data"
    }
   ],
   "source": [
    "model_6 = MLPClassifier(hidden_layer_sizes=(10),\n",
    "                       activation='relu',\n",
    "                       alpha=100).fit(X_train, y_train)\n",
    "result_visualization(model_6, X_train, y_train)"
   ]
  },
  {
   "cell_type": "markdown",
   "metadata": {},
   "source": [
    "alpha를 크게 줄 수록 (규제를 강하게 할 수록)  \n",
    "decision boundary는 각이 진다."
   ]
  }
 ],
 "metadata": {
  "kernelspec": {
   "display_name": "Python 3",
   "language": "python",
   "name": "python3"
  },
  "language_info": {
   "codemirror_mode": {
    "name": "ipython",
    "version": 3
   },
   "file_extension": ".py",
   "mimetype": "text/x-python",
   "name": "python",
   "nbconvert_exporter": "python",
   "pygments_lexer": "ipython3",
   "version": "3.6.4"
  }
 },
 "nbformat": 4,
 "nbformat_minor": 2
}
