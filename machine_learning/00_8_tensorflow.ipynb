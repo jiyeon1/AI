{
 "cells": [
  {
   "cell_type": "code",
   "execution_count": 1,
   "metadata": {},
   "outputs": [],
   "source": [
    "import tensorflow as tf"
   ]
  },
  {
   "cell_type": "markdown",
   "metadata": {},
   "source": [
    "#### tensor  (변수)\n",
    "numpy에 ndarray라면, tensorflow에서는 tensor다.  \n",
    "data 의 기본 단위가 tensor라고 생각하자.  \n",
    "구조는 ndarray와 동일하다. 즉, 배열 형태이다.  "
   ]
  },
  {
   "cell_type": "code",
   "execution_count": 2,
   "metadata": {},
   "outputs": [
    {
     "data": {
      "text/plain": [
       "<tf.Variable 'Variable:0' shape=() dtype=int32_ref>"
      ]
     },
     "execution_count": 2,
     "metadata": {},
     "output_type": "execute_result"
    }
   ],
   "source": [
    "var = tf.Variable(5)   #update 가능 = 변수\n",
    "var"
   ]
  },
  {
   "cell_type": "code",
   "execution_count": 4,
   "metadata": {},
   "outputs": [
    {
     "data": {
      "text/plain": [
       "<tf.Tensor 'Const_1:0' shape=() dtype=int32>"
      ]
     },
     "execution_count": 4,
     "metadata": {},
     "output_type": "execute_result"
    }
   ],
   "source": [
    "con = tf.constant(5)  #update 불가 = 상수\n",
    "con"
   ]
  },
  {
   "cell_type": "code",
   "execution_count": 5,
   "metadata": {},
   "outputs": [
    {
     "data": {
      "text/plain": [
       "<tf.Tensor 'add:0' shape=() dtype=int32>"
      ]
     },
     "execution_count": 5,
     "metadata": {},
     "output_type": "execute_result"
    }
   ],
   "source": [
    "add = var + con #tf.add(var, con)\n",
    "add"
   ]
  },
  {
   "cell_type": "code",
   "execution_count": 30,
   "metadata": {},
   "outputs": [
    {
     "data": {
      "text/plain": [
       "<tf.Tensor 'pow_2:0' shape=() dtype=int32>"
      ]
     },
     "execution_count": 30,
     "metadata": {},
     "output_type": "execute_result"
    }
   ],
   "source": [
    "squar = add**2\n",
    "squar"
   ]
  },
  {
   "cell_type": "markdown",
   "metadata": {},
   "source": [
    "var 와 con의 차이는 뭘까?  \n",
    "var는 변형가능, con은 변형 불가능하다.  \n",
    "무슨 말일까? 한번 살펴보자."
   ]
  },
  {
   "cell_type": "code",
   "execution_count": 27,
   "metadata": {},
   "outputs": [],
   "source": [
    "init = tf.global_variables_initializer()    #variable에 꼭 필요!!"
   ]
  },
  {
   "cell_type": "code",
   "execution_count": 28,
   "metadata": {},
   "outputs": [],
   "source": [
    "assign = tf.assign(var, 10) #var <- 10 변형"
   ]
  },
  {
   "cell_type": "raw",
   "metadata": {},
   "source": [
    "assign = tf.assign(con, 10) #con <- 10 변형"
   ]
  },
  {
   "cell_type": "markdown",
   "metadata": {},
   "source": [
    "#### session : build 따로 run 따로"
   ]
  },
  {
   "cell_type": "markdown",
   "metadata": {},
   "source": [
    "var에 5를 넣고, var을 출력해봤더니, 5가 안나온다. 이상하지 않은가.  \n",
    "바로 이부분이 tensorflow의 핵심포인트다.  \n",
    "바로 build와 run을 구분해놓았다는 점!!"
   ]
  },
  {
   "cell_type": "markdown",
   "metadata": {},
   "source": [
    "##### tensor들의 graph형태로 이루어져 있다. "
   ]
  },
  {
   "cell_type": "code",
   "execution_count": 29,
   "metadata": {},
   "outputs": [
    {
     "name": "stdout",
     "output_type": "stream",
     "text": [
      "con: 5\n",
      "var: 5\n",
      "10\n",
      "100\n",
      "10\n",
      "225\n",
      "after assign, var: 10\n"
     ]
    }
   ],
   "source": [
    "sess = tf.Session() #스위치 공사\n",
    "sess.run(init)\n",
    "\n",
    "print('con:', sess.run(con))\n",
    "print('var:', sess.run(var))\n",
    "\n",
    "print(sess.run(add)) \n",
    "print(sess.run(squar))    #add = 5+5 = 10  ; 100\n",
    "\n",
    "print(sess.run(assign))  #이 버튼을 눌러야 var =10으로 바뀜\n",
    "print(sess.run(squar))   # add = 10+5  =15 ; 225\n",
    "\n",
    "print('after assign, var:', sess.run(var))\n",
    "sess.close()"
   ]
  },
  {
   "cell_type": "code",
   "execution_count": 22,
   "metadata": {},
   "outputs": [
    {
     "name": "stdout",
     "output_type": "stream",
     "text": [
      "con: 5\n",
      "var: 5\n",
      "10\n",
      "10\n",
      "after assign, var: 10\n"
     ]
    }
   ],
   "source": [
    "with tf.Session() as sess:#스위치 공사\n",
    "    sess.run(init)\n",
    "\n",
    "    print('con:', sess.run(con))\n",
    "    print('var:', sess.run(var))\n",
    "\n",
    "    print(sess.run(add))\n",
    "\n",
    "    print(sess.run(assign))\n",
    "\n",
    "    print('after assign, var:', sess.run(var))"
   ]
  },
  {
   "cell_type": "markdown",
   "metadata": {},
   "source": [
    "### place holder "
   ]
  },
  {
   "cell_type": "code",
   "execution_count": 40,
   "metadata": {},
   "outputs": [],
   "source": [
    "X=tf.placeholder(tf.float32)\n",
    "y=tf.placeholder(\"float32\")\n",
    "\n",
    "w=tf.Variable(tf.random_normal([1]))\n",
    "hypo = w*X   # x에 아무것도 없지만 곱하기 가능=그냥 그래프 그려놓는것\n",
    "err = tf.subtract(hypo,y)"
   ]
  },
  {
   "cell_type": "code",
   "execution_count": 47,
   "metadata": {},
   "outputs": [
    {
     "name": "stdout",
     "output_type": "stream",
     "text": [
      "[-4.8615437] - y = [-14.861544]\n"
     ]
    }
   ],
   "source": [
    "with tf.Session() as sess:\n",
    "    sess.run(tf.global_variables_initializer())\n",
    "             \n",
    "    error = sess.run(err, {X: 5, y: 10})\n",
    "    hypothes = sess.run(hypo, {X: 5, y : 10})\n",
    "    print (hypothes, '-', 'y','=', error )"
   ]
  },
  {
   "cell_type": "code",
   "execution_count": null,
   "metadata": {},
   "outputs": [],
   "source": []
  }
 ],
 "metadata": {
  "kernelspec": {
   "display_name": "Python 3",
   "language": "python",
   "name": "python3"
  },
  "language_info": {
   "codemirror_mode": {
    "name": "ipython",
    "version": 3
   },
   "file_extension": ".py",
   "mimetype": "text/x-python",
   "name": "python",
   "nbconvert_exporter": "python",
   "pygments_lexer": "ipython3",
   "version": "3.7.3"
  }
 },
 "nbformat": 4,
 "nbformat_minor": 2
}
